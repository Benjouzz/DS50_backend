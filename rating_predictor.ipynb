{
 "cells": [
  {
   "cell_type": "markdown",
   "metadata": {},
   "source": [
    "# DS50 Rating Predictor"
   ]
  },
  {
   "cell_type": "code",
   "execution_count": 100,
   "metadata": {},
   "outputs": [
    {
     "name": "stderr",
     "output_type": "stream",
     "text": [
      "[nltk_data] Downloading package punkt to\n",
      "[nltk_data]     C:\\Users\\benja\\AppData\\Roaming\\nltk_data...\n",
      "[nltk_data]   Package punkt is already up-to-date!\n"
     ]
    }
   ],
   "source": [
    "import pandas as pd\n",
    "import numpy as np\n",
    "\n",
    "import seaborn as sns\n",
    "import matplotlib.pyplot as plt\n",
    "import scipy as sp\n",
    "\n",
    "import math\n",
    "\n",
    "import nltk\n",
    "nltk.download('punkt')\n",
    "\n",
    "sns.set_theme(style=\"darkgrid\")"
   ]
  },
  {
   "cell_type": "code",
   "execution_count": 101,
   "metadata": {},
   "outputs": [],
   "source": [
    "import mysql.connector"
   ]
  },
  {
   "cell_type": "code",
   "execution_count": 102,
   "metadata": {},
   "outputs": [
    {
     "name": "stdout",
     "output_type": "stream",
     "text": [
      "(10000, 9)\n"
     ]
    },
    {
     "data": {
      "text/html": [
       "<div>\n",
       "<style scoped>\n",
       "    .dataframe tbody tr th:only-of-type {\n",
       "        vertical-align: middle;\n",
       "    }\n",
       "\n",
       "    .dataframe tbody tr th {\n",
       "        vertical-align: top;\n",
       "    }\n",
       "\n",
       "    .dataframe thead th {\n",
       "        text-align: right;\n",
       "    }\n",
       "</style>\n",
       "<table border=\"1\" class=\"dataframe\">\n",
       "  <thead>\n",
       "    <tr style=\"text-align: right;\">\n",
       "      <th></th>\n",
       "      <th>review_id</th>\n",
       "      <th>user_id</th>\n",
       "      <th>book_id</th>\n",
       "      <th>rating</th>\n",
       "      <th>review_text</th>\n",
       "      <th>date_added</th>\n",
       "      <th>started_at</th>\n",
       "      <th>n_votes</th>\n",
       "      <th>n_comments</th>\n",
       "    </tr>\n",
       "  </thead>\n",
       "  <tbody>\n",
       "    <tr>\n",
       "      <th>0</th>\n",
       "      <td>0000f2fa08114079d9d7215bc5e754d2</td>\n",
       "      <td>155648</td>\n",
       "      <td>24817626</td>\n",
       "      <td>1</td>\n",
       "      <td>I reread To Kill a Mockingbird prior to readin...</td>\n",
       "      <td>2015-04-25 11:36:35</td>\n",
       "      <td>2016-08-13 07:00:00</td>\n",
       "      <td>1</td>\n",
       "      <td>0</td>\n",
       "    </tr>\n",
       "    <tr>\n",
       "      <th>1</th>\n",
       "      <td>00086204557677e4f3c5225096510623</td>\n",
       "      <td>111795</td>\n",
       "      <td>17332969</td>\n",
       "      <td>1</td>\n",
       "      <td>This was so bad, seriously I finished it becau...</td>\n",
       "      <td>2014-11-15 05:45:11</td>\n",
       "      <td>2015-02-15 08:00:00</td>\n",
       "      <td>0</td>\n",
       "      <td>0</td>\n",
       "    </tr>\n",
       "    <tr>\n",
       "      <th>2</th>\n",
       "      <td>00148dbc65dcac4ae7063297d5c31d87</td>\n",
       "      <td>432685</td>\n",
       "      <td>15745753</td>\n",
       "      <td>1</td>\n",
       "      <td>Probably the worst book I have read in my life...</td>\n",
       "      <td>2016-02-22 09:42:42</td>\n",
       "      <td>2016-02-22 08:00:00</td>\n",
       "      <td>1</td>\n",
       "      <td>0</td>\n",
       "    </tr>\n",
       "    <tr>\n",
       "      <th>3</th>\n",
       "      <td>00165a73ba617b652f0e58628f159155</td>\n",
       "      <td>492</td>\n",
       "      <td>16085517</td>\n",
       "      <td>1</td>\n",
       "      <td>This book takes a lot of interesting events/ac...</td>\n",
       "      <td>2013-08-02 19:20:13</td>\n",
       "      <td>2013-08-02 07:00:00</td>\n",
       "      <td>0</td>\n",
       "      <td>0</td>\n",
       "    </tr>\n",
       "    <tr>\n",
       "      <th>4</th>\n",
       "      <td>0016cbf252b1633d8444158cd9ee47d2</td>\n",
       "      <td>10309</td>\n",
       "      <td>16068905</td>\n",
       "      <td>1</td>\n",
       "      <td>I put off reading the last few chapters for so...</td>\n",
       "      <td>2013-04-16 09:20:26</td>\n",
       "      <td>NaT</td>\n",
       "      <td>4</td>\n",
       "      <td>1</td>\n",
       "    </tr>\n",
       "  </tbody>\n",
       "</table>\n",
       "</div>"
      ],
      "text/plain": [
       "                          review_id  user_id   book_id  rating  \\\n",
       "0  0000f2fa08114079d9d7215bc5e754d2   155648  24817626       1   \n",
       "1  00086204557677e4f3c5225096510623   111795  17332969       1   \n",
       "2  00148dbc65dcac4ae7063297d5c31d87   432685  15745753       1   \n",
       "3  00165a73ba617b652f0e58628f159155      492  16085517       1   \n",
       "4  0016cbf252b1633d8444158cd9ee47d2    10309  16068905       1   \n",
       "\n",
       "                                         review_text          date_added  \\\n",
       "0  I reread To Kill a Mockingbird prior to readin... 2015-04-25 11:36:35   \n",
       "1  This was so bad, seriously I finished it becau... 2014-11-15 05:45:11   \n",
       "2  Probably the worst book I have read in my life... 2016-02-22 09:42:42   \n",
       "3  This book takes a lot of interesting events/ac... 2013-08-02 19:20:13   \n",
       "4  I put off reading the last few chapters for so... 2013-04-16 09:20:26   \n",
       "\n",
       "           started_at  n_votes  n_comments  \n",
       "0 2016-08-13 07:00:00        1           0  \n",
       "1 2015-02-15 08:00:00        0           0  \n",
       "2 2016-02-22 08:00:00        1           0  \n",
       "3 2013-08-02 07:00:00        0           0  \n",
       "4                 NaT        4           1  "
      ]
     },
     "execution_count": 102,
     "metadata": {},
     "output_type": "execute_result"
    }
   ],
   "source": [
    "#Import the review dataset\n",
    "connection = mysql.connector.connect(\n",
    "            host='ds50-mysql-do-user-9644544-0.b.db.ondigitalocean.com',\n",
    "            database='ds50',\n",
    "            user='ds50',\n",
    "            password='AVNS_4ybSd0CoPKnCL5F',\n",
    "            port = '25060'\n",
    ")\n",
    "\n",
    "for i in range(5):\n",
    "\n",
    "    query = f\"\"\"\n",
    "        SELECT\n",
    "            *\n",
    "        FROM\n",
    "            REVIEW\n",
    "        WHERE\n",
    "            rating = {i+1}\n",
    "        AND\n",
    "            review_text != ''\n",
    "        LIMIT\n",
    "            2000\n",
    "    \"\"\"\n",
    "\n",
    "    if connection.is_connected():\n",
    "        if not i:\n",
    "            df = pd.read_sql(query, connection)\n",
    "        else:\n",
    "            new_df = pd.read_sql(query, connection)\n",
    "            df = pd.concat([df, new_df])\n",
    "\n",
    "print(df.shape)\n",
    "df.head()"
   ]
  },
  {
   "cell_type": "code",
   "execution_count": 103,
   "metadata": {},
   "outputs": [
    {
     "data": {
      "text/html": [
       "<div>\n",
       "<style scoped>\n",
       "    .dataframe tbody tr th:only-of-type {\n",
       "        vertical-align: middle;\n",
       "    }\n",
       "\n",
       "    .dataframe tbody tr th {\n",
       "        vertical-align: top;\n",
       "    }\n",
       "\n",
       "    .dataframe thead th {\n",
       "        text-align: right;\n",
       "    }\n",
       "</style>\n",
       "<table border=\"1\" class=\"dataframe\">\n",
       "  <thead>\n",
       "    <tr style=\"text-align: right;\">\n",
       "      <th></th>\n",
       "      <th>book_id</th>\n",
       "      <th>rating</th>\n",
       "      <th>review</th>\n",
       "    </tr>\n",
       "  </thead>\n",
       "  <tbody>\n",
       "    <tr>\n",
       "      <th>0</th>\n",
       "      <td>24817626</td>\n",
       "      <td>1</td>\n",
       "      <td>I reread To Kill a Mockingbird prior to readin...</td>\n",
       "    </tr>\n",
       "    <tr>\n",
       "      <th>1</th>\n",
       "      <td>17332969</td>\n",
       "      <td>1</td>\n",
       "      <td>This was so bad, seriously I finished it becau...</td>\n",
       "    </tr>\n",
       "    <tr>\n",
       "      <th>2</th>\n",
       "      <td>15745753</td>\n",
       "      <td>1</td>\n",
       "      <td>Probably the worst book I have read in my life...</td>\n",
       "    </tr>\n",
       "    <tr>\n",
       "      <th>3</th>\n",
       "      <td>16085517</td>\n",
       "      <td>1</td>\n",
       "      <td>This book takes a lot of interesting events/ac...</td>\n",
       "    </tr>\n",
       "    <tr>\n",
       "      <th>4</th>\n",
       "      <td>16068905</td>\n",
       "      <td>1</td>\n",
       "      <td>I put off reading the last few chapters for so...</td>\n",
       "    </tr>\n",
       "  </tbody>\n",
       "</table>\n",
       "</div>"
      ],
      "text/plain": [
       "    book_id  rating                                             review\n",
       "0  24817626       1  I reread To Kill a Mockingbird prior to readin...\n",
       "1  17332969       1  This was so bad, seriously I finished it becau...\n",
       "2  15745753       1  Probably the worst book I have read in my life...\n",
       "3  16085517       1  This book takes a lot of interesting events/ac...\n",
       "4  16068905       1  I put off reading the last few chapters for so..."
      ]
     },
     "execution_count": 103,
     "metadata": {},
     "output_type": "execute_result"
    }
   ],
   "source": [
    "df = df[['book_id','rating','review_text']].rename(columns={'review_text':'review'})\n",
    "df.head()"
   ]
  },
  {
   "cell_type": "code",
   "execution_count": 104,
   "metadata": {},
   "outputs": [],
   "source": [
    "from deep_translator import GoogleTranslator\n",
    "\n",
    "def translateWords(words, lang):\n",
    "    translations = []\n",
    "    gl = GoogleTranslator(source=lang, target='en')\n",
    "    for word in words:\n",
    "        try:\n",
    "            translation = gl.translate(word)\n",
    "            translations.append(translation)\n",
    "        except:\n",
    "            pass\n",
    "    return translations\n",
    "\n",
    "def translateText(text, lang):\n",
    "    gl = GoogleTranslator(source=lang, target='en')\n",
    "    try:\n",
    "        if len(text) < 5000:\n",
    "            translation = gl.translate(text)\n",
    "        else:\n",
    "            translation = gl.translate(text[:4999])\n",
    "        return translation\n",
    "    except:\n",
    "        print(text)\n",
    "        return text"
   ]
  },
  {
   "cell_type": "code",
   "execution_count": 105,
   "metadata": {},
   "outputs": [
    {
     "data": {
      "application/vnd.jupyter.widget-view+json": {
       "model_id": "ed45a1a45c8545529d78b5b7a958909a",
       "version_major": 2,
       "version_minor": 0
      },
      "text/plain": [
       "HBox(children=(HTML(value=''), FloatProgress(value=1.0, bar_style='info', layout=Layout(width='20px'), max=1.0…"
      ]
     },
     "metadata": {},
     "output_type": "display_data"
    },
    {
     "name": "stdout",
     "output_type": "stream",
     "text": [
      "\n"
     ]
    }
   ],
   "source": [
    "from langdetect import detect\n",
    "from tqdm.notebook import tqdm_notebook\n",
    "\n",
    "translated = []\n",
    "to_drop = []\n",
    "\n",
    "for index, row in tqdm_notebook(df.iterrows()):\n",
    "    try:\n",
    "        lang = detect(row['review'])\n",
    "    except:\n",
    "        to_drop.append(index)\n",
    "        continue\n",
    "    if lang != 'en':\n",
    "        translated.append(translateText(row['review'], lang))\n",
    "    else:\n",
    "        translated.append(row['review'])"
   ]
  },
  {
   "cell_type": "code",
   "execution_count": 106,
   "metadata": {},
   "outputs": [
    {
     "data": {
      "text/html": [
       "<div>\n",
       "<style scoped>\n",
       "    .dataframe tbody tr th:only-of-type {\n",
       "        vertical-align: middle;\n",
       "    }\n",
       "\n",
       "    .dataframe tbody tr th {\n",
       "        vertical-align: top;\n",
       "    }\n",
       "\n",
       "    .dataframe thead th {\n",
       "        text-align: right;\n",
       "    }\n",
       "</style>\n",
       "<table border=\"1\" class=\"dataframe\">\n",
       "  <thead>\n",
       "    <tr style=\"text-align: right;\">\n",
       "      <th></th>\n",
       "      <th>book_id</th>\n",
       "      <th>rating</th>\n",
       "      <th>review</th>\n",
       "      <th>translated</th>\n",
       "    </tr>\n",
       "  </thead>\n",
       "  <tbody>\n",
       "    <tr>\n",
       "      <th>0</th>\n",
       "      <td>24817626</td>\n",
       "      <td>1</td>\n",
       "      <td>I reread To Kill a Mockingbird prior to readin...</td>\n",
       "      <td>I reread To Kill a Mockingbird prior to readin...</td>\n",
       "    </tr>\n",
       "    <tr>\n",
       "      <th>1</th>\n",
       "      <td>17332969</td>\n",
       "      <td>1</td>\n",
       "      <td>This was so bad, seriously I finished it becau...</td>\n",
       "      <td>This was so bad, seriously I finished it becau...</td>\n",
       "    </tr>\n",
       "    <tr>\n",
       "      <th>2</th>\n",
       "      <td>15745753</td>\n",
       "      <td>1</td>\n",
       "      <td>Probably the worst book I have read in my life...</td>\n",
       "      <td>Probably the worst book I have read in my life...</td>\n",
       "    </tr>\n",
       "    <tr>\n",
       "      <th>3</th>\n",
       "      <td>16085517</td>\n",
       "      <td>1</td>\n",
       "      <td>This book takes a lot of interesting events/ac...</td>\n",
       "      <td>This book takes a lot of interesting events/ac...</td>\n",
       "    </tr>\n",
       "    <tr>\n",
       "      <th>4</th>\n",
       "      <td>16068905</td>\n",
       "      <td>1</td>\n",
       "      <td>I put off reading the last few chapters for so...</td>\n",
       "      <td>I put off reading the last few chapters for so...</td>\n",
       "    </tr>\n",
       "  </tbody>\n",
       "</table>\n",
       "</div>"
      ],
      "text/plain": [
       "    book_id  rating                                             review  \\\n",
       "0  24817626       1  I reread To Kill a Mockingbird prior to readin...   \n",
       "1  17332969       1  This was so bad, seriously I finished it becau...   \n",
       "2  15745753       1  Probably the worst book I have read in my life...   \n",
       "3  16085517       1  This book takes a lot of interesting events/ac...   \n",
       "4  16068905       1  I put off reading the last few chapters for so...   \n",
       "\n",
       "                                          translated  \n",
       "0  I reread To Kill a Mockingbird prior to readin...  \n",
       "1  This was so bad, seriously I finished it becau...  \n",
       "2  Probably the worst book I have read in my life...  \n",
       "3  This book takes a lot of interesting events/ac...  \n",
       "4  I put off reading the last few chapters for so...  "
      ]
     },
     "execution_count": 106,
     "metadata": {},
     "output_type": "execute_result"
    }
   ],
   "source": [
    "df.drop(to_drop, inplace=True)\n",
    "df['translated'] = translated\n",
    "df.head()"
   ]
  },
  {
   "cell_type": "code",
   "execution_count": 107,
   "metadata": {},
   "outputs": [],
   "source": [
    "import string\n",
    "\n",
    "def remove_punct(text):\n",
    "    no_punct_text = \"\".join([char for char in text if char not in string.punctuation])\n",
    "    return no_punct_text"
   ]
  },
  {
   "cell_type": "code",
   "execution_count": 108,
   "metadata": {},
   "outputs": [
    {
     "data": {
      "text/html": [
       "<div>\n",
       "<style scoped>\n",
       "    .dataframe tbody tr th:only-of-type {\n",
       "        vertical-align: middle;\n",
       "    }\n",
       "\n",
       "    .dataframe tbody tr th {\n",
       "        vertical-align: top;\n",
       "    }\n",
       "\n",
       "    .dataframe thead th {\n",
       "        text-align: right;\n",
       "    }\n",
       "</style>\n",
       "<table border=\"1\" class=\"dataframe\">\n",
       "  <thead>\n",
       "    <tr style=\"text-align: right;\">\n",
       "      <th></th>\n",
       "      <th>book_id</th>\n",
       "      <th>rating</th>\n",
       "      <th>review</th>\n",
       "      <th>translated</th>\n",
       "      <th>nopunct</th>\n",
       "    </tr>\n",
       "  </thead>\n",
       "  <tbody>\n",
       "    <tr>\n",
       "      <th>0</th>\n",
       "      <td>24817626</td>\n",
       "      <td>1</td>\n",
       "      <td>I reread To Kill a Mockingbird prior to readin...</td>\n",
       "      <td>I reread To Kill a Mockingbird prior to readin...</td>\n",
       "      <td>I reread To Kill a Mockingbird prior to readin...</td>\n",
       "    </tr>\n",
       "    <tr>\n",
       "      <th>1</th>\n",
       "      <td>17332969</td>\n",
       "      <td>1</td>\n",
       "      <td>This was so bad, seriously I finished it becau...</td>\n",
       "      <td>This was so bad, seriously I finished it becau...</td>\n",
       "      <td>This was so bad seriously I finished it becaus...</td>\n",
       "    </tr>\n",
       "    <tr>\n",
       "      <th>2</th>\n",
       "      <td>15745753</td>\n",
       "      <td>1</td>\n",
       "      <td>Probably the worst book I have read in my life...</td>\n",
       "      <td>Probably the worst book I have read in my life...</td>\n",
       "      <td>Probably the worst book I have read in my life...</td>\n",
       "    </tr>\n",
       "    <tr>\n",
       "      <th>3</th>\n",
       "      <td>16085517</td>\n",
       "      <td>1</td>\n",
       "      <td>This book takes a lot of interesting events/ac...</td>\n",
       "      <td>This book takes a lot of interesting events/ac...</td>\n",
       "      <td>This book takes a lot of interesting eventsact...</td>\n",
       "    </tr>\n",
       "    <tr>\n",
       "      <th>4</th>\n",
       "      <td>16068905</td>\n",
       "      <td>1</td>\n",
       "      <td>I put off reading the last few chapters for so...</td>\n",
       "      <td>I put off reading the last few chapters for so...</td>\n",
       "      <td>I put off reading the last few chapters for so...</td>\n",
       "    </tr>\n",
       "  </tbody>\n",
       "</table>\n",
       "</div>"
      ],
      "text/plain": [
       "    book_id  rating                                             review  \\\n",
       "0  24817626       1  I reread To Kill a Mockingbird prior to readin...   \n",
       "1  17332969       1  This was so bad, seriously I finished it becau...   \n",
       "2  15745753       1  Probably the worst book I have read in my life...   \n",
       "3  16085517       1  This book takes a lot of interesting events/ac...   \n",
       "4  16068905       1  I put off reading the last few chapters for so...   \n",
       "\n",
       "                                          translated  \\\n",
       "0  I reread To Kill a Mockingbird prior to readin...   \n",
       "1  This was so bad, seriously I finished it becau...   \n",
       "2  Probably the worst book I have read in my life...   \n",
       "3  This book takes a lot of interesting events/ac...   \n",
       "4  I put off reading the last few chapters for so...   \n",
       "\n",
       "                                             nopunct  \n",
       "0  I reread To Kill a Mockingbird prior to readin...  \n",
       "1  This was so bad seriously I finished it becaus...  \n",
       "2  Probably the worst book I have read in my life...  \n",
       "3  This book takes a lot of interesting eventsact...  \n",
       "4  I put off reading the last few chapters for so...  "
      ]
     },
     "execution_count": 108,
     "metadata": {},
     "output_type": "execute_result"
    }
   ],
   "source": [
    "df['nopunct'] = df['translated'].apply(lambda x: remove_punct(x))\n",
    "df.head()"
   ]
  },
  {
   "cell_type": "code",
   "execution_count": 109,
   "metadata": {},
   "outputs": [
    {
     "data": {
      "text/html": [
       "<div>\n",
       "<style scoped>\n",
       "    .dataframe tbody tr th:only-of-type {\n",
       "        vertical-align: middle;\n",
       "    }\n",
       "\n",
       "    .dataframe tbody tr th {\n",
       "        vertical-align: top;\n",
       "    }\n",
       "\n",
       "    .dataframe thead th {\n",
       "        text-align: right;\n",
       "    }\n",
       "</style>\n",
       "<table border=\"1\" class=\"dataframe\">\n",
       "  <thead>\n",
       "    <tr style=\"text-align: right;\">\n",
       "      <th></th>\n",
       "      <th>book_id</th>\n",
       "      <th>rating</th>\n",
       "      <th>review</th>\n",
       "      <th>translated</th>\n",
       "      <th>nopunct</th>\n",
       "      <th>tokenized</th>\n",
       "    </tr>\n",
       "  </thead>\n",
       "  <tbody>\n",
       "    <tr>\n",
       "      <th>0</th>\n",
       "      <td>24817626</td>\n",
       "      <td>1</td>\n",
       "      <td>I reread To Kill a Mockingbird prior to readin...</td>\n",
       "      <td>I reread To Kill a Mockingbird prior to readin...</td>\n",
       "      <td>I reread To Kill a Mockingbird prior to readin...</td>\n",
       "      <td>[i, reread, to, kill, a, mockingbird, prior, t...</td>\n",
       "    </tr>\n",
       "    <tr>\n",
       "      <th>1</th>\n",
       "      <td>17332969</td>\n",
       "      <td>1</td>\n",
       "      <td>This was so bad, seriously I finished it becau...</td>\n",
       "      <td>This was so bad, seriously I finished it becau...</td>\n",
       "      <td>This was so bad seriously I finished it becaus...</td>\n",
       "      <td>[this, was, so, bad, seriously, i, finished, i...</td>\n",
       "    </tr>\n",
       "    <tr>\n",
       "      <th>2</th>\n",
       "      <td>15745753</td>\n",
       "      <td>1</td>\n",
       "      <td>Probably the worst book I have read in my life...</td>\n",
       "      <td>Probably the worst book I have read in my life...</td>\n",
       "      <td>Probably the worst book I have read in my life...</td>\n",
       "      <td>[probably, the, worst, book, i, have, read, in...</td>\n",
       "    </tr>\n",
       "    <tr>\n",
       "      <th>3</th>\n",
       "      <td>16085517</td>\n",
       "      <td>1</td>\n",
       "      <td>This book takes a lot of interesting events/ac...</td>\n",
       "      <td>This book takes a lot of interesting events/ac...</td>\n",
       "      <td>This book takes a lot of interesting eventsact...</td>\n",
       "      <td>[this, book, takes, a, lot, of, interesting, e...</td>\n",
       "    </tr>\n",
       "    <tr>\n",
       "      <th>4</th>\n",
       "      <td>16068905</td>\n",
       "      <td>1</td>\n",
       "      <td>I put off reading the last few chapters for so...</td>\n",
       "      <td>I put off reading the last few chapters for so...</td>\n",
       "      <td>I put off reading the last few chapters for so...</td>\n",
       "      <td>[i, put, off, reading, the, last, few, chapter...</td>\n",
       "    </tr>\n",
       "  </tbody>\n",
       "</table>\n",
       "</div>"
      ],
      "text/plain": [
       "    book_id  rating                                             review  \\\n",
       "0  24817626       1  I reread To Kill a Mockingbird prior to readin...   \n",
       "1  17332969       1  This was so bad, seriously I finished it becau...   \n",
       "2  15745753       1  Probably the worst book I have read in my life...   \n",
       "3  16085517       1  This book takes a lot of interesting events/ac...   \n",
       "4  16068905       1  I put off reading the last few chapters for so...   \n",
       "\n",
       "                                          translated  \\\n",
       "0  I reread To Kill a Mockingbird prior to readin...   \n",
       "1  This was so bad, seriously I finished it becau...   \n",
       "2  Probably the worst book I have read in my life...   \n",
       "3  This book takes a lot of interesting events/ac...   \n",
       "4  I put off reading the last few chapters for so...   \n",
       "\n",
       "                                             nopunct  \\\n",
       "0  I reread To Kill a Mockingbird prior to readin...   \n",
       "1  This was so bad seriously I finished it becaus...   \n",
       "2  Probably the worst book I have read in my life...   \n",
       "3  This book takes a lot of interesting eventsact...   \n",
       "4  I put off reading the last few chapters for so...   \n",
       "\n",
       "                                           tokenized  \n",
       "0  [i, reread, to, kill, a, mockingbird, prior, t...  \n",
       "1  [this, was, so, bad, seriously, i, finished, i...  \n",
       "2  [probably, the, worst, book, i, have, read, in...  \n",
       "3  [this, book, takes, a, lot, of, interesting, e...  \n",
       "4  [i, put, off, reading, the, last, few, chapter...  "
      ]
     },
     "execution_count": 109,
     "metadata": {},
     "output_type": "execute_result"
    }
   ],
   "source": [
    "df['tokenized'] = df['nopunct'].apply(lambda x: nltk.word_tokenize(str.lower(x)))\n",
    "df.head()"
   ]
  },
  {
   "cell_type": "code",
   "execution_count": 110,
   "metadata": {},
   "outputs": [],
   "source": [
    "import enchant\n",
    "\n",
    "dic = enchant.Dict('en_US')\n",
    "\n",
    "def remove_misspelled_words(words):\n",
    "    well_spelled = []\n",
    "    for word in words:\n",
    "        if dic.check(word):\n",
    "            well_spelled.append(word)\n",
    "        elif word in [remove_punct(sugg) for sugg in dic.suggest(word)[10:]]:\n",
    "            well_spelled.append(word)\n",
    "        else:\n",
    "            well_spelled.append('OOV')\n",
    "    return well_spelled"
   ]
  },
  {
   "cell_type": "code",
   "execution_count": 111,
   "metadata": {},
   "outputs": [
    {
     "data": {
      "application/vnd.jupyter.widget-view+json": {
       "model_id": "71299c0d09a7466c8fc85089c8c24518",
       "version_major": 2,
       "version_minor": 0
      },
      "text/plain": [
       "HBox(children=(HTML(value='Remove misspelled words'), FloatProgress(value=0.0, max=10000.0), HTML(value='')))"
      ]
     },
     "metadata": {},
     "output_type": "display_data"
    },
    {
     "name": "stdout",
     "output_type": "stream",
     "text": [
      "\n"
     ]
    },
    {
     "data": {
      "text/html": [
       "<div>\n",
       "<style scoped>\n",
       "    .dataframe tbody tr th:only-of-type {\n",
       "        vertical-align: middle;\n",
       "    }\n",
       "\n",
       "    .dataframe tbody tr th {\n",
       "        vertical-align: top;\n",
       "    }\n",
       "\n",
       "    .dataframe thead th {\n",
       "        text-align: right;\n",
       "    }\n",
       "</style>\n",
       "<table border=\"1\" class=\"dataframe\">\n",
       "  <thead>\n",
       "    <tr style=\"text-align: right;\">\n",
       "      <th></th>\n",
       "      <th>tokenized</th>\n",
       "      <th>well_spelled</th>\n",
       "    </tr>\n",
       "  </thead>\n",
       "  <tbody>\n",
       "    <tr>\n",
       "      <th>0</th>\n",
       "      <td>[i, reread, to, kill, a, mockingbird, prior, t...</td>\n",
       "      <td>[i, reread, to, kill, a, mockingbird, prior, t...</td>\n",
       "    </tr>\n",
       "    <tr>\n",
       "      <th>1</th>\n",
       "      <td>[this, was, so, bad, seriously, i, finished, i...</td>\n",
       "      <td>[this, was, so, bad, seriously, i, finished, i...</td>\n",
       "    </tr>\n",
       "    <tr>\n",
       "      <th>2</th>\n",
       "      <td>[probably, the, worst, book, i, have, read, in...</td>\n",
       "      <td>[probably, the, worst, book, i, have, read, in...</td>\n",
       "    </tr>\n",
       "    <tr>\n",
       "      <th>3</th>\n",
       "      <td>[this, book, takes, a, lot, of, interesting, e...</td>\n",
       "      <td>[this, book, takes, a, lot, of, interesting, O...</td>\n",
       "    </tr>\n",
       "    <tr>\n",
       "      <th>4</th>\n",
       "      <td>[i, put, off, reading, the, last, few, chapter...</td>\n",
       "      <td>[i, put, off, reading, the, last, few, chapter...</td>\n",
       "    </tr>\n",
       "  </tbody>\n",
       "</table>\n",
       "</div>"
      ],
      "text/plain": [
       "                                           tokenized  \\\n",
       "0  [i, reread, to, kill, a, mockingbird, prior, t...   \n",
       "1  [this, was, so, bad, seriously, i, finished, i...   \n",
       "2  [probably, the, worst, book, i, have, read, in...   \n",
       "3  [this, book, takes, a, lot, of, interesting, e...   \n",
       "4  [i, put, off, reading, the, last, few, chapter...   \n",
       "\n",
       "                                        well_spelled  \n",
       "0  [i, reread, to, kill, a, mockingbird, prior, t...  \n",
       "1  [this, was, so, bad, seriously, i, finished, i...  \n",
       "2  [probably, the, worst, book, i, have, read, in...  \n",
       "3  [this, book, takes, a, lot, of, interesting, O...  \n",
       "4  [i, put, off, reading, the, last, few, chapter...  "
      ]
     },
     "execution_count": 111,
     "metadata": {},
     "output_type": "execute_result"
    }
   ],
   "source": [
    "from tqdm.notebook import tqdm_notebook\n",
    "\n",
    "well_spelled = []\n",
    "for document in tqdm_notebook(df['tokenized'], desc='Remove misspelled words'):\n",
    "    well_spelled.append(remove_misspelled_words(document))\n",
    "\n",
    "df['well_spelled'] = well_spelled\n",
    "df[['tokenized','well_spelled']].head()"
   ]
  },
  {
   "cell_type": "code",
   "execution_count": 112,
   "metadata": {},
   "outputs": [],
   "source": [
    "from nltk.corpus import stopwords\n",
    "\n",
    "stop_words = set(stopwords.words('english'))\n",
    "\n",
    "def remove_stopwords(words):\n",
    "    return [word for word in words if word not in stop_words]"
   ]
  },
  {
   "cell_type": "code",
   "execution_count": 113,
   "metadata": {},
   "outputs": [
    {
     "data": {
      "application/vnd.jupyter.widget-view+json": {
       "model_id": "1d13f7701987452dbdc1047d43036112",
       "version_major": 2,
       "version_minor": 0
      },
      "text/plain": [
       "HBox(children=(HTML(value='Remove stopwords'), FloatProgress(value=0.0, max=10000.0), HTML(value='')))"
      ]
     },
     "metadata": {},
     "output_type": "display_data"
    },
    {
     "name": "stdout",
     "output_type": "stream",
     "text": [
      "\n"
     ]
    },
    {
     "data": {
      "text/html": [
       "<div>\n",
       "<style scoped>\n",
       "    .dataframe tbody tr th:only-of-type {\n",
       "        vertical-align: middle;\n",
       "    }\n",
       "\n",
       "    .dataframe tbody tr th {\n",
       "        vertical-align: top;\n",
       "    }\n",
       "\n",
       "    .dataframe thead th {\n",
       "        text-align: right;\n",
       "    }\n",
       "</style>\n",
       "<table border=\"1\" class=\"dataframe\">\n",
       "  <thead>\n",
       "    <tr style=\"text-align: right;\">\n",
       "      <th></th>\n",
       "      <th>well_spelled</th>\n",
       "      <th>no_stopwords</th>\n",
       "    </tr>\n",
       "  </thead>\n",
       "  <tbody>\n",
       "    <tr>\n",
       "      <th>0</th>\n",
       "      <td>[i, reread, to, kill, a, mockingbird, prior, t...</td>\n",
       "      <td>[reread, kill, mockingbird, prior, reading, go...</td>\n",
       "    </tr>\n",
       "    <tr>\n",
       "      <th>1</th>\n",
       "      <td>[this, was, so, bad, seriously, i, finished, i...</td>\n",
       "      <td>[bad, seriously, finished, OOV, OOV, OOV, good...</td>\n",
       "    </tr>\n",
       "    <tr>\n",
       "      <th>2</th>\n",
       "      <td>[probably, the, worst, book, i, have, read, in...</td>\n",
       "      <td>[probably, worst, book, read, life, ya, romant...</td>\n",
       "    </tr>\n",
       "    <tr>\n",
       "      <th>3</th>\n",
       "      <td>[this, book, takes, a, lot, of, interesting, O...</td>\n",
       "      <td>[book, takes, lot, interesting, OOV, renders, ...</td>\n",
       "    </tr>\n",
       "    <tr>\n",
       "      <th>4</th>\n",
       "      <td>[i, put, off, reading, the, last, few, chapter...</td>\n",
       "      <td>[put, reading, last, chapters, long, OOV, want...</td>\n",
       "    </tr>\n",
       "  </tbody>\n",
       "</table>\n",
       "</div>"
      ],
      "text/plain": [
       "                                        well_spelled  \\\n",
       "0  [i, reread, to, kill, a, mockingbird, prior, t...   \n",
       "1  [this, was, so, bad, seriously, i, finished, i...   \n",
       "2  [probably, the, worst, book, i, have, read, in...   \n",
       "3  [this, book, takes, a, lot, of, interesting, O...   \n",
       "4  [i, put, off, reading, the, last, few, chapter...   \n",
       "\n",
       "                                        no_stopwords  \n",
       "0  [reread, kill, mockingbird, prior, reading, go...  \n",
       "1  [bad, seriously, finished, OOV, OOV, OOV, good...  \n",
       "2  [probably, worst, book, read, life, ya, romant...  \n",
       "3  [book, takes, lot, interesting, OOV, renders, ...  \n",
       "4  [put, reading, last, chapters, long, OOV, want...  "
      ]
     },
     "execution_count": 113,
     "metadata": {},
     "output_type": "execute_result"
    }
   ],
   "source": [
    "no_stopwords = []\n",
    "for document in tqdm_notebook(df['well_spelled'], desc='Remove stopwords'):\n",
    "    no_stopwords.append(remove_stopwords(document))\n",
    "\n",
    "df['no_stopwords'] = no_stopwords\n",
    "df[['well_spelled','no_stopwords']].head()"
   ]
  },
  {
   "cell_type": "code",
   "execution_count": 114,
   "metadata": {},
   "outputs": [
    {
     "name": "stderr",
     "output_type": "stream",
     "text": [
      "[nltk_data] Downloading package wordnet to\n",
      "[nltk_data]     C:\\Users\\benja\\AppData\\Roaming\\nltk_data...\n",
      "[nltk_data]   Package wordnet is already up-to-date!\n"
     ]
    }
   ],
   "source": [
    "from nltk.stem.wordnet import WordNetLemmatizer\n",
    "nltk.download('wordnet')\n",
    "\n",
    "def lemmatize(words):\n",
    "    lemmatized = []\n",
    "    lemmatizer = WordNetLemmatizer()\n",
    "    for word in words:\n",
    "        lem_word = lemmatizer.lemmatize(word)\n",
    "        lemmatized.append(lem_word)\n",
    "    return lemmatized"
   ]
  },
  {
   "cell_type": "code",
   "execution_count": 115,
   "metadata": {},
   "outputs": [
    {
     "data": {
      "text/html": [
       "<div>\n",
       "<style scoped>\n",
       "    .dataframe tbody tr th:only-of-type {\n",
       "        vertical-align: middle;\n",
       "    }\n",
       "\n",
       "    .dataframe tbody tr th {\n",
       "        vertical-align: top;\n",
       "    }\n",
       "\n",
       "    .dataframe thead th {\n",
       "        text-align: right;\n",
       "    }\n",
       "</style>\n",
       "<table border=\"1\" class=\"dataframe\">\n",
       "  <thead>\n",
       "    <tr style=\"text-align: right;\">\n",
       "      <th></th>\n",
       "      <th>book_id</th>\n",
       "      <th>rating</th>\n",
       "      <th>review</th>\n",
       "      <th>translated</th>\n",
       "      <th>nopunct</th>\n",
       "      <th>tokenized</th>\n",
       "      <th>well_spelled</th>\n",
       "      <th>no_stopwords</th>\n",
       "      <th>lemmatized</th>\n",
       "    </tr>\n",
       "  </thead>\n",
       "  <tbody>\n",
       "    <tr>\n",
       "      <th>0</th>\n",
       "      <td>24817626</td>\n",
       "      <td>1</td>\n",
       "      <td>I reread To Kill a Mockingbird prior to readin...</td>\n",
       "      <td>I reread To Kill a Mockingbird prior to readin...</td>\n",
       "      <td>I reread To Kill a Mockingbird prior to readin...</td>\n",
       "      <td>[i, reread, to, kill, a, mockingbird, prior, t...</td>\n",
       "      <td>[i, reread, to, kill, a, mockingbird, prior, t...</td>\n",
       "      <td>[reread, kill, mockingbird, prior, reading, go...</td>\n",
       "      <td>[reread, kill, mockingbird, prior, reading, go...</td>\n",
       "    </tr>\n",
       "    <tr>\n",
       "      <th>1</th>\n",
       "      <td>17332969</td>\n",
       "      <td>1</td>\n",
       "      <td>This was so bad, seriously I finished it becau...</td>\n",
       "      <td>This was so bad, seriously I finished it becau...</td>\n",
       "      <td>This was so bad seriously I finished it becaus...</td>\n",
       "      <td>[this, was, so, bad, seriously, i, finished, i...</td>\n",
       "      <td>[this, was, so, bad, seriously, i, finished, i...</td>\n",
       "      <td>[bad, seriously, finished, OOV, OOV, OOV, good...</td>\n",
       "      <td>[bad, seriously, finished, OOV, OOV, OOV, good...</td>\n",
       "    </tr>\n",
       "    <tr>\n",
       "      <th>2</th>\n",
       "      <td>15745753</td>\n",
       "      <td>1</td>\n",
       "      <td>Probably the worst book I have read in my life...</td>\n",
       "      <td>Probably the worst book I have read in my life...</td>\n",
       "      <td>Probably the worst book I have read in my life...</td>\n",
       "      <td>[probably, the, worst, book, i, have, read, in...</td>\n",
       "      <td>[probably, the, worst, book, i, have, read, in...</td>\n",
       "      <td>[probably, worst, book, read, life, ya, romant...</td>\n",
       "      <td>[probably, worst, book, read, life, ya, romant...</td>\n",
       "    </tr>\n",
       "    <tr>\n",
       "      <th>3</th>\n",
       "      <td>16085517</td>\n",
       "      <td>1</td>\n",
       "      <td>This book takes a lot of interesting events/ac...</td>\n",
       "      <td>This book takes a lot of interesting events/ac...</td>\n",
       "      <td>This book takes a lot of interesting eventsact...</td>\n",
       "      <td>[this, book, takes, a, lot, of, interesting, e...</td>\n",
       "      <td>[this, book, takes, a, lot, of, interesting, O...</td>\n",
       "      <td>[book, takes, lot, interesting, OOV, renders, ...</td>\n",
       "      <td>[book, take, lot, interesting, OOV, render, sl...</td>\n",
       "    </tr>\n",
       "    <tr>\n",
       "      <th>4</th>\n",
       "      <td>16068905</td>\n",
       "      <td>1</td>\n",
       "      <td>I put off reading the last few chapters for so...</td>\n",
       "      <td>I put off reading the last few chapters for so...</td>\n",
       "      <td>I put off reading the last few chapters for so...</td>\n",
       "      <td>[i, put, off, reading, the, last, few, chapter...</td>\n",
       "      <td>[i, put, off, reading, the, last, few, chapter...</td>\n",
       "      <td>[put, reading, last, chapters, long, OOV, want...</td>\n",
       "      <td>[put, reading, last, chapter, long, OOV, want,...</td>\n",
       "    </tr>\n",
       "  </tbody>\n",
       "</table>\n",
       "</div>"
      ],
      "text/plain": [
       "    book_id  rating                                             review  \\\n",
       "0  24817626       1  I reread To Kill a Mockingbird prior to readin...   \n",
       "1  17332969       1  This was so bad, seriously I finished it becau...   \n",
       "2  15745753       1  Probably the worst book I have read in my life...   \n",
       "3  16085517       1  This book takes a lot of interesting events/ac...   \n",
       "4  16068905       1  I put off reading the last few chapters for so...   \n",
       "\n",
       "                                          translated  \\\n",
       "0  I reread To Kill a Mockingbird prior to readin...   \n",
       "1  This was so bad, seriously I finished it becau...   \n",
       "2  Probably the worst book I have read in my life...   \n",
       "3  This book takes a lot of interesting events/ac...   \n",
       "4  I put off reading the last few chapters for so...   \n",
       "\n",
       "                                             nopunct  \\\n",
       "0  I reread To Kill a Mockingbird prior to readin...   \n",
       "1  This was so bad seriously I finished it becaus...   \n",
       "2  Probably the worst book I have read in my life...   \n",
       "3  This book takes a lot of interesting eventsact...   \n",
       "4  I put off reading the last few chapters for so...   \n",
       "\n",
       "                                           tokenized  \\\n",
       "0  [i, reread, to, kill, a, mockingbird, prior, t...   \n",
       "1  [this, was, so, bad, seriously, i, finished, i...   \n",
       "2  [probably, the, worst, book, i, have, read, in...   \n",
       "3  [this, book, takes, a, lot, of, interesting, e...   \n",
       "4  [i, put, off, reading, the, last, few, chapter...   \n",
       "\n",
       "                                        well_spelled  \\\n",
       "0  [i, reread, to, kill, a, mockingbird, prior, t...   \n",
       "1  [this, was, so, bad, seriously, i, finished, i...   \n",
       "2  [probably, the, worst, book, i, have, read, in...   \n",
       "3  [this, book, takes, a, lot, of, interesting, O...   \n",
       "4  [i, put, off, reading, the, last, few, chapter...   \n",
       "\n",
       "                                        no_stopwords  \\\n",
       "0  [reread, kill, mockingbird, prior, reading, go...   \n",
       "1  [bad, seriously, finished, OOV, OOV, OOV, good...   \n",
       "2  [probably, worst, book, read, life, ya, romant...   \n",
       "3  [book, takes, lot, interesting, OOV, renders, ...   \n",
       "4  [put, reading, last, chapters, long, OOV, want...   \n",
       "\n",
       "                                          lemmatized  \n",
       "0  [reread, kill, mockingbird, prior, reading, go...  \n",
       "1  [bad, seriously, finished, OOV, OOV, OOV, good...  \n",
       "2  [probably, worst, book, read, life, ya, romant...  \n",
       "3  [book, take, lot, interesting, OOV, render, sl...  \n",
       "4  [put, reading, last, chapter, long, OOV, want,...  "
      ]
     },
     "execution_count": 115,
     "metadata": {},
     "output_type": "execute_result"
    }
   ],
   "source": [
    "df['lemmatized'] = df['no_stopwords'].apply(lambda x: lemmatize(x))\n",
    "df.head()"
   ]
  },
  {
   "cell_type": "code",
   "execution_count": 116,
   "metadata": {},
   "outputs": [],
   "source": [
    "#Save the data processed in a csv (since processing is time consuming)\n",
    "df.to_csv('data/sample/nlp_book_reviews.csv', index=False)"
   ]
  },
  {
   "cell_type": "code",
   "execution_count": 117,
   "metadata": {},
   "outputs": [
    {
     "name": "stderr",
     "output_type": "stream",
     "text": [
      "C:\\Users\\benja\\anaconda3\\lib\\site-packages\\seaborn\\_decorators.py:36: FutureWarning: Pass the following variable as a keyword arg: x. From version 0.12, the only valid positional argument will be `data`, and passing other arguments without an explicit keyword will result in an error or misinterpretation.\n",
      "  warnings.warn(\n"
     ]
    },
    {
     "data": {
      "text/plain": [
       "<AxesSubplot:xlabel='rating', ylabel='count'>"
      ]
     },
     "execution_count": 117,
     "metadata": {},
     "output_type": "execute_result"
    },
    {
     "data": {
      "image/png": "[encoded data removed]",
      "text/plain": [
       "<Figure size 432x288 with 1 Axes>"
      ]
     },
     "metadata": {},
     "output_type": "display_data"
    }
   ],
   "source": [
    "sns.countplot(df['rating'])"
   ]
  },
  {
   "cell_type": "markdown",
   "metadata": {},
   "source": [
    "## ML Models Buidling"
   ]
  },
  {
   "cell_type": "code",
   "execution_count": 118,
   "metadata": {},
   "outputs": [
    {
     "name": "stdout",
     "output_type": "stream",
     "text": [
      "Requirement already satisfied: xgboost in c:\\users\\benja\\anaconda3\\lib\\site-packages (1.6.0)\n",
      "Requirement already satisfied: scipy in c:\\users\\benja\\anaconda3\\lib\\site-packages (from xgboost) (1.5.2)\n",
      "Requirement already satisfied: numpy in c:\\users\\benja\\anaconda3\\lib\\site-packages (from xgboost) (1.22.3)\n"
     ]
    }
   ],
   "source": [
    "!pip install xgboost\n",
    "\n",
    "from sklearn.feature_extraction.text import TfidfVectorizer\n",
    "from sklearn.model_selection import train_test_split\n",
    "from sklearn.svm import LinearSVC\n",
    "from sklearn.svm import SVC\n",
    "from sklearn.linear_model import SGDClassifier\n",
    "from sklearn.naive_bayes import MultinomialNB\n",
    "from xgboost import XGBClassifier\n",
    "from sklearn.ensemble import RandomForestClassifier\n",
    "from sklearn.metrics import classification_report\n",
    "from sklearn.metrics import confusion_matrix, ConfusionMatrixDisplay\n",
    "from sklearn.metrics import r2_score"
   ]
  },
  {
   "cell_type": "code",
   "execution_count": 119,
   "metadata": {},
   "outputs": [
    {
     "data": {
      "text/html": [
       "<div>\n",
       "<style scoped>\n",
       "    .dataframe tbody tr th:only-of-type {\n",
       "        vertical-align: middle;\n",
       "    }\n",
       "\n",
       "    .dataframe tbody tr th {\n",
       "        vertical-align: top;\n",
       "    }\n",
       "\n",
       "    .dataframe thead th {\n",
       "        text-align: right;\n",
       "    }\n",
       "</style>\n",
       "<table border=\"1\" class=\"dataframe\">\n",
       "  <thead>\n",
       "    <tr style=\"text-align: right;\">\n",
       "      <th></th>\n",
       "      <th>book_id</th>\n",
       "      <th>rating</th>\n",
       "      <th>review</th>\n",
       "      <th>translated</th>\n",
       "      <th>nopunct</th>\n",
       "      <th>tokenized</th>\n",
       "      <th>well_spelled</th>\n",
       "      <th>no_stopwords</th>\n",
       "      <th>lemmatized</th>\n",
       "    </tr>\n",
       "  </thead>\n",
       "  <tbody>\n",
       "    <tr>\n",
       "      <th>0</th>\n",
       "      <td>24817626</td>\n",
       "      <td>1</td>\n",
       "      <td>I reread To Kill a Mockingbird prior to readin...</td>\n",
       "      <td>I reread To Kill a Mockingbird prior to readin...</td>\n",
       "      <td>I reread To Kill a Mockingbird prior to readin...</td>\n",
       "      <td>[i, reread, to, kill, a, mockingbird, prior, t...</td>\n",
       "      <td>[i, reread, to, kill, a, mockingbird, prior, t...</td>\n",
       "      <td>[reread, kill, mockingbird, prior, reading, go...</td>\n",
       "      <td>[reread, kill, mockingbird, prior, reading, go...</td>\n",
       "    </tr>\n",
       "    <tr>\n",
       "      <th>1</th>\n",
       "      <td>17332969</td>\n",
       "      <td>1</td>\n",
       "      <td>This was so bad, seriously I finished it becau...</td>\n",
       "      <td>This was so bad, seriously I finished it becau...</td>\n",
       "      <td>This was so bad seriously I finished it becaus...</td>\n",
       "      <td>[this, was, so, bad, seriously, i, finished, i...</td>\n",
       "      <td>[this, was, so, bad, seriously, i, finished, i...</td>\n",
       "      <td>[bad, seriously, finished, OOV, OOV, OOV, good...</td>\n",
       "      <td>[bad, seriously, finished, OOV, OOV, OOV, good...</td>\n",
       "    </tr>\n",
       "    <tr>\n",
       "      <th>2</th>\n",
       "      <td>15745753</td>\n",
       "      <td>1</td>\n",
       "      <td>Probably the worst book I have read in my life...</td>\n",
       "      <td>Probably the worst book I have read in my life...</td>\n",
       "      <td>Probably the worst book I have read in my life...</td>\n",
       "      <td>[probably, the, worst, book, i, have, read, in...</td>\n",
       "      <td>[probably, the, worst, book, i, have, read, in...</td>\n",
       "      <td>[probably, worst, book, read, life, ya, romant...</td>\n",
       "      <td>[probably, worst, book, read, life, ya, romant...</td>\n",
       "    </tr>\n",
       "    <tr>\n",
       "      <th>3</th>\n",
       "      <td>16085517</td>\n",
       "      <td>1</td>\n",
       "      <td>This book takes a lot of interesting events/ac...</td>\n",
       "      <td>This book takes a lot of interesting events/ac...</td>\n",
       "      <td>This book takes a lot of interesting eventsact...</td>\n",
       "      <td>[this, book, takes, a, lot, of, interesting, e...</td>\n",
       "      <td>[this, book, takes, a, lot, of, interesting, O...</td>\n",
       "      <td>[book, takes, lot, interesting, OOV, renders, ...</td>\n",
       "      <td>[book, take, lot, interesting, OOV, render, sl...</td>\n",
       "    </tr>\n",
       "    <tr>\n",
       "      <th>4</th>\n",
       "      <td>16068905</td>\n",
       "      <td>1</td>\n",
       "      <td>I put off reading the last few chapters for so...</td>\n",
       "      <td>I put off reading the last few chapters for so...</td>\n",
       "      <td>I put off reading the last few chapters for so...</td>\n",
       "      <td>[i, put, off, reading, the, last, few, chapter...</td>\n",
       "      <td>[i, put, off, reading, the, last, few, chapter...</td>\n",
       "      <td>[put, reading, last, chapters, long, OOV, want...</td>\n",
       "      <td>[put, reading, last, chapter, long, OOV, want,...</td>\n",
       "    </tr>\n",
       "  </tbody>\n",
       "</table>\n",
       "</div>"
      ],
      "text/plain": [
       "    book_id  rating                                             review  \\\n",
       "0  24817626       1  I reread To Kill a Mockingbird prior to readin...   \n",
       "1  17332969       1  This was so bad, seriously I finished it becau...   \n",
       "2  15745753       1  Probably the worst book I have read in my life...   \n",
       "3  16085517       1  This book takes a lot of interesting events/ac...   \n",
       "4  16068905       1  I put off reading the last few chapters for so...   \n",
       "\n",
       "                                          translated  \\\n",
       "0  I reread To Kill a Mockingbird prior to readin...   \n",
       "1  This was so bad, seriously I finished it becau...   \n",
       "2  Probably the worst book I have read in my life...   \n",
       "3  This book takes a lot of interesting events/ac...   \n",
       "4  I put off reading the last few chapters for so...   \n",
       "\n",
       "                                             nopunct  \\\n",
       "0  I reread To Kill a Mockingbird prior to readin...   \n",
       "1  This was so bad seriously I finished it becaus...   \n",
       "2  Probably the worst book I have read in my life...   \n",
       "3  This book takes a lot of interesting eventsact...   \n",
       "4  I put off reading the last few chapters for so...   \n",
       "\n",
       "                                           tokenized  \\\n",
       "0  [i, reread, to, kill, a, mockingbird, prior, t...   \n",
       "1  [this, was, so, bad, seriously, i, finished, i...   \n",
       "2  [probably, the, worst, book, i, have, read, in...   \n",
       "3  [this, book, takes, a, lot, of, interesting, e...   \n",
       "4  [i, put, off, reading, the, last, few, chapter...   \n",
       "\n",
       "                                        well_spelled  \\\n",
       "0  [i, reread, to, kill, a, mockingbird, prior, t...   \n",
       "1  [this, was, so, bad, seriously, i, finished, i...   \n",
       "2  [probably, the, worst, book, i, have, read, in...   \n",
       "3  [this, book, takes, a, lot, of, interesting, O...   \n",
       "4  [i, put, off, reading, the, last, few, chapter...   \n",
       "\n",
       "                                        no_stopwords  \\\n",
       "0  [reread, kill, mockingbird, prior, reading, go...   \n",
       "1  [bad, seriously, finished, OOV, OOV, OOV, good...   \n",
       "2  [probably, worst, book, read, life, ya, romant...   \n",
       "3  [book, takes, lot, interesting, OOV, renders, ...   \n",
       "4  [put, reading, last, chapters, long, OOV, want...   \n",
       "\n",
       "                                          lemmatized  \n",
       "0  [reread, kill, mockingbird, prior, reading, go...  \n",
       "1  [bad, seriously, finished, OOV, OOV, OOV, good...  \n",
       "2  [probably, worst, book, read, life, ya, romant...  \n",
       "3  [book, take, lot, interesting, OOV, render, sl...  \n",
       "4  [put, reading, last, chapter, long, OOV, want,...  "
      ]
     },
     "execution_count": 119,
     "metadata": {},
     "output_type": "execute_result"
    }
   ],
   "source": [
    "df = pd.read_csv('data/sample/nlp_book_reviews.csv')\n",
    "\n",
    "import ast\n",
    "\n",
    "for col in ['tokenized','well_spelled','no_stopwords','lemmatized']:\n",
    "    df[col] = df[col].apply(lambda x: ast.literal_eval(x))\n",
    "\n",
    "df.head()"
   ]
  },
  {
   "cell_type": "code",
   "execution_count": 120,
   "metadata": {},
   "outputs": [
    {
     "data": {
      "text/plain": [
       "0    reread kill mockingbird prior reading go set w...\n",
       "1    bad seriously finished OOV OOV OOV good thing ...\n",
       "2    probably worst book read life ya romantic nove...\n",
       "3    book take lot interesting OOV render slight du...\n",
       "4    put reading last chapter long OOV want end alm...\n",
       "Name: clean_document, dtype: object"
      ]
     },
     "execution_count": 120,
     "metadata": {},
     "output_type": "execute_result"
    }
   ],
   "source": [
    "df['clean_document'] = df['lemmatized'].apply(lambda x : \" \".join(list(x)))\n",
    "df['clean_document'].head()"
   ]
  },
  {
   "cell_type": "code",
   "execution_count": 121,
   "metadata": {},
   "outputs": [],
   "source": [
    "tfidf = TfidfVectorizer(ngram_range=(1,1))\n",
    "X = tfidf.fit_transform(df['clean_document'])\n",
    "\n",
    "\n",
    "X_unigram = X.toarray()\n",
    "Y = df['rating']"
   ]
  },
  {
   "cell_type": "code",
   "execution_count": 122,
   "metadata": {},
   "outputs": [
    {
     "data": {
      "text/plain": [
       "20450"
      ]
     },
     "execution_count": 122,
     "metadata": {},
     "output_type": "execute_result"
    }
   ],
   "source": [
    "X_unigram.shape[1]"
   ]
  },
  {
   "cell_type": "code",
   "execution_count": 134,
   "metadata": {},
   "outputs": [],
   "source": [
    "x_train, x_test, y_train, y_test = train_test_split(X_unigram, Y, test_size=0.2, random_state=1)"
   ]
  },
  {
   "cell_type": "code",
   "execution_count": 135,
   "metadata": {},
   "outputs": [
    {
     "name": "stdout",
     "output_type": "stream",
     "text": [
      "              precision    recall  f1-score   support\n",
      "\n",
      "           1       0.64      0.59      0.61       416\n",
      "           2       0.38      0.50      0.43       398\n",
      "           3       0.37      0.39      0.38       388\n",
      "           4       0.43      0.26      0.33       425\n",
      "           5       0.52      0.58      0.55       373\n",
      "\n",
      "    accuracy                           0.46      2000\n",
      "   macro avg       0.47      0.47      0.46      2000\n",
      "weighted avg       0.47      0.46      0.46      2000\n",
      "\n"
     ]
    },
    {
     "data": {
      "image/png": "[encoded data removed]",
      "text/plain": [
       "<Figure size 432x288 with 2 Axes>"
      ]
     },
     "metadata": {},
     "output_type": "display_data"
    }
   ],
   "source": [
    "model = MultinomialNB()\n",
    "model.fit(x_train,y_train)\n",
    "y_pred = model.predict(x_test)\n",
    "\n",
    "print(classification_report(y_test, y_pred))\n",
    "cm = confusion_matrix(y_test, y_pred)\n",
    "CM = ConfusionMatrixDisplay(confusion_matrix=cm, display_labels=[1,2,3,4,5])\n",
    "CM.plot()\n",
    "plt.grid(False)\n",
    "plt.show()"
   ]
  },
  {
   "cell_type": "markdown",
   "metadata": {},
   "source": [
    "The current accuracy looks pretty bad, however if we look at the confusion matrix, we can see that the prediction is often pretty close from the real result (+ or - 1).\\\n",
    "-> Let's calculate an accuracy that isen't sensitive to a difference of 1."
   ]
  },
  {
   "cell_type": "code",
   "execution_count": 136,
   "metadata": {},
   "outputs": [
    {
     "name": "stdout",
     "output_type": "stream",
     "text": [
      "Better accuracy metric : 0.854\n"
     ]
    }
   ],
   "source": [
    "accuracy = 0\n",
    "\n",
    "for i in range(5):\n",
    "    for j in range(5):\n",
    "        if abs(i-j) < 2:\n",
    "            accuracy += cm[i][j]\n",
    "\n",
    "accuracy = accuracy/cm.sum()\n",
    "\n",
    "print(\"Better accuracy metric : \"+str(accuracy))"
   ]
  }
 ],
 "metadata": {
  "interpreter": {
   "hash": "1a1c8e5b53816e48015fa76ea3d1ab04c09fe9ec79358180f2fd426c46aa1d3b"
  },
  "kernelspec": {
   "display_name": "Python 3.8.5 ('base')",
   "language": "python",
   "name": "python3"
  },
  "language_info": {
   "codemirror_mode": {
    "name": "ipython",
    "version": 3
   },
   "file_extension": ".py",
   "mimetype": "text/x-python",
   "name": "python",
   "nbconvert_exporter": "python",
   "pygments_lexer": "ipython3",
   "version": "3.8.5"
  },
  "orig_nbformat": 4
 },
 "nbformat": 4,
 "nbformat_minor": 2
}
