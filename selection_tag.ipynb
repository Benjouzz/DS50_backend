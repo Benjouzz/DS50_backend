{
 "cells": [
  {
   "cell_type": "code",
   "execution_count": 90,
   "metadata": {},
   "outputs": [],
   "source": [
    "import mysql.connector\n",
    "import pandas as pd\n",
    "import numpy as np\n",
    "import random"
   ]
  },
  {
   "cell_type": "code",
   "execution_count": 91,
   "metadata": {},
   "outputs": [],
   "source": [
    "def getConnectionFromServer():\n",
    "    return mysql.connector.connect(\n",
    "        host='ds50-mysql-do-user-9644544-0.b.db.ondigitalocean.com',\n",
    "        database='ds50',\n",
    "        user='ds50',\n",
    "        password='AVNS_4ybSd0CoPKnCL5F',\n",
    "        port = '25060')"
   ]
  },
  {
   "cell_type": "code",
   "execution_count": 106,
   "metadata": {},
   "outputs": [],
   "source": [
    "#Fonction qui renvoie une liste de tag(leur id) unique choisi aléatoirement dans la table TAG.\n",
    "#Elle sera remplacé par les 3 tags selectionnés par l'utilisateur (information renvoyé par le front de Zackaria)\n",
    "#Le premier paramètre nombreDeTagChoisiParUtilisateur precise le nombre de tag renvoyé.\n",
    "#Le deuxième paramètre TableTag correspond à la dataframe de la table TAG extraite de notre base de données MySQL.\n",
    "def creationListeTag(nombreDeTagChoisiParUtilisateur : int, TableTag : pd.DataFrame) -> np.array:\n",
    "    tag = TableTag['tag_id'].unique()\n",
    "    listeTag = np.array([])\n",
    "    #Potentiellment, les nombres aléatoires générés peuvent être les mêmes.\n",
    "    #On itère donc le processus jusq'à ce que tous les nombres générés soit différent\n",
    "    while np.size(listeTag) < nombreDeTagChoisiParUtilisateur: \n",
    "        for i in range(nombreDeTagChoisiParUtilisateur):\n",
    "            listeTag = np.append(listeTag,int(tag[random.randint(0,len(tag)-1)]))\n",
    "        listeTag = np.unique(listeTag)\n",
    "    return listeTag"
   ]
  },
  {
   "cell_type": "code",
   "execution_count": 100,
   "metadata": {},
   "outputs": [],
   "source": [
    "#Fonction qui renvoie un dictionnaire (clef : livre, valeur : tag) des livre unique choisi, dans la table TAGGED, parmis les plus taggé pour les tags selectionnée par la fonction creationListeTag.\n",
    "#Le premier paramètre, listeTag, contient la liste des tags choisit (générament extrait de la fonction creationListeTag).\n",
    "#Le deuxième paramètres, nombreDeLivreARetourner, précise le nombre de livre a renvoyé, on en renvoie 3 fois plus pour choisir parmis cela les mieux noté.\n",
    "#Le troisième paramètre, tableTagged, correspond à la dataframe de la table TAGGED extraite de notre base de données MySQL.\n",
    "def creationListeLivrePlusTagged(listeTag : np.array, nombreDeLivreARetourner : int, tableTagged : pd.DataFrame) -> dict:\n",
    "    n = (nombreDeLivreARetourner//len(listeTag))*3\n",
    "    counter = 0 \n",
    "    listeIdLivre = {}\n",
    "    #Potentiellment, le même livre peut faire partie du top 30 le plus tagger dans deux tag différent.\n",
    "    #On a donc créer la variable counter pour augmenter le nombre de livre selectionner dand chaque tag différent dans le cas où ça arriverai.\n",
    "    #On procède ensuite à un mélange aléatoire et à un slice pour s'assurer un équiprobabilité de distibution des livres renvoyés dans les différentes catégories.\n",
    "    while len(listeIdLivre) < (nombreDeLivreARetourner*3):\n",
    "        for tag in listeTag:\n",
    "            books = np.array(tableTagged[tableTagged['tag_id'] == tag].nlargest(n+counter, 'count')[['book_id', 'tag_id']])\n",
    "            for book, tag in books:\n",
    "                listeIdLivre[str(book)] = tag\n",
    "        counter += 1\n",
    "    listeIdLivre = dict(list(listeIdLivre.items())[:nombreDeLivreARetourner*3])  # On slice\n",
    "    return listeIdLivre\n"
   ]
  },
  {
   "cell_type": "code",
   "execution_count": 94,
   "metadata": {},
   "outputs": [],
   "source": [
    "def creationListeLivrePourChaqueTag(idTag : int, dictionnaireLivreTag : dict) -> np.array:\n",
    "    listeLivrePourUnTag = np.array([])\n",
    "    for k, val in dictionnaireLivreTag.items(): \n",
    "        if idTag == val:\n",
    "            listeLivrePourUnTag = np.append(listeLivrePourUnTag, int(k))\n",
    "    return listeLivrePourUnTag"
   ]
  },
  {
   "cell_type": "code",
   "execution_count": 109,
   "metadata": {},
   "outputs": [],
   "source": [
    "#Fonction qui permet d'établir les 33% des livres les mieux noté parmis la liste passé en argument\n",
    "def creationListeLivreMieuxNote(listeLivre : np.array, tableInteraction : pd.DataFrame, listTag : np.array, completude : bool) -> np.array:\n",
    "    if len(listeLivre) % len(listTag) == 0:\n",
    "        tableInteractionByBook = tableInteraction[tableInteraction[\"book_id\"].isin(list(listeLivre))]\n",
    "        tableInteractionByBook = tableInteractionByBook.groupby(['book_id']).mean()\n",
    "        return np.array(tableInteractionByBook.nlargest(len(listeLivre)//3, 'rating').index.values)\n",
    "    elif completude == True:\n",
    "        tableInteractionByBook = tableInteraction[tableInteraction[\"book_id\"].isin(list(listeLivre))]\n",
    "        tableInteractionByBook = tableInteractionByBook.groupby(['book_id']).mean()\n",
    "        return np.array(tableInteractionByBook.nlargest((len(listeLivre)//3)+(len(listeLivre) % len(listTag)), 'rating').index.values)\n",
    "    tableInteractionByBook = tableInteraction[tableInteraction[\"book_id\"].isin(list(listeLivre))]\n",
    "    tableInteractionByBook = tableInteractionByBook.groupby(['book_id']).mean()\n",
    "    return np.array(tableInteractionByBook.nlargest((len(listeLivre)//3), 'rating').index.values)\n",
    "        "
   ]
  },
  {
   "cell_type": "code",
   "execution_count": 112,
   "metadata": {},
   "outputs": [],
   "source": [
    "#Fonction qui permet d'avoir le dictionnaire des livres à renvoyer à zackaria.\n",
    "#Le premier argument permet d'indiquer le nombre de livre voulu.\n",
    "#Le second argument permet d'indiquer le nombre de tag choisi par l'utilisateur.\n",
    "#Les tags sont determiné aléatoirement par la fonction creationListeTag, elle sera changé avec les informations du front.\n",
    "def getBookByTagSelected(nombreDeLivreVoulu : int, nombreDeTagSelectionnéParUtilisateur : int) -> dict:\n",
    "        connection = getConnectionFromServer()\n",
    "        listeLivrePourChaqueTag = []\n",
    "        listeLivreFinal = []\n",
    "        tableTag = pd.read_sql( 'SELECT * FROM TAG', connection)\n",
    "        tableTagged = pd.read_sql( 'SELECT * FROM TAGGED', connection)\n",
    "        tableBook = pd.read_sql( 'SELECT * FROM BOOK', connection)\n",
    "        tableInteraction = pd.read_sql( 'SELECT * FROM INTERACTION', connection)\n",
    "        tags = creationListeTag(nombreDeTagSelectionnéParUtilisateur, tableTag)\n",
    "        books = creationListeLivrePlusTagged(tags, nombreDeLivreVoulu, tableTagged)\n",
    "        completude = True\n",
    "        for tag in tags:\n",
    "                listeLivrePourChaqueTag = list(creationListeLivrePourChaqueTag(tag, books))\n",
    "                listeLivreFinal += list(creationListeLivreMieuxNote(listeLivrePourChaqueTag, tableInteraction, tags, completude))\n",
    "                listeLivrePourChaqueTag = []\n",
    "                completude = False\n",
    "        tableBookSelected = tableBook[tableBook['book_id'].isin(listeLivreFinal)]\n",
    "        connection.close()\n",
    "        return tableBook.to_dict('records')"
   ]
  },
  {
   "cell_type": "code",
   "execution_count": 113,
   "metadata": {},
   "outputs": [
    {
     "name": "stderr",
     "output_type": "stream",
     "text": [
      "c:\\Users\\antoi\\AppData\\Local\\Programs\\Python\\Python310\\lib\\site-packages\\pandas\\io\\sql.py:761: UserWarning: pandas only support SQLAlchemy connectable(engine/connection) ordatabase string URI or sqlite3 DBAPI2 connectionother DBAPI2 objects are not tested, please consider using SQLAlchemy\n",
      "  warnings.warn(\n",
      "c:\\Users\\antoi\\AppData\\Local\\Programs\\Python\\Python310\\lib\\site-packages\\pandas\\io\\sql.py:761: UserWarning: pandas only support SQLAlchemy connectable(engine/connection) ordatabase string URI or sqlite3 DBAPI2 connectionother DBAPI2 objects are not tested, please consider using SQLAlchemy\n",
      "  warnings.warn(\n",
      "c:\\Users\\antoi\\AppData\\Local\\Programs\\Python\\Python310\\lib\\site-packages\\pandas\\io\\sql.py:761: UserWarning: pandas only support SQLAlchemy connectable(engine/connection) ordatabase string URI or sqlite3 DBAPI2 connectionother DBAPI2 objects are not tested, please consider using SQLAlchemy\n",
      "  warnings.warn(\n",
      "c:\\Users\\antoi\\AppData\\Local\\Programs\\Python\\Python310\\lib\\site-packages\\pandas\\io\\sql.py:761: UserWarning: pandas only support SQLAlchemy connectable(engine/connection) ordatabase string URI or sqlite3 DBAPI2 connectionother DBAPI2 objects are not tested, please consider using SQLAlchemy\n",
      "  warnings.warn(\n"
     ]
    }
   ],
   "source": [
    "result = getBookByTagSelected(50, 3)"
   ]
  }
 ],
 "metadata": {
  "interpreter": {
   "hash": "f5906c532cfa2adbf56dd818a659b28cf8a28c7bd18a371f873e9dccaa083b26"
  },
  "kernelspec": {
   "display_name": "Python 3.10.4 64-bit",
   "language": "python",
   "name": "python3"
  },
  "language_info": {
   "codemirror_mode": {
    "name": "ipython",
    "version": 3
   },
   "file_extension": ".py",
   "mimetype": "text/x-python",
   "name": "python",
   "nbconvert_exporter": "python",
   "pygments_lexer": "ipython3",
   "version": "3.10.4"
  },
  "orig_nbformat": 4
 },
 "nbformat": 4,
 "nbformat_minor": 2
}
