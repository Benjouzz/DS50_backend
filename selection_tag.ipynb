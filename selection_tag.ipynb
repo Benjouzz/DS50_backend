{
 "cells": [
  {
   "cell_type": "code",
   "execution_count": 6,
   "metadata": {},
   "outputs": [],
   "source": [
    "import mysql.connector\n",
    "import pandas as pd\n",
    "import numpy as np\n",
    "import random"
   ]
  },
  {
   "cell_type": "code",
   "execution_count": 7,
   "metadata": {},
   "outputs": [],
   "source": [
    "def getConnectionFromServer():\n",
    "    return mysql.connector.connect(\n",
    "        host='ds50-mysql-do-user-9644544-0.b.db.ondigitalocean.com',\n",
    "        database='ds50',\n",
    "        user='ds50',\n",
    "        password='AVNS_4ybSd0CoPKnCL5F',\n",
    "        port = '25060')"
   ]
  },
  {
   "cell_type": "code",
   "execution_count": 8,
   "metadata": {},
   "outputs": [],
   "source": [
    "#Fonction qui renvoie une liste de tag(leur id) unique choisi aléatoirement dans la table TAG.\n",
    "#Elle sera remplacé par les 3 tags selectionnés par l'utilisateur (information renvoyé par le front de Zackaria)\n",
    "#Le premier paramètre nombreDeTagChoisiParUtilisateur precise le nombre de tag renvoyé.\n",
    "#Le deuxième paramètre TableTag correspond à la dataframe de la table TAG extraite de notre base de données MySQL.\n",
    "def creationListeTag(nombreDeTagChoisiParUtilisateur : int, TableTag : pd.DataFrame) -> np.array:\n",
    "    tag = TableTag['tag_id'].unique()\n",
    "    listeTag = np.array([])\n",
    "    #Potentiellment, les nombres aléatoires générés peuvent être les mêmes.\n",
    "    #On itère donc le processus jusq'à ce que tous les nombres générés soit différent\n",
    "    while np.size(listeTag) < nombreDeTagChoisiParUtilisateur: \n",
    "        for i in range(nombreDeTagChoisiParUtilisateur):\n",
    "            listeTag = np.append(listeTag,int(tag[random.randint(0,len(tag)-1)]))\n",
    "        listeTag = np.unique(listeTag)\n",
    "    return listeTag"
   ]
  },
  {
   "cell_type": "code",
   "execution_count": 9,
   "metadata": {},
   "outputs": [],
   "source": [
    "#Fonction qui renvoie une liste de livre(leur id) unique choisi, dans la table TAGGED, parmis les plus taggé pour les tags selectionnée par la fonction creationListeTag.\n",
    "#Le premier paramètre, listeTag, contient la liste des tags choisit (générament extrait de la fonction creationListeTag).\n",
    "#Le deuxième paramètres, nombreDeLivreARetourner, précise le nombre de livre a renvoyé.\n",
    "#Le troisième paramètre, tableTagged, correspond à la dataframe de la table TAGGED extraite de notre base de données MySQL.\n",
    "def createListeLivre(listeTag : np.array, nombreDeLivreARetourner : int, tableTagged : pd.DataFrame) -> np.array:\n",
    "    n = nombreDeLivreARetourner//len(listeTag)\n",
    "    counter = 0 \n",
    "    listeIdLivre = np.array([])\n",
    "    #Potentiellment, le même livre peut faire partie du top 30 le plus tagger dans deux tag différent.\n",
    "    #On a donc créer la variable counter pour augmenter le nombre de livre selectionner dand chaque tag différent dans le cas où ça arriverai.\n",
    "    #On procède ensuite à un mélange aléatoire et à un slice pour s'assurer un équiprobabilité de distibution des livres renvoyés dans les différentes catégories.\n",
    "    while np.size(listeIdLivre) < nombreDeLivreARetourner:\n",
    "        listeIdLivre = np.array([])\n",
    "        for tag in listeTag:\n",
    "            books = np.array(tableTagged[tableTagged['tag_id'] == tag].nlargest(n+counter, 'count')['book_id'])\n",
    "            for book in books:\n",
    "                listeIdLivre = np.append(listeIdLivre,int(book))\n",
    "        \n",
    "        listeIdLivre = np.unique(listeIdLivre)\n",
    "        counter += 1\n",
    "        \n",
    "    np.random.shuffle(listeIdLivre) #On mélange aléatoirement\n",
    "    listeIdLivre = listeIdLivre[0:nombreDeLivreARetourner-1] #On slice\n",
    "    return listeIdLivre\n"
   ]
  },
  {
   "cell_type": "code",
   "execution_count": 12,
   "metadata": {},
   "outputs": [],
   "source": [
    "#Fonction qui permet d'avoir le dictonnaire des livres à renvoyer à zack\n",
    "def getBookByTagSelected(nombreDeLivreVoulu : int, nombreDeTagSelectionnéParUtilisateur : int) -> dict:\n",
    "        connection = getConnectionFromServer()\n",
    "        tableTag = pd.read_sql( 'SELECT * FROM TAG', connection)\n",
    "        tableTagged = pd.read_sql( 'SELECT * FROM TAGGED', connection)\n",
    "        tableBook = pd.read_sql( 'SELECT * FROM BOOK', connection)\n",
    "        tags = creationListeTag(nombreDeTagSelectionnéParUtilisateur, tableTag)\n",
    "        books = createListeLivre(tags, nombreDeLivreVoulu, tableTagged)\n",
    "        tableBookSelected = pd.DataFrame()\n",
    "        for book in books:\n",
    "                tableBookSelected = pd.concat(tableBookSelected, tableBook[tableBook['book_id'] == book])\n",
    "        return tableBook.to_dict('record')\n",
    "        \n",
    "        \n",
    "        "
   ]
  },
  {
   "cell_type": "code",
   "execution_count": 13,
   "metadata": {},
   "outputs": [
    {
     "name": "stderr",
     "output_type": "stream",
     "text": [
      "c:\\Users\\antoi\\AppData\\Local\\Programs\\Python\\Python310\\lib\\site-packages\\pandas\\io\\sql.py:761: UserWarning: pandas only support SQLAlchemy connectable(engine/connection) ordatabase string URI or sqlite3 DBAPI2 connectionother DBAPI2 objects are not tested, please consider using SQLAlchemy\n",
      "  warnings.warn(\n",
      "c:\\Users\\antoi\\AppData\\Local\\Programs\\Python\\Python310\\lib\\site-packages\\pandas\\io\\sql.py:761: UserWarning: pandas only support SQLAlchemy connectable(engine/connection) ordatabase string URI or sqlite3 DBAPI2 connectionother DBAPI2 objects are not tested, please consider using SQLAlchemy\n",
      "  warnings.warn(\n",
      "c:\\Users\\antoi\\AppData\\Local\\Programs\\Python\\Python310\\lib\\site-packages\\pandas\\io\\sql.py:761: UserWarning: pandas only support SQLAlchemy connectable(engine/connection) ordatabase string URI or sqlite3 DBAPI2 connectionother DBAPI2 objects are not tested, please consider using SQLAlchemy\n",
      "  warnings.warn(\n",
      "C:\\Users\\antoi\\AppData\\Local\\Temp\\ipykernel_1664\\77977895.py:11: FutureWarning: In a future version of pandas all arguments of concat except for the argument 'objs' will be keyword-only.\n",
      "  tableBookSelected = pd.concat(tableBookSelected, tableBook[tableBook['book_id'] == book])\n"
     ]
    },
    {
     "ename": "TypeError",
     "evalue": "first argument must be an iterable of pandas objects, you passed an object of type \"DataFrame\"",
     "output_type": "error",
     "traceback": [
      "\u001b[1;31m---------------------------------------------------------------------------\u001b[0m",
      "\u001b[1;31mTypeError\u001b[0m                                 Traceback (most recent call last)",
      "\u001b[1;32mc:\\Users\\antoi\\Documents\\UTBM\\UTBM_2022P\\DS50\\DS50_backend\\selection_tag.ipynb Cell 6'\u001b[0m in \u001b[0;36m<cell line: 1>\u001b[1;34m()\u001b[0m\n\u001b[1;32m----> <a href='vscode-notebook-cell:/c%3A/Users/antoi/Documents/UTBM/UTBM_2022P/DS50/DS50_backend/selection_tag.ipynb#ch0000005?line=0'>1</a>\u001b[0m json \u001b[39m=\u001b[39m getBookByTagSelected(\u001b[39m100\u001b[39;49m, \u001b[39m5\u001b[39;49m)\n",
      "\u001b[1;32mc:\\Users\\antoi\\Documents\\UTBM\\UTBM_2022P\\DS50\\DS50_backend\\selection_tag.ipynb Cell 5'\u001b[0m in \u001b[0;36mgetBookByTagSelected\u001b[1;34m(nombreDeLivreVoulu, nombreDeTagSelectionnéParUtilisateur)\u001b[0m\n\u001b[0;32m      <a href='vscode-notebook-cell:/c%3A/Users/antoi/Documents/UTBM/UTBM_2022P/DS50/DS50_backend/selection_tag.ipynb#ch0000004?line=8'>9</a>\u001b[0m tableBookSelected \u001b[39m=\u001b[39m pd\u001b[39m.\u001b[39mDataFrame()\n\u001b[0;32m     <a href='vscode-notebook-cell:/c%3A/Users/antoi/Documents/UTBM/UTBM_2022P/DS50/DS50_backend/selection_tag.ipynb#ch0000004?line=9'>10</a>\u001b[0m \u001b[39mfor\u001b[39;00m book \u001b[39min\u001b[39;00m books:\n\u001b[1;32m---> <a href='vscode-notebook-cell:/c%3A/Users/antoi/Documents/UTBM/UTBM_2022P/DS50/DS50_backend/selection_tag.ipynb#ch0000004?line=10'>11</a>\u001b[0m         tableBookSelected \u001b[39m=\u001b[39m pd\u001b[39m.\u001b[39;49mconcat(tableBookSelected, tableBook[tableBook[\u001b[39m'\u001b[39;49m\u001b[39mbook_id\u001b[39;49m\u001b[39m'\u001b[39;49m] \u001b[39m==\u001b[39;49m book])\n\u001b[0;32m     <a href='vscode-notebook-cell:/c%3A/Users/antoi/Documents/UTBM/UTBM_2022P/DS50/DS50_backend/selection_tag.ipynb#ch0000004?line=11'>12</a>\u001b[0m \u001b[39mreturn\u001b[39;00m tableBook\u001b[39m.\u001b[39mto_dict(\u001b[39m'\u001b[39m\u001b[39mrecord\u001b[39m\u001b[39m'\u001b[39m)\n",
      "File \u001b[1;32mc:\\Users\\antoi\\AppData\\Local\\Programs\\Python\\Python310\\lib\\site-packages\\pandas\\util\\_decorators.py:311\u001b[0m, in \u001b[0;36mdeprecate_nonkeyword_arguments.<locals>.decorate.<locals>.wrapper\u001b[1;34m(*args, **kwargs)\u001b[0m\n\u001b[0;32m    <a href='file:///c%3A/Users/antoi/AppData/Local/Programs/Python/Python310/lib/site-packages/pandas/util/_decorators.py?line=304'>305</a>\u001b[0m \u001b[39mif\u001b[39;00m \u001b[39mlen\u001b[39m(args) \u001b[39m>\u001b[39m num_allow_args:\n\u001b[0;32m    <a href='file:///c%3A/Users/antoi/AppData/Local/Programs/Python/Python310/lib/site-packages/pandas/util/_decorators.py?line=305'>306</a>\u001b[0m     warnings\u001b[39m.\u001b[39mwarn(\n\u001b[0;32m    <a href='file:///c%3A/Users/antoi/AppData/Local/Programs/Python/Python310/lib/site-packages/pandas/util/_decorators.py?line=306'>307</a>\u001b[0m         msg\u001b[39m.\u001b[39mformat(arguments\u001b[39m=\u001b[39marguments),\n\u001b[0;32m    <a href='file:///c%3A/Users/antoi/AppData/Local/Programs/Python/Python310/lib/site-packages/pandas/util/_decorators.py?line=307'>308</a>\u001b[0m         \u001b[39mFutureWarning\u001b[39;00m,\n\u001b[0;32m    <a href='file:///c%3A/Users/antoi/AppData/Local/Programs/Python/Python310/lib/site-packages/pandas/util/_decorators.py?line=308'>309</a>\u001b[0m         stacklevel\u001b[39m=\u001b[39mstacklevel,\n\u001b[0;32m    <a href='file:///c%3A/Users/antoi/AppData/Local/Programs/Python/Python310/lib/site-packages/pandas/util/_decorators.py?line=309'>310</a>\u001b[0m     )\n\u001b[1;32m--> <a href='file:///c%3A/Users/antoi/AppData/Local/Programs/Python/Python310/lib/site-packages/pandas/util/_decorators.py?line=310'>311</a>\u001b[0m \u001b[39mreturn\u001b[39;00m func(\u001b[39m*\u001b[39margs, \u001b[39m*\u001b[39m\u001b[39m*\u001b[39mkwargs)\n",
      "File \u001b[1;32mc:\\Users\\antoi\\AppData\\Local\\Programs\\Python\\Python310\\lib\\site-packages\\pandas\\core\\reshape\\concat.py:347\u001b[0m, in \u001b[0;36mconcat\u001b[1;34m(objs, axis, join, ignore_index, keys, levels, names, verify_integrity, sort, copy)\u001b[0m\n\u001b[0;32m    <a href='file:///c%3A/Users/antoi/AppData/Local/Programs/Python/Python310/lib/site-packages/pandas/core/reshape/concat.py?line=142'>143</a>\u001b[0m \u001b[39m@deprecate_nonkeyword_arguments\u001b[39m(version\u001b[39m=\u001b[39m\u001b[39mNone\u001b[39;00m, allowed_args\u001b[39m=\u001b[39m[\u001b[39m\"\u001b[39m\u001b[39mobjs\u001b[39m\u001b[39m\"\u001b[39m])\n\u001b[0;32m    <a href='file:///c%3A/Users/antoi/AppData/Local/Programs/Python/Python310/lib/site-packages/pandas/core/reshape/concat.py?line=143'>144</a>\u001b[0m \u001b[39mdef\u001b[39;00m \u001b[39mconcat\u001b[39m(\n\u001b[0;32m    <a href='file:///c%3A/Users/antoi/AppData/Local/Programs/Python/Python310/lib/site-packages/pandas/core/reshape/concat.py?line=144'>145</a>\u001b[0m     objs: Iterable[NDFrame] \u001b[39m|\u001b[39m Mapping[Hashable, NDFrame],\n\u001b[1;32m   (...)\u001b[0m\n\u001b[0;32m    <a href='file:///c%3A/Users/antoi/AppData/Local/Programs/Python/Python310/lib/site-packages/pandas/core/reshape/concat.py?line=153'>154</a>\u001b[0m     copy: \u001b[39mbool\u001b[39m \u001b[39m=\u001b[39m \u001b[39mTrue\u001b[39;00m,\n\u001b[0;32m    <a href='file:///c%3A/Users/antoi/AppData/Local/Programs/Python/Python310/lib/site-packages/pandas/core/reshape/concat.py?line=154'>155</a>\u001b[0m ) \u001b[39m-\u001b[39m\u001b[39m>\u001b[39m DataFrame \u001b[39m|\u001b[39m Series:\n\u001b[0;32m    <a href='file:///c%3A/Users/antoi/AppData/Local/Programs/Python/Python310/lib/site-packages/pandas/core/reshape/concat.py?line=155'>156</a>\u001b[0m     \u001b[39m\"\"\"\u001b[39;00m\n\u001b[0;32m    <a href='file:///c%3A/Users/antoi/AppData/Local/Programs/Python/Python310/lib/site-packages/pandas/core/reshape/concat.py?line=156'>157</a>\u001b[0m \u001b[39m    Concatenate pandas objects along a particular axis with optional set logic\u001b[39;00m\n\u001b[0;32m    <a href='file:///c%3A/Users/antoi/AppData/Local/Programs/Python/Python310/lib/site-packages/pandas/core/reshape/concat.py?line=157'>158</a>\u001b[0m \u001b[39m    along the other axes.\u001b[39;00m\n\u001b[1;32m   (...)\u001b[0m\n\u001b[0;32m    <a href='file:///c%3A/Users/antoi/AppData/Local/Programs/Python/Python310/lib/site-packages/pandas/core/reshape/concat.py?line=344'>345</a>\u001b[0m \u001b[39m    ValueError: Indexes have overlapping values: ['a']\u001b[39;00m\n\u001b[0;32m    <a href='file:///c%3A/Users/antoi/AppData/Local/Programs/Python/Python310/lib/site-packages/pandas/core/reshape/concat.py?line=345'>346</a>\u001b[0m \u001b[39m    \"\"\"\u001b[39;00m\n\u001b[1;32m--> <a href='file:///c%3A/Users/antoi/AppData/Local/Programs/Python/Python310/lib/site-packages/pandas/core/reshape/concat.py?line=346'>347</a>\u001b[0m     op \u001b[39m=\u001b[39m _Concatenator(\n\u001b[0;32m    <a href='file:///c%3A/Users/antoi/AppData/Local/Programs/Python/Python310/lib/site-packages/pandas/core/reshape/concat.py?line=347'>348</a>\u001b[0m         objs,\n\u001b[0;32m    <a href='file:///c%3A/Users/antoi/AppData/Local/Programs/Python/Python310/lib/site-packages/pandas/core/reshape/concat.py?line=348'>349</a>\u001b[0m         axis\u001b[39m=\u001b[39;49maxis,\n\u001b[0;32m    <a href='file:///c%3A/Users/antoi/AppData/Local/Programs/Python/Python310/lib/site-packages/pandas/core/reshape/concat.py?line=349'>350</a>\u001b[0m         ignore_index\u001b[39m=\u001b[39;49mignore_index,\n\u001b[0;32m    <a href='file:///c%3A/Users/antoi/AppData/Local/Programs/Python/Python310/lib/site-packages/pandas/core/reshape/concat.py?line=350'>351</a>\u001b[0m         join\u001b[39m=\u001b[39;49mjoin,\n\u001b[0;32m    <a href='file:///c%3A/Users/antoi/AppData/Local/Programs/Python/Python310/lib/site-packages/pandas/core/reshape/concat.py?line=351'>352</a>\u001b[0m         keys\u001b[39m=\u001b[39;49mkeys,\n\u001b[0;32m    <a href='file:///c%3A/Users/antoi/AppData/Local/Programs/Python/Python310/lib/site-packages/pandas/core/reshape/concat.py?line=352'>353</a>\u001b[0m         levels\u001b[39m=\u001b[39;49mlevels,\n\u001b[0;32m    <a href='file:///c%3A/Users/antoi/AppData/Local/Programs/Python/Python310/lib/site-packages/pandas/core/reshape/concat.py?line=353'>354</a>\u001b[0m         names\u001b[39m=\u001b[39;49mnames,\n\u001b[0;32m    <a href='file:///c%3A/Users/antoi/AppData/Local/Programs/Python/Python310/lib/site-packages/pandas/core/reshape/concat.py?line=354'>355</a>\u001b[0m         verify_integrity\u001b[39m=\u001b[39;49mverify_integrity,\n\u001b[0;32m    <a href='file:///c%3A/Users/antoi/AppData/Local/Programs/Python/Python310/lib/site-packages/pandas/core/reshape/concat.py?line=355'>356</a>\u001b[0m         copy\u001b[39m=\u001b[39;49mcopy,\n\u001b[0;32m    <a href='file:///c%3A/Users/antoi/AppData/Local/Programs/Python/Python310/lib/site-packages/pandas/core/reshape/concat.py?line=356'>357</a>\u001b[0m         sort\u001b[39m=\u001b[39;49msort,\n\u001b[0;32m    <a href='file:///c%3A/Users/antoi/AppData/Local/Programs/Python/Python310/lib/site-packages/pandas/core/reshape/concat.py?line=357'>358</a>\u001b[0m     )\n\u001b[0;32m    <a href='file:///c%3A/Users/antoi/AppData/Local/Programs/Python/Python310/lib/site-packages/pandas/core/reshape/concat.py?line=359'>360</a>\u001b[0m     \u001b[39mreturn\u001b[39;00m op\u001b[39m.\u001b[39mget_result()\n",
      "File \u001b[1;32mc:\\Users\\antoi\\AppData\\Local\\Programs\\Python\\Python310\\lib\\site-packages\\pandas\\core\\reshape\\concat.py:382\u001b[0m, in \u001b[0;36m_Concatenator.__init__\u001b[1;34m(self, objs, axis, join, keys, levels, names, ignore_index, verify_integrity, copy, sort)\u001b[0m\n\u001b[0;32m    <a href='file:///c%3A/Users/antoi/AppData/Local/Programs/Python/Python310/lib/site-packages/pandas/core/reshape/concat.py?line=367'>368</a>\u001b[0m \u001b[39mdef\u001b[39;00m \u001b[39m__init__\u001b[39m(\n\u001b[0;32m    <a href='file:///c%3A/Users/antoi/AppData/Local/Programs/Python/Python310/lib/site-packages/pandas/core/reshape/concat.py?line=368'>369</a>\u001b[0m     \u001b[39mself\u001b[39m,\n\u001b[0;32m    <a href='file:///c%3A/Users/antoi/AppData/Local/Programs/Python/Python310/lib/site-packages/pandas/core/reshape/concat.py?line=369'>370</a>\u001b[0m     objs: Iterable[NDFrame] \u001b[39m|\u001b[39m Mapping[Hashable, NDFrame],\n\u001b[1;32m   (...)\u001b[0m\n\u001b[0;32m    <a href='file:///c%3A/Users/antoi/AppData/Local/Programs/Python/Python310/lib/site-packages/pandas/core/reshape/concat.py?line=378'>379</a>\u001b[0m     sort\u001b[39m=\u001b[39m\u001b[39mFalse\u001b[39;00m,\n\u001b[0;32m    <a href='file:///c%3A/Users/antoi/AppData/Local/Programs/Python/Python310/lib/site-packages/pandas/core/reshape/concat.py?line=379'>380</a>\u001b[0m ):\n\u001b[0;32m    <a href='file:///c%3A/Users/antoi/AppData/Local/Programs/Python/Python310/lib/site-packages/pandas/core/reshape/concat.py?line=380'>381</a>\u001b[0m     \u001b[39mif\u001b[39;00m \u001b[39misinstance\u001b[39m(objs, (ABCSeries, ABCDataFrame, \u001b[39mstr\u001b[39m)):\n\u001b[1;32m--> <a href='file:///c%3A/Users/antoi/AppData/Local/Programs/Python/Python310/lib/site-packages/pandas/core/reshape/concat.py?line=381'>382</a>\u001b[0m         \u001b[39mraise\u001b[39;00m \u001b[39mTypeError\u001b[39;00m(\n\u001b[0;32m    <a href='file:///c%3A/Users/antoi/AppData/Local/Programs/Python/Python310/lib/site-packages/pandas/core/reshape/concat.py?line=382'>383</a>\u001b[0m             \u001b[39m\"\u001b[39m\u001b[39mfirst argument must be an iterable of pandas \u001b[39m\u001b[39m\"\u001b[39m\n\u001b[0;32m    <a href='file:///c%3A/Users/antoi/AppData/Local/Programs/Python/Python310/lib/site-packages/pandas/core/reshape/concat.py?line=383'>384</a>\u001b[0m             \u001b[39mf\u001b[39m\u001b[39m'\u001b[39m\u001b[39mobjects, you passed an object of type \u001b[39m\u001b[39m\"\u001b[39m\u001b[39m{\u001b[39;00m\u001b[39mtype\u001b[39m(objs)\u001b[39m.\u001b[39m\u001b[39m__name__\u001b[39m\u001b[39m}\u001b[39;00m\u001b[39m\"\u001b[39m\u001b[39m'\u001b[39m\n\u001b[0;32m    <a href='file:///c%3A/Users/antoi/AppData/Local/Programs/Python/Python310/lib/site-packages/pandas/core/reshape/concat.py?line=384'>385</a>\u001b[0m         )\n\u001b[0;32m    <a href='file:///c%3A/Users/antoi/AppData/Local/Programs/Python/Python310/lib/site-packages/pandas/core/reshape/concat.py?line=386'>387</a>\u001b[0m     \u001b[39mif\u001b[39;00m join \u001b[39m==\u001b[39m \u001b[39m\"\u001b[39m\u001b[39mouter\u001b[39m\u001b[39m\"\u001b[39m:\n\u001b[0;32m    <a href='file:///c%3A/Users/antoi/AppData/Local/Programs/Python/Python310/lib/site-packages/pandas/core/reshape/concat.py?line=387'>388</a>\u001b[0m         \u001b[39mself\u001b[39m\u001b[39m.\u001b[39mintersect \u001b[39m=\u001b[39m \u001b[39mFalse\u001b[39;00m\n",
      "\u001b[1;31mTypeError\u001b[0m: first argument must be an iterable of pandas objects, you passed an object of type \"DataFrame\""
     ]
    }
   ],
   "source": [
    "json = getBookByTagSelected(100, 5)\n"
   ]
  }
 ],
 "metadata": {
  "interpreter": {
   "hash": "f5906c532cfa2adbf56dd818a659b28cf8a28c7bd18a371f873e9dccaa083b26"
  },
  "kernelspec": {
   "display_name": "Python 3.10.4 64-bit",
   "language": "python",
   "name": "python3"
  },
  "language_info": {
   "codemirror_mode": {
    "name": "ipython",
    "version": 3
   },
   "file_extension": ".py",
   "mimetype": "text/x-python",
   "name": "python",
   "nbconvert_exporter": "python",
   "pygments_lexer": "ipython3",
   "version": "3.10.4"
  },
  "orig_nbformat": 4
 },
 "nbformat": 4,
 "nbformat_minor": 2
}
