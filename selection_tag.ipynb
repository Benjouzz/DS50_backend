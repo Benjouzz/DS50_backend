{
 "cells": [
  {
   "cell_type": "code",
   "execution_count": 6,
   "metadata": {},
   "outputs": [],
   "source": [
    "import mysql.connector\n",
    "import pandas as pd\n",
    "import numpy as np\n",
    "import random"
   ]
  },
  {
   "cell_type": "code",
   "execution_count": 7,
   "metadata": {},
   "outputs": [],
   "source": [
    "def getConnectionFromServer():\n",
    "    return mysql.connector.connect(\n",
    "        host='ds50-mysql-do-user-9644544-0.b.db.ondigitalocean.com',\n",
    "        database='ds50',\n",
    "        user='ds50',\n",
    "        password='AVNS_4ybSd0CoPKnCL5F',\n",
    "        port = '25060')"
   ]
  },
  {
   "cell_type": "code",
   "execution_count": 8,
   "metadata": {},
   "outputs": [],
   "source": [
    "#Fonction qui renvoie une liste de tag(leur id) unique choisi aléatoirement dans la table TAG.\n",
    "#Elle sera remplacé par les 3 tags selectionnés par l'utilisateur (information renvoyé par le front de Zackaria)\n",
    "#Le premier paramètre nombreDeTagChoisiParUtilisateur precise le nombre de tag renvoyé.\n",
    "#Le deuxième paramètre TableTag correspond à la dataframe de la table TAG extraite de notre base de données MySQL.\n",
    "def creationListeTag(nombreDeTagChoisiParUtilisateur : int, TableTag : pd.DataFrame) -> np.array:\n",
    "    tag = TableTag['tag_id'].unique()\n",
    "    listeTag = np.array([])\n",
    "    #Potentiellment, les nombres aléatoires générés peuvent être les mêmes.\n",
    "    #On itère donc le processus jusq'à ce que tous les nombres générés soit différent\n",
    "    while np.size(listeTag) < nombreDeTagChoisiParUtilisateur: \n",
    "        for i in range(nombreDeTagChoisiParUtilisateur):\n",
    "            listeTag = np.append(listeTag,int(tag[random.randint(0,len(tag)-1)]))\n",
    "        listeTag = np.unique(listeTag)\n",
    "    return listeTag"
   ]
  },
  {
   "cell_type": "code",
   "execution_count": 9,
   "metadata": {},
   "outputs": [],
   "source": [
    "#Fonction qui renvoie une liste de livre(leur id) unique choisi, dans la table TAGGED, parmis les plus taggé pour les tags selectionnée par la fonction creationListeTag.\n",
    "#Le premier paramètre, listeTag, contient la liste des tags choisit (générament extrait de la fonction creationListeTag).\n",
    "#Le deuxième paramètres, nombreDeLivreARetourner, précise le nombre de livre a renvoyé.\n",
    "#Le troisième paramètre, tableTagged, correspond à la dataframe de la table TAGGED extraite de notre base de données MySQL.\n",
    "def createListeLivre(listeTag : np.array, nombreDeLivreARetourner : int, tableTagged : pd.DataFrame) -> np.array:\n",
    "    n = nombreDeLivreARetourner//len(listeTag)\n",
    "    counter = 0 \n",
    "    listeIdLivre = np.array([])\n",
    "    #Potentiellment, le même livre peut faire partie du top 30 le plus tagger dans deux tag différent.\n",
    "    #On a donc créer la variable counter pour augmenter le nombre de livre selectionner dand chaque tag différent dans le cas où ça arriverai.\n",
    "    #On procède ensuite à un mélange aléatoire et à un slice pour s'assurer un équiprobabilité de distibution des livres renvoyés dans les différentes catégories.\n",
    "    while np.size(listeIdLivre) < nombreDeLivreARetourner:\n",
    "        listeIdLivre = np.array([])\n",
    "        for tag in listeTag:\n",
    "            books = np.array(tableTagged[tableTagged['tag_id'] == tag].nlargest(n+counter, 'count')['book_id'])\n",
    "            for book in books:\n",
    "                listeIdLivre = np.append(listeIdLivre,int(book))\n",
    "        \n",
    "        listeIdLivre = np.unique(listeIdLivre)\n",
    "        counter += 1\n",
    "        \n",
    "    np.random.shuffle(listeIdLivre) #On mélange aléatoirement\n",
    "    listeIdLivre = listeIdLivre[0:nombreDeLivreARetourner-1] #On slice\n",
    "    return listeIdLivre\n"
   ]
  },
  {
   "cell_type": "code",
   "execution_count": 18,
   "metadata": {},
   "outputs": [],
   "source": [
    "#Fonction qui permet d'avoir le dictionnaire des livres à renvoyer à zackaria.\n",
    "#Le premier argument permet d'indiquer le nombre de livre voulu.\n",
    "#Le second argument permet d'indiquer le nombre de tag choisi par l'utilisateur.\n",
    "#Les tags sont determiné aléatoirement par la fonction creationListeTag, elle sera changé avec les informations du front.\n",
    "def getBookByTagSelected(nombreDeLivreVoulu : int, nombreDeTagSelectionnéParUtilisateur : int) -> dict:\n",
    "        connection = getConnectionFromServer()\n",
    "        tableTag = pd.read_sql( 'SELECT * FROM TAG', connection)\n",
    "        tableTagged = pd.read_sql( 'SELECT * FROM TAGGED', connection)\n",
    "        tableBook = pd.read_sql( 'SELECT * FROM BOOK', connection)\n",
    "        tags = creationListeTag(nombreDeTagSelectionnéParUtilisateur, tableTag)\n",
    "        books = createListeLivre(tags, nombreDeLivreVoulu, tableTagged)\n",
    "        tableBookSelected = pd.DataFrame()\n",
    "        for book in books:\n",
    "                tableBookSelected = pd.concat([tableBookSelected, tableBook[tableBook['book_id'] == book]])\n",
    "        return tableBook.to_dict('records')\n",
    "        \n",
    "        \n",
    "        "
   ]
  },
  {
   "cell_type": "code",
   "execution_count": 19,
   "metadata": {},
   "outputs": [
    {
     "name": "stderr",
     "output_type": "stream",
     "text": [
      "c:\\Users\\antoi\\AppData\\Local\\Programs\\Python\\Python310\\lib\\site-packages\\pandas\\io\\sql.py:761: UserWarning: pandas only support SQLAlchemy connectable(engine/connection) ordatabase string URI or sqlite3 DBAPI2 connectionother DBAPI2 objects are not tested, please consider using SQLAlchemy\n",
      "  warnings.warn(\n",
      "c:\\Users\\antoi\\AppData\\Local\\Programs\\Python\\Python310\\lib\\site-packages\\pandas\\io\\sql.py:761: UserWarning: pandas only support SQLAlchemy connectable(engine/connection) ordatabase string URI or sqlite3 DBAPI2 connectionother DBAPI2 objects are not tested, please consider using SQLAlchemy\n",
      "  warnings.warn(\n",
      "c:\\Users\\antoi\\AppData\\Local\\Programs\\Python\\Python310\\lib\\site-packages\\pandas\\io\\sql.py:761: UserWarning: pandas only support SQLAlchemy connectable(engine/connection) ordatabase string URI or sqlite3 DBAPI2 connectionother DBAPI2 objects are not tested, please consider using SQLAlchemy\n",
      "  warnings.warn(\n",
      "C:\\Users\\antoi\\AppData\\Local\\Temp\\ipykernel_1664\\1600806694.py:15: FutureWarning: Using short name for 'orient' is deprecated. Only the options: ('dict', list, 'series', 'split', 'records', 'index') will be used in a future version. Use one of the above to silence this warning.\n",
      "  return tableBook.to_dict('record')\n"
     ]
    }
   ],
   "source": [
    "json = getBookByTagSelected(100, 5)\n"
   ]
  }
 ],
 "metadata": {
  "interpreter": {
   "hash": "f5906c532cfa2adbf56dd818a659b28cf8a28c7bd18a371f873e9dccaa083b26"
  },
  "kernelspec": {
   "display_name": "Python 3.10.4 64-bit",
   "language": "python",
   "name": "python3"
  },
  "language_info": {
   "codemirror_mode": {
    "name": "ipython",
    "version": 3
   },
   "file_extension": ".py",
   "mimetype": "text/x-python",
   "name": "python",
   "nbconvert_exporter": "python",
   "pygments_lexer": "ipython3",
   "version": "3.10.4"
  },
  "orig_nbformat": 4
 },
 "nbformat": 4,
 "nbformat_minor": 2
}
