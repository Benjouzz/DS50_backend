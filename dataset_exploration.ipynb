{
 "cells": [
  {
   "cell_type": "markdown",
   "metadata": {},
   "source": [
    "# Data Exploration\n",
    "## Goodreads Books Dataset"
   ]
  },
  {
   "cell_type": "code",
   "execution_count": 41,
   "metadata": {},
   "outputs": [],
   "source": [
    "import pandas as pd\n",
    "import numpy as np\n",
    "import gzip\n",
    "import json\n",
    "\n",
    "import seaborn as sns\n",
    "\n",
    "import matplotlib\n",
    "import matplotlib.pyplot as plt\n",
    "\n",
    "sns.set_theme(style=\"darkgrid\")"
   ]
  },
  {
   "cell_type": "code",
   "execution_count": 42,
   "metadata": {},
   "outputs": [],
   "source": [
    "def load_data(file_name, head = 500):\n",
    "    count = 0\n",
    "    data = []\n",
    "    with gzip.open(file_name) as fin:\n",
    "        for l in fin:\n",
    "            d = json.loads(l)\n",
    "            count += 1\n",
    "            data.append(d)\n",
    "            \n",
    "            # break if reaches the 100th line\n",
    "            if (head is not None) and (count > head):\n",
    "                break\n",
    "    return pd.DataFrame(data)"
   ]
  },
  {
   "cell_type": "code",
   "execution_count": 43,
   "metadata": {},
   "outputs": [],
   "source": [
    "# Load samples\n",
    "books = load_data('data/raw/goodreads_books.json.gz', head=10000)\n",
    "reviews = load_data('data/raw/goodreads_reviews_dedup.json.gz', head=50000)"
   ]
  },
  {
   "cell_type": "code",
   "execution_count": 44,
   "metadata": {},
   "outputs": [
    {
     "name": "stdout",
     "output_type": "stream",
     "text": [
      "<class 'pandas.core.frame.DataFrame'>\n",
      "RangeIndex: 10001 entries, 0 to 10000\n",
      "Data columns (total 29 columns):\n",
      " #   Column                Non-Null Count  Dtype \n",
      "---  ------                --------------  ----- \n",
      " 0   isbn                  10001 non-null  object\n",
      " 1   text_reviews_count    10001 non-null  object\n",
      " 2   series                10001 non-null  object\n",
      " 3   country_code          10001 non-null  object\n",
      " 4   language_code         10001 non-null  object\n",
      " 5   popular_shelves       10001 non-null  object\n",
      " 6   asin                  10001 non-null  object\n",
      " 7   is_ebook              10001 non-null  object\n",
      " 8   average_rating        10001 non-null  object\n",
      " 9   kindle_asin           10001 non-null  object\n",
      " 10  similar_books         10001 non-null  object\n",
      " 11  description           10001 non-null  object\n",
      " 12  format                10001 non-null  object\n",
      " 13  link                  10001 non-null  object\n",
      " 14  authors               10001 non-null  object\n",
      " 15  publisher             10001 non-null  object\n",
      " 16  num_pages             10001 non-null  object\n",
      " 17  publication_day       10001 non-null  object\n",
      " 18  isbn13                10001 non-null  object\n",
      " 19  publication_month     10001 non-null  object\n",
      " 20  edition_information   10001 non-null  object\n",
      " 21  publication_year      10001 non-null  object\n",
      " 22  url                   10001 non-null  object\n",
      " 23  image_url             10001 non-null  object\n",
      " 24  book_id               10001 non-null  object\n",
      " 25  ratings_count         10001 non-null  object\n",
      " 26  work_id               10001 non-null  object\n",
      " 27  title                 10001 non-null  object\n",
      " 28  title_without_series  10001 non-null  object\n",
      "dtypes: object(29)\n",
      "memory usage: 2.2+ MB\n"
     ]
    }
   ],
   "source": [
    "books.info()"
   ]
  },
  {
   "cell_type": "markdown",
   "metadata": {},
   "source": [
    "-> Only object type columns so we need to format the dataset.\\\n",
    "-> Missing values are not counted because of object type."
   ]
  },
  {
   "cell_type": "code",
   "execution_count": 45,
   "metadata": {},
   "outputs": [
    {
     "data": {
      "text/html": [
       "<div>\n",
       "<style scoped>\n",
       "    .dataframe tbody tr th:only-of-type {\n",
       "        vertical-align: middle;\n",
       "    }\n",
       "\n",
       "    .dataframe tbody tr th {\n",
       "        vertical-align: top;\n",
       "    }\n",
       "\n",
       "    .dataframe thead th {\n",
       "        text-align: right;\n",
       "    }\n",
       "</style>\n",
       "<table border=\"1\" class=\"dataframe\">\n",
       "  <thead>\n",
       "    <tr style=\"text-align: right;\">\n",
       "      <th></th>\n",
       "      <th>isbn</th>\n",
       "      <th>text_reviews_count</th>\n",
       "      <th>series</th>\n",
       "      <th>country_code</th>\n",
       "      <th>language_code</th>\n",
       "      <th>popular_shelves</th>\n",
       "      <th>asin</th>\n",
       "      <th>is_ebook</th>\n",
       "      <th>average_rating</th>\n",
       "      <th>kindle_asin</th>\n",
       "      <th>...</th>\n",
       "      <th>publication_month</th>\n",
       "      <th>edition_information</th>\n",
       "      <th>publication_year</th>\n",
       "      <th>url</th>\n",
       "      <th>image_url</th>\n",
       "      <th>book_id</th>\n",
       "      <th>ratings_count</th>\n",
       "      <th>work_id</th>\n",
       "      <th>title</th>\n",
       "      <th>title_without_series</th>\n",
       "    </tr>\n",
       "  </thead>\n",
       "  <tbody>\n",
       "    <tr>\n",
       "      <th>0</th>\n",
       "      <td>0312853122</td>\n",
       "      <td>1</td>\n",
       "      <td>[]</td>\n",
       "      <td>US</td>\n",
       "      <td></td>\n",
       "      <td>[{'count': '3', 'name': 'to-read'}, {'count': ...</td>\n",
       "      <td></td>\n",
       "      <td>false</td>\n",
       "      <td>4.00</td>\n",
       "      <td></td>\n",
       "      <td>...</td>\n",
       "      <td>9</td>\n",
       "      <td></td>\n",
       "      <td>1984</td>\n",
       "      <td>https://www.goodreads.com/book/show/5333265-w-...</td>\n",
       "      <td>https://images.gr-assets.com/books/1310220028m...</td>\n",
       "      <td>5333265</td>\n",
       "      <td>3</td>\n",
       "      <td>5400751</td>\n",
       "      <td>W.C. Fields: A Life on Film</td>\n",
       "      <td>W.C. Fields: A Life on Film</td>\n",
       "    </tr>\n",
       "    <tr>\n",
       "      <th>1</th>\n",
       "      <td>0743509986</td>\n",
       "      <td>6</td>\n",
       "      <td>[]</td>\n",
       "      <td>US</td>\n",
       "      <td></td>\n",
       "      <td>[{'count': '2634', 'name': 'to-read'}, {'count...</td>\n",
       "      <td></td>\n",
       "      <td>false</td>\n",
       "      <td>3.23</td>\n",
       "      <td>B000FC0PBC</td>\n",
       "      <td>...</td>\n",
       "      <td>10</td>\n",
       "      <td>Abridged</td>\n",
       "      <td>2001</td>\n",
       "      <td>https://www.goodreads.com/book/show/1333909.Go...</td>\n",
       "      <td>https://s.gr-assets.com/assets/nophoto/book/11...</td>\n",
       "      <td>1333909</td>\n",
       "      <td>10</td>\n",
       "      <td>1323437</td>\n",
       "      <td>Good Harbor</td>\n",
       "      <td>Good Harbor</td>\n",
       "    </tr>\n",
       "    <tr>\n",
       "      <th>2</th>\n",
       "      <td></td>\n",
       "      <td>7</td>\n",
       "      <td>[189911]</td>\n",
       "      <td>US</td>\n",
       "      <td>eng</td>\n",
       "      <td>[{'count': '58', 'name': 'to-read'}, {'count':...</td>\n",
       "      <td>B00071IKUY</td>\n",
       "      <td>false</td>\n",
       "      <td>4.03</td>\n",
       "      <td></td>\n",
       "      <td>...</td>\n",
       "      <td></td>\n",
       "      <td>Book Club Edition</td>\n",
       "      <td>1987</td>\n",
       "      <td>https://www.goodreads.com/book/show/7327624-th...</td>\n",
       "      <td>https://images.gr-assets.com/books/1304100136m...</td>\n",
       "      <td>7327624</td>\n",
       "      <td>140</td>\n",
       "      <td>8948723</td>\n",
       "      <td>The Unschooled Wizard (Sun Wolf and Starhawk, ...</td>\n",
       "      <td>The Unschooled Wizard (Sun Wolf and Starhawk, ...</td>\n",
       "    </tr>\n",
       "    <tr>\n",
       "      <th>3</th>\n",
       "      <td>0743294297</td>\n",
       "      <td>3282</td>\n",
       "      <td>[]</td>\n",
       "      <td>US</td>\n",
       "      <td>eng</td>\n",
       "      <td>[{'count': '7615', 'name': 'to-read'}, {'count...</td>\n",
       "      <td></td>\n",
       "      <td>false</td>\n",
       "      <td>3.49</td>\n",
       "      <td>B002ENBLOK</td>\n",
       "      <td>...</td>\n",
       "      <td>7</td>\n",
       "      <td></td>\n",
       "      <td>2009</td>\n",
       "      <td>https://www.goodreads.com/book/show/6066819-be...</td>\n",
       "      <td>https://s.gr-assets.com/assets/nophoto/book/11...</td>\n",
       "      <td>6066819</td>\n",
       "      <td>51184</td>\n",
       "      <td>6243154</td>\n",
       "      <td>Best Friends Forever</td>\n",
       "      <td>Best Friends Forever</td>\n",
       "    </tr>\n",
       "    <tr>\n",
       "      <th>4</th>\n",
       "      <td>0850308712</td>\n",
       "      <td>5</td>\n",
       "      <td>[]</td>\n",
       "      <td>US</td>\n",
       "      <td></td>\n",
       "      <td>[{'count': '32', 'name': 'to-read'}, {'count':...</td>\n",
       "      <td></td>\n",
       "      <td>false</td>\n",
       "      <td>3.40</td>\n",
       "      <td></td>\n",
       "      <td>...</td>\n",
       "      <td></td>\n",
       "      <td></td>\n",
       "      <td></td>\n",
       "      <td>https://www.goodreads.com/book/show/287140.Run...</td>\n",
       "      <td>https://images.gr-assets.com/books/1413219371m...</td>\n",
       "      <td>287140</td>\n",
       "      <td>15</td>\n",
       "      <td>278577</td>\n",
       "      <td>Runic Astrology: Starcraft and Timekeeping in ...</td>\n",
       "      <td>Runic Astrology: Starcraft and Timekeeping in ...</td>\n",
       "    </tr>\n",
       "  </tbody>\n",
       "</table>\n",
       "<p>5 rows × 29 columns</p>\n",
       "</div>"
      ],
      "text/plain": [
       "         isbn text_reviews_count    series country_code language_code  \\\n",
       "0  0312853122                  1        []           US                 \n",
       "1  0743509986                  6        []           US                 \n",
       "2                              7  [189911]           US           eng   \n",
       "3  0743294297               3282        []           US           eng   \n",
       "4  0850308712                  5        []           US                 \n",
       "\n",
       "                                     popular_shelves        asin is_ebook  \\\n",
       "0  [{'count': '3', 'name': 'to-read'}, {'count': ...                false   \n",
       "1  [{'count': '2634', 'name': 'to-read'}, {'count...                false   \n",
       "2  [{'count': '58', 'name': 'to-read'}, {'count':...  B00071IKUY    false   \n",
       "3  [{'count': '7615', 'name': 'to-read'}, {'count...                false   \n",
       "4  [{'count': '32', 'name': 'to-read'}, {'count':...                false   \n",
       "\n",
       "  average_rating kindle_asin  ... publication_month edition_information  \\\n",
       "0           4.00              ...                 9                       \n",
       "1           3.23  B000FC0PBC  ...                10            Abridged   \n",
       "2           4.03              ...                     Book Club Edition   \n",
       "3           3.49  B002ENBLOK  ...                 7                       \n",
       "4           3.40              ...                                         \n",
       "\n",
       "  publication_year                                                url  \\\n",
       "0             1984  https://www.goodreads.com/book/show/5333265-w-...   \n",
       "1             2001  https://www.goodreads.com/book/show/1333909.Go...   \n",
       "2             1987  https://www.goodreads.com/book/show/7327624-th...   \n",
       "3             2009  https://www.goodreads.com/book/show/6066819-be...   \n",
       "4                   https://www.goodreads.com/book/show/287140.Run...   \n",
       "\n",
       "                                           image_url  book_id ratings_count  \\\n",
       "0  https://images.gr-assets.com/books/1310220028m...  5333265             3   \n",
       "1  https://s.gr-assets.com/assets/nophoto/book/11...  1333909            10   \n",
       "2  https://images.gr-assets.com/books/1304100136m...  7327624           140   \n",
       "3  https://s.gr-assets.com/assets/nophoto/book/11...  6066819         51184   \n",
       "4  https://images.gr-assets.com/books/1413219371m...   287140            15   \n",
       "\n",
       "   work_id                                              title  \\\n",
       "0  5400751                        W.C. Fields: A Life on Film   \n",
       "1  1323437                                        Good Harbor   \n",
       "2  8948723  The Unschooled Wizard (Sun Wolf and Starhawk, ...   \n",
       "3  6243154                               Best Friends Forever   \n",
       "4   278577  Runic Astrology: Starcraft and Timekeeping in ...   \n",
       "\n",
       "                                title_without_series  \n",
       "0                        W.C. Fields: A Life on Film  \n",
       "1                                        Good Harbor  \n",
       "2  The Unschooled Wizard (Sun Wolf and Starhawk, ...  \n",
       "3                               Best Friends Forever  \n",
       "4  Runic Astrology: Starcraft and Timekeeping in ...  \n",
       "\n",
       "[5 rows x 29 columns]"
      ]
     },
     "execution_count": 45,
     "metadata": {},
     "output_type": "execute_result"
    }
   ],
   "source": [
    "books.head()"
   ]
  },
  {
   "cell_type": "markdown",
   "metadata": {},
   "source": [
    "Let's add one columne \"popularity rate\" to sort our dataset."
   ]
  },
  {
   "cell_type": "code",
   "execution_count": 46,
   "metadata": {},
   "outputs": [
    {
     "data": {
      "text/html": [
       "<div>\n",
       "<style scoped>\n",
       "    .dataframe tbody tr th:only-of-type {\n",
       "        vertical-align: middle;\n",
       "    }\n",
       "\n",
       "    .dataframe tbody tr th {\n",
       "        vertical-align: top;\n",
       "    }\n",
       "\n",
       "    .dataframe thead th {\n",
       "        text-align: right;\n",
       "    }\n",
       "</style>\n",
       "<table border=\"1\" class=\"dataframe\">\n",
       "  <thead>\n",
       "    <tr style=\"text-align: right;\">\n",
       "      <th></th>\n",
       "      <th>isbn</th>\n",
       "      <th>text_reviews_count</th>\n",
       "      <th>series</th>\n",
       "      <th>country_code</th>\n",
       "      <th>language_code</th>\n",
       "      <th>popular_shelves</th>\n",
       "      <th>asin</th>\n",
       "      <th>is_ebook</th>\n",
       "      <th>average_rating</th>\n",
       "      <th>kindle_asin</th>\n",
       "      <th>...</th>\n",
       "      <th>edition_information</th>\n",
       "      <th>publication_year</th>\n",
       "      <th>url</th>\n",
       "      <th>image_url</th>\n",
       "      <th>book_id</th>\n",
       "      <th>ratings_count</th>\n",
       "      <th>work_id</th>\n",
       "      <th>title</th>\n",
       "      <th>title_without_series</th>\n",
       "      <th>popularity_rate</th>\n",
       "    </tr>\n",
       "  </thead>\n",
       "  <tbody>\n",
       "    <tr>\n",
       "      <th>3373</th>\n",
       "      <td>9604533940</td>\n",
       "      <td>21</td>\n",
       "      <td>[]</td>\n",
       "      <td>US</td>\n",
       "      <td>gre</td>\n",
       "      <td>[{'count': '834959', 'name': 'to-read'}, {'cou...</td>\n",
       "      <td></td>\n",
       "      <td>false</td>\n",
       "      <td>4.36</td>\n",
       "      <td></td>\n",
       "      <td>...</td>\n",
       "      <td></td>\n",
       "      <td>2008</td>\n",
       "      <td>https://www.goodreads.com/book/show/16281293</td>\n",
       "      <td>https://images.gr-assets.com/books/1354871653m...</td>\n",
       "      <td>16281293</td>\n",
       "      <td>142</td>\n",
       "      <td>878368</td>\n",
       "      <td>Η κλέφτρα των βιβλίων</td>\n",
       "      <td>Η κλέφτρα των βιβλίων</td>\n",
       "      <td>1006161</td>\n",
       "    </tr>\n",
       "    <tr>\n",
       "      <th>8096</th>\n",
       "      <td>8917161375</td>\n",
       "      <td>107</td>\n",
       "      <td>[]</td>\n",
       "      <td>US</td>\n",
       "      <td>eng</td>\n",
       "      <td>[{'count': '742446', 'name': 'to-read'}, {'cou...</td>\n",
       "      <td></td>\n",
       "      <td>false</td>\n",
       "      <td>4.25</td>\n",
       "      <td>B01B173GA6</td>\n",
       "      <td>...</td>\n",
       "      <td></td>\n",
       "      <td>2006</td>\n",
       "      <td>https://www.goodreads.com/book/show/1555826.Pr...</td>\n",
       "      <td>https://s.gr-assets.com/assets/nophoto/book/11...</td>\n",
       "      <td>1555826</td>\n",
       "      <td>710</td>\n",
       "      <td>3060926</td>\n",
       "      <td>Pride and Prejudice</td>\n",
       "      <td>Pride and Prejudice</td>\n",
       "      <td>997017</td>\n",
       "    </tr>\n",
       "    <tr>\n",
       "      <th>2693</th>\n",
       "      <td>3954180154</td>\n",
       "      <td>1</td>\n",
       "      <td>[]</td>\n",
       "      <td>US</td>\n",
       "      <td>ger</td>\n",
       "      <td>[{'count': '742446', 'name': 'to-read'}, {'cou...</td>\n",
       "      <td></td>\n",
       "      <td>true</td>\n",
       "      <td>4.25</td>\n",
       "      <td></td>\n",
       "      <td>...</td>\n",
       "      <td>1. Auflage</td>\n",
       "      <td>2012</td>\n",
       "      <td>https://www.goodreads.com/book/show/18000257-s...</td>\n",
       "      <td>https://images.gr-assets.com/books/1369944679m...</td>\n",
       "      <td>18000257</td>\n",
       "      <td>1</td>\n",
       "      <td>3060926</td>\n",
       "      <td>Stolz und Vorurteil</td>\n",
       "      <td>Stolz und Vorurteil</td>\n",
       "      <td>997017</td>\n",
       "    </tr>\n",
       "    <tr>\n",
       "      <th>9991</th>\n",
       "      <td>9188877663</td>\n",
       "      <td>5</td>\n",
       "      <td>[167817]</td>\n",
       "      <td>US</td>\n",
       "      <td>swe</td>\n",
       "      <td>[{'count': '525550', 'name': 'to-read'}, {'cou...</td>\n",
       "      <td></td>\n",
       "      <td>false</td>\n",
       "      <td>4.45</td>\n",
       "      <td></td>\n",
       "      <td>...</td>\n",
       "      <td>2</td>\n",
       "      <td>2001</td>\n",
       "      <td>https://www.goodreads.com/book/show/6015185-ha...</td>\n",
       "      <td>https://images.gr-assets.com/books/1465566233m...</td>\n",
       "      <td>6015185</td>\n",
       "      <td>96</td>\n",
       "      <td>4640799</td>\n",
       "      <td>Harry Potter och de vises sten (Harry Potter, #1)</td>\n",
       "      <td>Harry Potter och de vises sten (Harry Potter, #1)</td>\n",
       "      <td>771435</td>\n",
       "    </tr>\n",
       "    <tr>\n",
       "      <th>3221</th>\n",
       "      <td></td>\n",
       "      <td>12</td>\n",
       "      <td>[167817]</td>\n",
       "      <td>US</td>\n",
       "      <td>eng</td>\n",
       "      <td>[{'count': '525550', 'name': 'to-read'}, {'cou...</td>\n",
       "      <td></td>\n",
       "      <td>true</td>\n",
       "      <td>4.45</td>\n",
       "      <td></td>\n",
       "      <td>...</td>\n",
       "      <td>US Enhanced Edition</td>\n",
       "      <td>2015</td>\n",
       "      <td>https://www.goodreads.com/book/show/27421523-h...</td>\n",
       "      <td>https://images.gr-assets.com/books/1446575623m...</td>\n",
       "      <td>27421523</td>\n",
       "      <td>80</td>\n",
       "      <td>4640799</td>\n",
       "      <td>Harry Potter and the Sorcerer's Stone (Harry P...</td>\n",
       "      <td>Harry Potter and the Sorcerer's Stone (Harry P...</td>\n",
       "      <td>771435</td>\n",
       "    </tr>\n",
       "  </tbody>\n",
       "</table>\n",
       "<p>5 rows × 30 columns</p>\n",
       "</div>"
      ],
      "text/plain": [
       "            isbn text_reviews_count    series country_code language_code  \\\n",
       "3373  9604533940                 21        []           US           gre   \n",
       "8096  8917161375                107        []           US           eng   \n",
       "2693  3954180154                  1        []           US           ger   \n",
       "9991  9188877663                  5  [167817]           US           swe   \n",
       "3221                             12  [167817]           US           eng   \n",
       "\n",
       "                                        popular_shelves asin is_ebook  \\\n",
       "3373  [{'count': '834959', 'name': 'to-read'}, {'cou...         false   \n",
       "8096  [{'count': '742446', 'name': 'to-read'}, {'cou...         false   \n",
       "2693  [{'count': '742446', 'name': 'to-read'}, {'cou...          true   \n",
       "9991  [{'count': '525550', 'name': 'to-read'}, {'cou...         false   \n",
       "3221  [{'count': '525550', 'name': 'to-read'}, {'cou...          true   \n",
       "\n",
       "     average_rating kindle_asin  ...  edition_information publication_year  \\\n",
       "3373           4.36              ...                                  2008   \n",
       "8096           4.25  B01B173GA6  ...                                  2006   \n",
       "2693           4.25              ...           1. Auflage             2012   \n",
       "9991           4.45              ...                    2             2001   \n",
       "3221           4.45              ...  US Enhanced Edition             2015   \n",
       "\n",
       "                                                    url  \\\n",
       "3373       https://www.goodreads.com/book/show/16281293   \n",
       "8096  https://www.goodreads.com/book/show/1555826.Pr...   \n",
       "2693  https://www.goodreads.com/book/show/18000257-s...   \n",
       "9991  https://www.goodreads.com/book/show/6015185-ha...   \n",
       "3221  https://www.goodreads.com/book/show/27421523-h...   \n",
       "\n",
       "                                              image_url   book_id  \\\n",
       "3373  https://images.gr-assets.com/books/1354871653m...  16281293   \n",
       "8096  https://s.gr-assets.com/assets/nophoto/book/11...   1555826   \n",
       "2693  https://images.gr-assets.com/books/1369944679m...  18000257   \n",
       "9991  https://images.gr-assets.com/books/1465566233m...   6015185   \n",
       "3221  https://images.gr-assets.com/books/1446575623m...  27421523   \n",
       "\n",
       "     ratings_count  work_id  \\\n",
       "3373           142   878368   \n",
       "8096           710  3060926   \n",
       "2693             1  3060926   \n",
       "9991            96  4640799   \n",
       "3221            80  4640799   \n",
       "\n",
       "                                                  title  \\\n",
       "3373                              Η κλέφτρα των βιβλίων   \n",
       "8096                                Pride and Prejudice   \n",
       "2693                                Stolz und Vorurteil   \n",
       "9991  Harry Potter och de vises sten (Harry Potter, #1)   \n",
       "3221  Harry Potter and the Sorcerer's Stone (Harry P...   \n",
       "\n",
       "                                   title_without_series popularity_rate  \n",
       "3373                              Η κλέφτρα των βιβλίων         1006161  \n",
       "8096                                Pride and Prejudice          997017  \n",
       "2693                                Stolz und Vorurteil          997017  \n",
       "9991  Harry Potter och de vises sten (Harry Potter, #1)          771435  \n",
       "3221  Harry Potter and the Sorcerer's Stone (Harry P...          771435  \n",
       "\n",
       "[5 rows x 30 columns]"
      ]
     },
     "execution_count": 46,
     "metadata": {},
     "output_type": "execute_result"
    }
   ],
   "source": [
    "popularity_rate = []\n",
    "for index, row in books.iterrows():\n",
    "    count = 0\n",
    "    for cat in row['popular_shelves']:\n",
    "        count += int(cat['count'])\n",
    "    popularity_rate.append(count)\n",
    "\n",
    "books['popularity_rate'] = popularity_rate\n",
    "\n",
    "books.sort_values(by=['popularity_rate'], ascending=False, inplace=True)\n",
    "\n",
    "books.head()"
   ]
  },
  {
   "cell_type": "code",
   "execution_count": 47,
   "metadata": {},
   "outputs": [],
   "source": [
    "#books.to_excel('data/excel/books10k.xlsx', sheet_name='head10k')\n",
    "#reviews.to_excel('data/excel/reviews50k.xlsx', sheet_name='head50k')"
   ]
  },
  {
   "cell_type": "markdown",
   "metadata": {},
   "source": [
    "### Data Cleaning And Format"
   ]
  },
  {
   "cell_type": "code",
   "execution_count": 48,
   "metadata": {},
   "outputs": [],
   "source": [
    "#Set missing values as NULL\n",
    "books.replace('', np.NaN, inplace=True)\n",
    "\n",
    "integers = ['text_reviews_count','ratings_count','publication_day','publication_month', 'publication_year','book_id','num_pages']\n",
    "floats = ['average_rating']\n",
    "\n",
    "#Change column types\n",
    "for col in integers:\n",
    "    books[col] = books[col].fillna(0)\n",
    "    books[col] = books[col].astype(int)\n",
    "for col in floats:\n",
    "    books[col] = books[col].astype(float)"
   ]
  },
  {
   "cell_type": "code",
   "execution_count": 49,
   "metadata": {},
   "outputs": [
    {
     "data": {
      "text/plain": [
       "<AxesSubplot:>"
      ]
     },
     "execution_count": 49,
     "metadata": {},
     "output_type": "execute_result"
    },
    {
     "data": {
      "image/png": "[encoded data removed]",
      "text/plain": [
       "<Figure size 432x288 with 1 Axes>"
      ]
     },
     "metadata": {},
     "output_type": "display_data"
    }
   ],
   "source": [
    "sns.heatmap(books.isnull(), cbar=False)"
   ]
  },
  {
   "cell_type": "markdown",
   "metadata": {},
   "source": [
    "### Item Dataset Exploration"
   ]
  },
  {
   "cell_type": "code",
   "execution_count": 50,
   "metadata": {},
   "outputs": [
    {
     "data": {
      "text/html": [
       "<div>\n",
       "<style scoped>\n",
       "    .dataframe tbody tr th:only-of-type {\n",
       "        vertical-align: middle;\n",
       "    }\n",
       "\n",
       "    .dataframe tbody tr th {\n",
       "        vertical-align: top;\n",
       "    }\n",
       "\n",
       "    .dataframe thead th {\n",
       "        text-align: right;\n",
       "    }\n",
       "</style>\n",
       "<table border=\"1\" class=\"dataframe\">\n",
       "  <thead>\n",
       "    <tr style=\"text-align: right;\">\n",
       "      <th></th>\n",
       "      <th>text_reviews_count</th>\n",
       "      <th>average_rating</th>\n",
       "      <th>num_pages</th>\n",
       "      <th>publication_day</th>\n",
       "      <th>publication_month</th>\n",
       "      <th>publication_year</th>\n",
       "      <th>book_id</th>\n",
       "      <th>ratings_count</th>\n",
       "      <th>popularity_rate</th>\n",
       "    </tr>\n",
       "  </thead>\n",
       "  <tbody>\n",
       "    <tr>\n",
       "      <th>count</th>\n",
       "      <td>10001.000000</td>\n",
       "      <td>10000.000000</td>\n",
       "      <td>10001.000000</td>\n",
       "      <td>10001.000000</td>\n",
       "      <td>10001.000000</td>\n",
       "      <td>10001.000000</td>\n",
       "      <td>1.000100e+04</td>\n",
       "      <td>10001.000000</td>\n",
       "      <td>1.000100e+04</td>\n",
       "    </tr>\n",
       "    <tr>\n",
       "      <th>mean</th>\n",
       "      <td>29.224178</td>\n",
       "      <td>3.865113</td>\n",
       "      <td>174.470453</td>\n",
       "      <td>6.629637</td>\n",
       "      <td>3.942506</td>\n",
       "      <td>1471.697230</td>\n",
       "      <td>1.541280e+07</td>\n",
       "      <td>360.549445</td>\n",
       "      <td>5.083889e+03</td>\n",
       "    </tr>\n",
       "    <tr>\n",
       "      <th>std</th>\n",
       "      <td>305.118580</td>\n",
       "      <td>0.527846</td>\n",
       "      <td>187.843148</td>\n",
       "      <td>9.495905</td>\n",
       "      <td>4.113951</td>\n",
       "      <td>886.976893</td>\n",
       "      <td>1.081787e+07</td>\n",
       "      <td>5199.235926</td>\n",
       "      <td>3.440756e+04</td>\n",
       "    </tr>\n",
       "    <tr>\n",
       "      <th>min</th>\n",
       "      <td>0.000000</td>\n",
       "      <td>0.000000</td>\n",
       "      <td>0.000000</td>\n",
       "      <td>0.000000</td>\n",
       "      <td>0.000000</td>\n",
       "      <td>0.000000</td>\n",
       "      <td>2.701000e+03</td>\n",
       "      <td>0.000000</td>\n",
       "      <td>0.000000e+00</td>\n",
       "    </tr>\n",
       "    <tr>\n",
       "      <th>25%</th>\n",
       "      <td>2.000000</td>\n",
       "      <td>3.640000</td>\n",
       "      <td>0.000000</td>\n",
       "      <td>0.000000</td>\n",
       "      <td>0.000000</td>\n",
       "      <td>0.000000</td>\n",
       "      <td>6.051161e+06</td>\n",
       "      <td>6.000000</td>\n",
       "      <td>3.100000e+01</td>\n",
       "    </tr>\n",
       "    <tr>\n",
       "      <th>50%</th>\n",
       "      <td>4.000000</td>\n",
       "      <td>3.910000</td>\n",
       "      <td>152.000000</td>\n",
       "      <td>1.000000</td>\n",
       "      <td>3.000000</td>\n",
       "      <td>2007.000000</td>\n",
       "      <td>1.584313e+07</td>\n",
       "      <td>21.000000</td>\n",
       "      <td>1.850000e+02</td>\n",
       "    </tr>\n",
       "    <tr>\n",
       "      <th>75%</th>\n",
       "      <td>12.000000</td>\n",
       "      <td>4.160000</td>\n",
       "      <td>289.000000</td>\n",
       "      <td>12.000000</td>\n",
       "      <td>8.000000</td>\n",
       "      <td>2013.000000</td>\n",
       "      <td>2.458172e+07</td>\n",
       "      <td>79.000000</td>\n",
       "      <td>1.034000e+03</td>\n",
       "    </tr>\n",
       "    <tr>\n",
       "      <th>max</th>\n",
       "      <td>23413.000000</td>\n",
       "      <td>5.000000</td>\n",
       "      <td>3520.000000</td>\n",
       "      <td>31.000000</td>\n",
       "      <td>12.000000</td>\n",
       "      <td>2019.000000</td>\n",
       "      <td>3.645183e+07</td>\n",
       "      <td>416634.000000</td>\n",
       "      <td>1.006161e+06</td>\n",
       "    </tr>\n",
       "  </tbody>\n",
       "</table>\n",
       "</div>"
      ],
      "text/plain": [
       "       text_reviews_count  average_rating     num_pages  publication_day  \\\n",
       "count        10001.000000    10000.000000  10001.000000     10001.000000   \n",
       "mean            29.224178        3.865113    174.470453         6.629637   \n",
       "std            305.118580        0.527846    187.843148         9.495905   \n",
       "min              0.000000        0.000000      0.000000         0.000000   \n",
       "25%              2.000000        3.640000      0.000000         0.000000   \n",
       "50%              4.000000        3.910000    152.000000         1.000000   \n",
       "75%             12.000000        4.160000    289.000000        12.000000   \n",
       "max          23413.000000        5.000000   3520.000000        31.000000   \n",
       "\n",
       "       publication_month  publication_year       book_id  ratings_count  \\\n",
       "count       10001.000000      10001.000000  1.000100e+04   10001.000000   \n",
       "mean            3.942506       1471.697230  1.541280e+07     360.549445   \n",
       "std             4.113951        886.976893  1.081787e+07    5199.235926   \n",
       "min             0.000000          0.000000  2.701000e+03       0.000000   \n",
       "25%             0.000000          0.000000  6.051161e+06       6.000000   \n",
       "50%             3.000000       2007.000000  1.584313e+07      21.000000   \n",
       "75%             8.000000       2013.000000  2.458172e+07      79.000000   \n",
       "max            12.000000       2019.000000  3.645183e+07  416634.000000   \n",
       "\n",
       "       popularity_rate  \n",
       "count     1.000100e+04  \n",
       "mean      5.083889e+03  \n",
       "std       3.440756e+04  \n",
       "min       0.000000e+00  \n",
       "25%       3.100000e+01  \n",
       "50%       1.850000e+02  \n",
       "75%       1.034000e+03  \n",
       "max       1.006161e+06  "
      ]
     },
     "execution_count": 50,
     "metadata": {},
     "output_type": "execute_result"
    }
   ],
   "source": [
    "books.describe()"
   ]
  },
  {
   "cell_type": "markdown",
   "metadata": {},
   "source": [
    "#### 1. Ratings and reviews"
   ]
  },
  {
   "cell_type": "code",
   "execution_count": 51,
   "metadata": {},
   "outputs": [
    {
     "data": {
      "text/plain": [
       "(0.0, 200.0)"
      ]
     },
     "execution_count": 51,
     "metadata": {},
     "output_type": "execute_result"
    },
    {
     "data": {
      "image/png": "[encoded data removed]",
      "text/plain": [
       "<Figure size 432x288 with 1 Axes>"
      ]
     },
     "metadata": {},
     "output_type": "display_data"
    }
   ],
   "source": [
    "ax = sns.boxplot(data=books[[\"ratings_count\",\"text_reviews_count\"]])\n",
    "ax.set_ylim(0,200)"
   ]
  },
  {
   "cell_type": "markdown",
   "metadata": {},
   "source": [
    "### 2. Categories\n",
    "\n",
    "-> Language"
   ]
  },
  {
   "cell_type": "code",
   "execution_count": 52,
   "metadata": {},
   "outputs": [
    {
     "data": {
      "text/plain": [
       "eng      3050\n",
       "en-US     402\n",
       "spa       235\n",
       "ita       221\n",
       "en-GB     218\n",
       "ara       156\n",
       "fre       126\n",
       "ger       124\n",
       "por       121\n",
       "ind       115\n",
       "Name: language_code, dtype: int64"
      ]
     },
     "execution_count": 52,
     "metadata": {},
     "output_type": "execute_result"
    }
   ],
   "source": [
    "lang = books[\"language_code\"].value_counts().sort_values(ascending=False)\n",
    "#Display top 20 languages represented\n",
    "lang.head(10)"
   ]
  },
  {
   "cell_type": "markdown",
   "metadata": {},
   "source": [
    "#### a. Books categories"
   ]
  },
  {
   "cell_type": "code",
   "execution_count": 53,
   "metadata": {},
   "outputs": [
    {
     "name": "stdout",
     "output_type": "stream",
     "text": [
      "115855\n"
     ]
    }
   ],
   "source": [
    "all_categories = {}\n",
    "for row in books['popular_shelves'].tolist():\n",
    "    if row:\n",
    "        for cat in row:\n",
    "            if cat['name'] not in all_categories.keys():\n",
    "                all_categories[cat['name']] = int(cat['count'])\n",
    "            else:\n",
    "                all_categories[cat['name']] += int(cat['count'])\n",
    "print(len(all_categories))"
   ]
  },
  {
   "cell_type": "markdown",
   "metadata": {},
   "source": [
    "About 120000 categories are represented.\\\n",
    "Some of them might be underepresented, overrepresented or just unrelevent.\\\n",
    "-> We need to choose which one we will consider as features."
   ]
  },
  {
   "cell_type": "code",
   "execution_count": 54,
   "metadata": {},
   "outputs": [],
   "source": [
    "categories = pd.DataFrame({}, columns=['name', 'counts'])\n",
    "\n",
    "categories['name'] = all_categories.keys()\n",
    "categories['counts'] = all_categories.values()\n",
    "categories.sort_values(by=['counts'], inplace=True, ascending=False)"
   ]
  },
  {
   "cell_type": "code",
   "execution_count": 55,
   "metadata": {},
   "outputs": [
    {
     "data": {
      "text/html": [
       "<div>\n",
       "<style scoped>\n",
       "    .dataframe tbody tr th:only-of-type {\n",
       "        vertical-align: middle;\n",
       "    }\n",
       "\n",
       "    .dataframe tbody tr th {\n",
       "        vertical-align: top;\n",
       "    }\n",
       "\n",
       "    .dataframe thead th {\n",
       "        text-align: right;\n",
       "    }\n",
       "</style>\n",
       "<table border=\"1\" class=\"dataframe\">\n",
       "  <thead>\n",
       "    <tr style=\"text-align: right;\">\n",
       "      <th></th>\n",
       "      <th>name</th>\n",
       "      <th>counts</th>\n",
       "    </tr>\n",
       "  </thead>\n",
       "  <tbody>\n",
       "    <tr>\n",
       "      <th>0</th>\n",
       "      <td>to-read</td>\n",
       "      <td>33993263</td>\n",
       "    </tr>\n",
       "    <tr>\n",
       "      <th>1</th>\n",
       "      <td>currently-reading</td>\n",
       "      <td>2199576</td>\n",
       "    </tr>\n",
       "    <tr>\n",
       "      <th>2</th>\n",
       "      <td>favorites</td>\n",
       "      <td>1309447</td>\n",
       "    </tr>\n",
       "    <tr>\n",
       "      <th>15</th>\n",
       "      <td>classics</td>\n",
       "      <td>1071108</td>\n",
       "    </tr>\n",
       "    <tr>\n",
       "      <th>4</th>\n",
       "      <td>fiction</td>\n",
       "      <td>1034803</td>\n",
       "    </tr>\n",
       "    <tr>\n",
       "      <th>34</th>\n",
       "      <td>fantasy</td>\n",
       "      <td>796818</td>\n",
       "    </tr>\n",
       "    <tr>\n",
       "      <th>5</th>\n",
       "      <td>young-adult</td>\n",
       "      <td>375081</td>\n",
       "    </tr>\n",
       "    <tr>\n",
       "      <th>6</th>\n",
       "      <td>books-i-own</td>\n",
       "      <td>348920</td>\n",
       "    </tr>\n",
       "    <tr>\n",
       "      <th>11</th>\n",
       "      <td>owned</td>\n",
       "      <td>311782</td>\n",
       "    </tr>\n",
       "    <tr>\n",
       "      <th>100</th>\n",
       "      <td>romance</td>\n",
       "      <td>227571</td>\n",
       "    </tr>\n",
       "  </tbody>\n",
       "</table>\n",
       "</div>"
      ],
      "text/plain": [
       "                  name    counts\n",
       "0              to-read  33993263\n",
       "1    currently-reading   2199576\n",
       "2            favorites   1309447\n",
       "15            classics   1071108\n",
       "4              fiction   1034803\n",
       "34             fantasy    796818\n",
       "5          young-adult    375081\n",
       "6          books-i-own    348920\n",
       "11               owned    311782\n",
       "100            romance    227571"
      ]
     },
     "execution_count": 55,
     "metadata": {},
     "output_type": "execute_result"
    }
   ],
   "source": [
    "#Print the top 10 categories\n",
    "categories.head(10)"
   ]
  },
  {
   "cell_type": "markdown",
   "metadata": {},
   "source": [
    "One can see that some categories like \"currently-reading\", \"owned\", \"books-i-own\" aren't really describing the books.\\\n",
    "But let's keep it for the moment.\n"
   ]
  },
  {
   "cell_type": "code",
   "execution_count": 56,
   "metadata": {},
   "outputs": [
    {
     "data": {
      "text/html": [
       "<div>\n",
       "<style scoped>\n",
       "    .dataframe tbody tr th:only-of-type {\n",
       "        vertical-align: middle;\n",
       "    }\n",
       "\n",
       "    .dataframe tbody tr th {\n",
       "        vertical-align: top;\n",
       "    }\n",
       "\n",
       "    .dataframe thead th {\n",
       "        text-align: right;\n",
       "    }\n",
       "</style>\n",
       "<table border=\"1\" class=\"dataframe\">\n",
       "  <thead>\n",
       "    <tr style=\"text-align: right;\">\n",
       "      <th></th>\n",
       "      <th>name</th>\n",
       "      <th>counts</th>\n",
       "    </tr>\n",
       "  </thead>\n",
       "  <tbody>\n",
       "    <tr>\n",
       "      <th>65386</th>\n",
       "      <td>scan-66</td>\n",
       "      <td>1</td>\n",
       "    </tr>\n",
       "    <tr>\n",
       "      <th>24794</th>\n",
       "      <td>valerie-s-books</td>\n",
       "      <td>1</td>\n",
       "    </tr>\n",
       "    <tr>\n",
       "      <th>65372</th>\n",
       "      <td>9-vancouver</td>\n",
       "      <td>1</td>\n",
       "    </tr>\n",
       "    <tr>\n",
       "      <th>65379</th>\n",
       "      <td>last-fling-summer</td>\n",
       "      <td>1</td>\n",
       "    </tr>\n",
       "    <tr>\n",
       "      <th>24796</th>\n",
       "      <td>4-star-old</td>\n",
       "      <td>1</td>\n",
       "    </tr>\n",
       "    <tr>\n",
       "      <th>65377</th>\n",
       "      <td>ebooks-1-100</td>\n",
       "      <td>1</td>\n",
       "    </tr>\n",
       "    <tr>\n",
       "      <th>65375</th>\n",
       "      <td>funny-strong-females</td>\n",
       "      <td>1</td>\n",
       "    </tr>\n",
       "    <tr>\n",
       "      <th>24798</th>\n",
       "      <td>pmaw-backup</td>\n",
       "      <td>1</td>\n",
       "    </tr>\n",
       "    <tr>\n",
       "      <th>65373</th>\n",
       "      <td>own-but-never-read</td>\n",
       "      <td>1</td>\n",
       "    </tr>\n",
       "    <tr>\n",
       "      <th>115854</th>\n",
       "      <td>inspirerende</td>\n",
       "      <td>1</td>\n",
       "    </tr>\n",
       "  </tbody>\n",
       "</table>\n",
       "</div>"
      ],
      "text/plain": [
       "                        name  counts\n",
       "65386                scan-66       1\n",
       "24794        valerie-s-books       1\n",
       "65372            9-vancouver       1\n",
       "65379      last-fling-summer       1\n",
       "24796             4-star-old       1\n",
       "65377           ebooks-1-100       1\n",
       "65375   funny-strong-females       1\n",
       "24798            pmaw-backup       1\n",
       "65373     own-but-never-read       1\n",
       "115854          inspirerende       1"
      ]
     },
     "execution_count": 56,
     "metadata": {},
     "output_type": "execute_result"
    }
   ],
   "source": [
    "#Print the bottom 10 categories\n",
    "categories.tail(10)"
   ]
  },
  {
   "cell_type": "markdown",
   "metadata": {},
   "source": [
    "One can see that there are lots of noises among the categories.\\\n",
    "Those ones are unrelevent, too specifics or just mistakes.\\\n",
    "-> We need to remove them from the dataset since it can't be a source of informations."
   ]
  },
  {
   "cell_type": "code",
   "execution_count": 57,
   "metadata": {},
   "outputs": [
    {
     "data": {
      "text/plain": [
       "count    1.158550e+05\n",
       "mean     4.388587e+02\n",
       "std      1.003143e+05\n",
       "min      1.000000e+00\n",
       "25%      1.000000e+00\n",
       "50%      1.000000e+00\n",
       "75%      2.000000e+00\n",
       "max      3.399326e+07\n",
       "Name: counts, dtype: float64"
      ]
     },
     "execution_count": 57,
     "metadata": {},
     "output_type": "execute_result"
    }
   ],
   "source": [
    "categories['counts'].describe()"
   ]
  },
  {
   "cell_type": "markdown",
   "metadata": {},
   "source": [
    "One can see that at least 75% of those categories are represented less than twice.\\\n",
    "It means that we can already eliminate those one."
   ]
  },
  {
   "cell_type": "code",
   "execution_count": 58,
   "metadata": {},
   "outputs": [
    {
     "name": "stdout",
     "output_type": "stream",
     "text": [
      "2896\n"
     ]
    },
    {
     "data": {
      "text/html": [
       "<div>\n",
       "<style scoped>\n",
       "    .dataframe tbody tr th:only-of-type {\n",
       "        vertical-align: middle;\n",
       "    }\n",
       "\n",
       "    .dataframe tbody tr th {\n",
       "        vertical-align: top;\n",
       "    }\n",
       "\n",
       "    .dataframe thead th {\n",
       "        text-align: right;\n",
       "    }\n",
       "</style>\n",
       "<table border=\"1\" class=\"dataframe\">\n",
       "  <thead>\n",
       "    <tr style=\"text-align: right;\">\n",
       "      <th></th>\n",
       "      <th>counts</th>\n",
       "    </tr>\n",
       "  </thead>\n",
       "  <tbody>\n",
       "    <tr>\n",
       "      <th>count</th>\n",
       "      <td>2.896000e+03</td>\n",
       "    </tr>\n",
       "    <tr>\n",
       "      <th>mean</th>\n",
       "      <td>1.742348e+04</td>\n",
       "    </tr>\n",
       "    <tr>\n",
       "      <th>std</th>\n",
       "      <td>6.343579e+05</td>\n",
       "    </tr>\n",
       "    <tr>\n",
       "      <th>min</th>\n",
       "      <td>8.600000e+01</td>\n",
       "    </tr>\n",
       "    <tr>\n",
       "      <th>25%</th>\n",
       "      <td>1.390000e+02</td>\n",
       "    </tr>\n",
       "    <tr>\n",
       "      <th>50%</th>\n",
       "      <td>2.925000e+02</td>\n",
       "    </tr>\n",
       "    <tr>\n",
       "      <th>75%</th>\n",
       "      <td>9.685000e+02</td>\n",
       "    </tr>\n",
       "    <tr>\n",
       "      <th>max</th>\n",
       "      <td>3.399326e+07</td>\n",
       "    </tr>\n",
       "  </tbody>\n",
       "</table>\n",
       "</div>"
      ],
      "text/plain": [
       "             counts\n",
       "count  2.896000e+03\n",
       "mean   1.742348e+04\n",
       "std    6.343579e+05\n",
       "min    8.600000e+01\n",
       "25%    1.390000e+02\n",
       "50%    2.925000e+02\n",
       "75%    9.685000e+02\n",
       "max    3.399326e+07"
      ]
     },
     "execution_count": 58,
     "metadata": {},
     "output_type": "execute_result"
    }
   ],
   "source": [
    "#Let's continue with the top 25%\n",
    "categories = categories.head(int(round(len(categories)*25/1000, 0)))\n",
    "\n",
    "\n",
    "print(len(categories))\n",
    "categories.describe()"
   ]
  },
  {
   "cell_type": "code",
   "execution_count": 59,
   "metadata": {},
   "outputs": [
    {
     "data": {
      "text/html": [
       "<div>\n",
       "<style scoped>\n",
       "    .dataframe tbody tr th:only-of-type {\n",
       "        vertical-align: middle;\n",
       "    }\n",
       "\n",
       "    .dataframe tbody tr th {\n",
       "        vertical-align: top;\n",
       "    }\n",
       "\n",
       "    .dataframe thead th {\n",
       "        text-align: right;\n",
       "    }\n",
       "</style>\n",
       "<table border=\"1\" class=\"dataframe\">\n",
       "  <thead>\n",
       "    <tr style=\"text-align: right;\">\n",
       "      <th></th>\n",
       "      <th>name</th>\n",
       "      <th>counts</th>\n",
       "    </tr>\n",
       "  </thead>\n",
       "  <tbody>\n",
       "    <tr>\n",
       "      <th>2408</th>\n",
       "      <td>2012-read</td>\n",
       "      <td>86</td>\n",
       "    </tr>\n",
       "    <tr>\n",
       "      <th>7899</th>\n",
       "      <td>bdb</td>\n",
       "      <td>86</td>\n",
       "    </tr>\n",
       "    <tr>\n",
       "      <th>6447</th>\n",
       "      <td>dennis-lehane</td>\n",
       "      <td>86</td>\n",
       "    </tr>\n",
       "    <tr>\n",
       "      <th>5865</th>\n",
       "      <td>ward-jr</td>\n",
       "      <td>86</td>\n",
       "    </tr>\n",
       "    <tr>\n",
       "      <th>15341</th>\n",
       "      <td>sigma-force</td>\n",
       "      <td>86</td>\n",
       "    </tr>\n",
       "    <tr>\n",
       "      <th>2622</th>\n",
       "      <td>newbery-winner</td>\n",
       "      <td>86</td>\n",
       "    </tr>\n",
       "    <tr>\n",
       "      <th>2862</th>\n",
       "      <td>spy-thrillers</td>\n",
       "      <td>86</td>\n",
       "    </tr>\n",
       "    <tr>\n",
       "      <th>5952</th>\n",
       "      <td>banks-maya</td>\n",
       "      <td>86</td>\n",
       "    </tr>\n",
       "    <tr>\n",
       "      <th>1471</th>\n",
       "      <td>ensayo</td>\n",
       "      <td>86</td>\n",
       "    </tr>\n",
       "    <tr>\n",
       "      <th>1681</th>\n",
       "      <td>science-and-nature</td>\n",
       "      <td>86</td>\n",
       "    </tr>\n",
       "  </tbody>\n",
       "</table>\n",
       "</div>"
      ],
      "text/plain": [
       "                     name  counts\n",
       "2408            2012-read      86\n",
       "7899                  bdb      86\n",
       "6447        dennis-lehane      86\n",
       "5865              ward-jr      86\n",
       "15341         sigma-force      86\n",
       "2622       newbery-winner      86\n",
       "2862        spy-thrillers      86\n",
       "5952           banks-maya      86\n",
       "1471               ensayo      86\n",
       "1681   science-and-nature      86"
      ]
     },
     "execution_count": 59,
     "metadata": {},
     "output_type": "execute_result"
    }
   ],
   "source": [
    "#Print the bottom 10 categories\n",
    "categories.tail(10)"
   ]
  },
  {
   "cell_type": "code",
   "execution_count": 60,
   "metadata": {},
   "outputs": [
    {
     "name": "stdout",
     "output_type": "stream",
     "text": [
      "56\n",
      "['romance', 'historical-romance', 'paranormal-romance', 'contemporary-romance', 'erotic-romance', 'm-m-romance', 'adult-romance', 'ya-romance', 'romance-historical', 'regency-romance', 'romance-contemporary', 'mm-romance', 'college-romance', 'dark-romance', 'romance-paranormal', 'fantasy-romance', 'sports-romance', 'new-adult-romance', 'gay-romance', 'romance-suspense', 'romance-novels', 'historical-romances', 'second-chance-romance', 'clean-romance', 'genre-romance', 'vampire-romance', 'teen-romance', 'romance-regency', 'historic-romance', 'romance-erotica', 'romances', 'military-romance', 'christian-romance', 'young-adult-romance', 'mc-romance', 'office-romance', 'suspense-romance', 'western-romance', 'sci-fi-romance', 'highland-romance', 'gothic-romance', 'genre-historical-romance', 'contemp-romance', 'historicalromance', 'biker-romance', 'scottish-romance', 'highlander-romance', 'sweet-romance', 'fiction-romance', 'to-read-romance', 'medieval-romance', 'high-school-romance', 'funny-romance', 'interracial-romance', 'chick-lit-romance', 'modern-romance']\n"
     ]
    }
   ],
   "source": [
    "linked = []\n",
    "for cat in categories['name']:\n",
    "    if 'romance' in cat.lower():\n",
    "        linked.append(cat)\n",
    "print(len(linked))\n",
    "print(linked)"
   ]
  },
  {
   "cell_type": "markdown",
   "metadata": {},
   "source": [
    "One can see that many categories are too specific and contains sub-categories that a more represented. (exemple: Romance)\\\n",
    "We need to separate those categories."
   ]
  },
  {
   "cell_type": "markdown",
   "metadata": {},
   "source": [
    "Let's try to:\\\n",
    "-> remove duplicates (like \"sci-fi\" and \"science-fiction\")\\\n",
    "-> remove plurales (like \"childrenS\")\\\n",
    "-> remove categories that give informations we already have in the dataset. (like \"series\" or \"ebook\")\\\n",
    "-> remove non categorical labels (like \"favorite\", \"books-iown\" etc.)"
   ]
  },
  {
   "cell_type": "code",
   "execution_count": 61,
   "metadata": {},
   "outputs": [
    {
     "name": "stdout",
     "output_type": "stream",
     "text": [
      "['to-read', 'currently-reading', 'favorites', 'classics', 'fiction', 'fantasy', 'young-adult', 'books-i-own', 'owned', 'romance', 'historical-fiction', 'classic', 'ya', 'mystery', 'science-fiction', 'favourites', 'non-fiction', 'series', 'kindle', 'sci-fi', 'owned-books', 'literature', 'horror', 'book-club', 'contemporary', 'library', 'default', 'novels', 'to-buy', 'audiobook', 'adventure', 'childrens', 'historical', 'adult', 'audiobooks', 'paranormal', 'ebook', 'thriller', 'my-books', 'nonfiction', 'history', 'dystopia', 'audio', 'children', 'school', 'philosophy', 'ebooks', 'dystopian', 'i-own', 'my-library']\n"
     ]
    }
   ],
   "source": [
    "selected_cat = categories['name'].tolist()[:50]\n",
    "\n",
    "print(selected_cat)"
   ]
  },
  {
   "cell_type": "code",
   "execution_count": 62,
   "metadata": {},
   "outputs": [
    {
     "name": "stdout",
     "output_type": "stream",
     "text": [
      "['fiction', 'fantasy', 'romance', 'classic', 'mystery', 'kindle', 'sci-fi', 'literature', 'horror', 'contemporary', 'adventure', 'historical', 'adult', 'paranormal', 'thriller', 'history', 'dystopia', 'audio', 'children', 'school', 'philosophy', 'novel', 'young']\n"
     ]
    }
   ],
   "source": [
    "to_remove = ['to-read', 'currently-reading', 'favorites', 'books-i-own', 'owned', 'favourites', 'series',\n",
    "            'non-fiction', 'library', 'default','to-buy', 'childrens', 'ya', 'ebooks', 'dystopian', 'audiobooks',\n",
    "            'ebook','my-books','nonfiction' ,'audiobook','i-own', 'my-library','owned-books','owned-books',\n",
    "            'science-fiction', 'historical-fiction','novels','classics','young-adult','book-club']\n",
    "\n",
    "for cat in to_remove:\n",
    "    try:\n",
    "        selected_cat.remove(cat)\n",
    "    except ValueError:\n",
    "        pass\n",
    "\n",
    "selected_cat.append('novel')\n",
    "selected_cat.append('young')\n",
    "\n",
    "print(selected_cat)"
   ]
  },
  {
   "cell_type": "markdown",
   "metadata": {},
   "source": [
    "Now not to loose information because of noise, we need to associate a lexical field to those categories.\\\n",
    "We will then look for similarities among the rest of the dataset to classify better the books. "
   ]
  },
  {
   "cell_type": "markdown",
   "metadata": {},
   "source": []
  },
  {
   "cell_type": "code",
   "execution_count": 63,
   "metadata": {},
   "outputs": [
    {
     "name": "stdout",
     "output_type": "stream",
     "text": [
      "{'fiction': 'fiction', 'fantasi': 'fantasy', 'romanc': 'romance', 'classic': 'classic', 'mysteri': 'mystery', 'kindl': 'kindle', 'sci-fi': 'sci-fi', 'literatur': 'literature', 'horror': 'horror', 'contemporari': 'contemporary', 'adventur': 'adventure', 'histor': 'historical', 'adult': 'adult', 'paranorm': 'paranormal', 'thriller': 'thriller', 'histori': 'history', 'dystopia': 'dystopia', 'audio': 'audio', 'children': 'children', 'school': 'school', 'philosophi': 'philosophy', 'novel': 'novel', 'young': 'young'}\n"
     ]
    }
   ],
   "source": [
    "from nltk.stem import PorterStemmer\n",
    "\n",
    "ps = PorterStemmer()\n",
    "\n",
    "stem_categories = {}\n",
    "\n",
    "for cat in selected_cat:\n",
    "    stem_categories[ps.stem(cat)] = cat\n",
    "\n",
    "print(stem_categories)"
   ]
  },
  {
   "cell_type": "markdown",
   "metadata": {},
   "source": [
    "#### b. Publisher"
   ]
  },
  {
   "cell_type": "code",
   "execution_count": 64,
   "metadata": {},
   "outputs": [
    {
     "name": "stdout",
     "output_type": "stream",
     "text": [
      "3980\n"
     ]
    },
    {
     "data": {
      "text/plain": [
       "Createspace Independent Publishing Platform    61\n",
       "Smashwords Edition                             46\n",
       "Harlequin                                      44\n",
       "Createspace                                    40\n",
       "HarperCollins                                  38\n",
       "Pocket Books                                   30\n",
       "Vintage                                        29\n",
       "HMH Books for Young Readers                    28\n",
       "Bantam                                         27\n",
       "Marvel                                         26\n",
       "Ballantine Books                               26\n",
       "Berkley                                        26\n",
       "Gramedia Pustaka Utama                         26\n",
       "Amazon Digital Services                        26\n",
       "Random House Audio                             23\n",
       "Name: publisher, dtype: int64"
      ]
     },
     "execution_count": 64,
     "metadata": {},
     "output_type": "execute_result"
    }
   ],
   "source": [
    "publisher_count = books['publisher'].value_counts().sort_values(ascending=False)\n",
    "print(len(publisher_count))\n",
    "publisher_count.head(15)"
   ]
  },
  {
   "cell_type": "markdown",
   "metadata": {},
   "source": [
    "There are too many different publishers to create features like we did for books categories.\n",
    "Furthemore, publisher frequencies aren't that high.\n",
    "\n",
    "-> Let's keep the column like that. We will then create a feature telling if it is the same publisher depending on the book we are comparing.\n",
    "\n",
    "-> We'll do the same for \"Author\"."
   ]
  },
  {
   "cell_type": "code",
   "execution_count": 65,
   "metadata": {},
   "outputs": [
    {
     "data": {
      "text/plain": [
       "3373      11466\n",
       "8096       1265\n",
       "2693       1265\n",
       "9991    1077326\n",
       "3221    1077326\n",
       "Name: authors, dtype: object"
      ]
     },
     "execution_count": 65,
     "metadata": {},
     "output_type": "execute_result"
    }
   ],
   "source": [
    "author = books['authors'].apply(lambda x : 0 if not x else x[0]['author_id'])\n",
    "author.head()"
   ]
  },
  {
   "cell_type": "markdown",
   "metadata": {},
   "source": [
    "#### c. Date\n",
    "\n",
    "We will use only the column \"Year\" to compare books between them."
   ]
  },
  {
   "cell_type": "code",
   "execution_count": 66,
   "metadata": {},
   "outputs": [],
   "source": [
    "publication_year = books['publication_year'].replace(0, np.nan)"
   ]
  },
  {
   "cell_type": "code",
   "execution_count": 67,
   "metadata": {},
   "outputs": [
    {
     "name": "stdout",
     "output_type": "stream",
     "text": [
      "26.58% of the values are missing.\n"
     ]
    }
   ],
   "source": [
    "missing_year = round(publication_year.isna().sum()/len(publication_year)*100, 2)\n",
    "print( f\"{missing_year}% of the values are missing.\")"
   ]
  },
  {
   "cell_type": "code",
   "execution_count": 68,
   "metadata": {},
   "outputs": [
    {
     "data": {
      "text/plain": [
       "count    7343.000000\n",
       "mean     2004.418358\n",
       "std        60.025883\n",
       "min        10.000000\n",
       "25%      2004.000000\n",
       "50%      2011.000000\n",
       "75%      2014.000000\n",
       "max      2019.000000\n",
       "Name: publication_year, dtype: float64"
      ]
     },
     "execution_count": 68,
     "metadata": {},
     "output_type": "execute_result"
    }
   ],
   "source": [
    "publication_year.describe()"
   ]
  },
  {
   "cell_type": "code",
   "execution_count": 69,
   "metadata": {},
   "outputs": [
    {
     "data": {
      "text/plain": [
       "8465      10.0\n",
       "2318      14.0\n",
       "5315      20.0\n",
       "8561     162.0\n",
       "7398     195.0\n",
       "4929     206.0\n",
       "9876    1371.0\n",
       "9513    1385.0\n",
       "8802    1387.0\n",
       "6816    1388.0\n",
       "Name: publication_year, dtype: float64"
      ]
     },
     "execution_count": 69,
     "metadata": {},
     "output_type": "execute_result"
    }
   ],
   "source": [
    "publication_year.where(publication_year != np.NaN).sort_values().head(10)"
   ]
  },
  {
   "cell_type": "markdown",
   "metadata": {},
   "source": [
    "Since that at least 75% of the books as been published after 2004, we can consider those values as outliers.\n",
    "\n",
    "-> Let's set the minimum publication year as 1960.\\\n",
    "-> We will bring together all the values bellow this date to 1960.\n",
    "\n",
    "Concerning the missing values, we could :\n",
    "1. Assign them the average publication year value.\n",
    "2. Set them as the minimum (1960).\n",
    "\n",
    "-> At first, we'll choose the second option to avoid giving to this feature to much importance."
   ]
  },
  {
   "cell_type": "code",
   "execution_count": 70,
   "metadata": {},
   "outputs": [
    {
     "data": {
      "text/plain": [
       "3373    2008.0\n",
       "8096    2006.0\n",
       "2693    2012.0\n",
       "9991    2001.0\n",
       "3221    2015.0\n",
       "Name: publication_year, dtype: float64"
      ]
     },
     "execution_count": 70,
     "metadata": {},
     "output_type": "execute_result"
    }
   ],
   "source": [
    "publication_year.fillna(0, inplace=True)\n",
    "publication_year[publication_year < 1960] = 1960\n",
    "publication_year.head()"
   ]
  },
  {
   "cell_type": "code",
   "execution_count": 71,
   "metadata": {},
   "outputs": [
    {
     "data": {
      "text/plain": [
       "3373    0.813559\n",
       "8096    0.779661\n",
       "2693    0.881356\n",
       "9991    0.694915\n",
       "3221    0.932203\n",
       "Name: publication_year, dtype: float64"
      ]
     },
     "execution_count": 71,
     "metadata": {},
     "output_type": "execute_result"
    }
   ],
   "source": [
    "# MinMax Normalization\n",
    "publication_year = (publication_year - publication_year.min())/(publication_year.max()-publication_year.min())\n",
    "publication_year.head()"
   ]
  },
  {
   "cell_type": "markdown",
   "metadata": {},
   "source": [
    "#### d. Format"
   ]
  },
  {
   "cell_type": "code",
   "execution_count": 72,
   "metadata": {},
   "outputs": [
    {
     "name": "stdout",
     "output_type": "stream",
     "text": [
      "65\n"
     ]
    },
    {
     "data": {
      "text/plain": [
       "Paperback                3683\n",
       "Hardcover                1513\n",
       "ebook                     799\n",
       "Kindle Edition            499\n",
       "Mass Market Paperback     188\n",
       "Audio CD                  121\n",
       "Audiobook                  87\n",
       "Audible Audio              47\n",
       "Audio                      42\n",
       "Unknown Binding            25\n",
       "Name: format, dtype: int64"
      ]
     },
     "execution_count": 72,
     "metadata": {},
     "output_type": "execute_result"
    }
   ],
   "source": [
    "format_count = books['format'].value_counts().sort_values(ascending=False)\n",
    "print(len(format_count))\n",
    "format_count.head(10)"
   ]
  },
  {
   "cell_type": "code",
   "execution_count": 73,
   "metadata": {},
   "outputs": [
    {
     "data": {
      "text/plain": [
       "3373    Paperback\n",
       "8096    Paperback\n",
       "2693        Other\n",
       "9991    Hardcover\n",
       "3221        Other\n",
       "Name: format, dtype: object"
      ]
     },
     "execution_count": 73,
     "metadata": {},
     "output_type": "execute_result"
    }
   ],
   "source": [
    "top_format = ['Paperback', 'Hardcover', 'ebook', 'Kindle Edition', 'Mass Market Paperback', 'Audiobook']\n",
    "book_format = books['format']\n",
    "book_format.fillna('Undefined', inplace=True)\n",
    "book_format.replace('ebook','Ebook', inplace=True)\n",
    "book_format = book_format.apply(lambda x : 'Audiobook' if 'Aud' in x else x)\n",
    "book_format = book_format.apply(lambda x : 'Other' if x not in top_format and x != 'Undefined' else x)\n",
    "\n",
    "book_format.head(5)"
   ]
  },
  {
   "cell_type": "code",
   "execution_count": 74,
   "metadata": {},
   "outputs": [
    {
     "data": {
      "text/plain": [
       "Paperback                3683\n",
       "Undefined                2872\n",
       "Hardcover                1513\n",
       "Other                     946\n",
       "Kindle Edition            499\n",
       "Audiobook                 300\n",
       "Mass Market Paperback     188\n",
       "Name: format, dtype: int64"
      ]
     },
     "execution_count": 74,
     "metadata": {},
     "output_type": "execute_result"
    }
   ],
   "source": [
    "book_format.value_counts().sort_values(ascending=False)"
   ]
  },
  {
   "cell_type": "markdown",
   "metadata": {},
   "source": [
    "#### e. Series"
   ]
  },
  {
   "cell_type": "code",
   "execution_count": 75,
   "metadata": {},
   "outputs": [
    {
     "data": {
      "text/plain": [
       "3373          []\n",
       "8096          []\n",
       "2693          []\n",
       "9991    [167817]\n",
       "3221    [167817]\n",
       "Name: series, dtype: object"
      ]
     },
     "execution_count": 75,
     "metadata": {},
     "output_type": "execute_result"
    }
   ],
   "source": [
    "books['series'].head()"
   ]
  },
  {
   "cell_type": "code",
   "execution_count": 76,
   "metadata": {},
   "outputs": [
    {
     "data": {
      "text/plain": [
       "3373    0\n",
       "8096    0\n",
       "2693    0\n",
       "9991    1\n",
       "3221    1\n",
       "Name: series, dtype: int64"
      ]
     },
     "execution_count": 76,
     "metadata": {},
     "output_type": "execute_result"
    }
   ],
   "source": [
    "is_series = books['series'].apply(lambda x: int(bool((x))))\n",
    "is_series.head()"
   ]
  },
  {
   "cell_type": "markdown",
   "metadata": {},
   "source": [
    "## 3. Sampling for Content Base Filtering\n",
    "\n",
    "Now let's create a new dataset containing the most important columns to compare books.\n",
    "\n",
    "It may include:\\\n",
    "-> Categories (most important one)\\\n",
    "-> Author\\\n",
    "-> Publisher\\\n",
    "-> Date\\\n",
    "-> Format\\\n",
    "-> Is it a serie of books ?\\\n",
    "-> ... ?"
   ]
  },
  {
   "cell_type": "code",
   "execution_count": 80,
   "metadata": {},
   "outputs": [
    {
     "data": {
      "text/html": [
       "<div>\n",
       "<style scoped>\n",
       "    .dataframe tbody tr th:only-of-type {\n",
       "        vertical-align: middle;\n",
       "    }\n",
       "\n",
       "    .dataframe tbody tr th {\n",
       "        vertical-align: top;\n",
       "    }\n",
       "\n",
       "    .dataframe thead th {\n",
       "        text-align: right;\n",
       "    }\n",
       "</style>\n",
       "<table border=\"1\" class=\"dataframe\">\n",
       "  <thead>\n",
       "    <tr style=\"text-align: right;\">\n",
       "      <th></th>\n",
       "      <th>book_id</th>\n",
       "      <th>fiction</th>\n",
       "      <th>fantasy</th>\n",
       "      <th>romance</th>\n",
       "      <th>classic</th>\n",
       "      <th>mystery</th>\n",
       "      <th>kindle</th>\n",
       "      <th>sci-fi</th>\n",
       "      <th>literature</th>\n",
       "      <th>horror</th>\n",
       "      <th>...</th>\n",
       "      <th>paranormal</th>\n",
       "      <th>thriller</th>\n",
       "      <th>history</th>\n",
       "      <th>dystopia</th>\n",
       "      <th>audio</th>\n",
       "      <th>children</th>\n",
       "      <th>school</th>\n",
       "      <th>philosophy</th>\n",
       "      <th>novel</th>\n",
       "      <th>young</th>\n",
       "    </tr>\n",
       "  </thead>\n",
       "  <tbody>\n",
       "    <tr>\n",
       "      <th>0</th>\n",
       "      <td>16281293</td>\n",
       "      <td>0.034086</td>\n",
       "      <td>0.085290</td>\n",
       "      <td>0.000000</td>\n",
       "      <td>0.039539</td>\n",
       "      <td>0.00000</td>\n",
       "      <td>0.120588</td>\n",
       "      <td>0.000000</td>\n",
       "      <td>0.065596</td>\n",
       "      <td>0.0</td>\n",
       "      <td>...</td>\n",
       "      <td>0.000000</td>\n",
       "      <td>0.0</td>\n",
       "      <td>0.165278</td>\n",
       "      <td>0.0</td>\n",
       "      <td>0.035449</td>\n",
       "      <td>0.000000</td>\n",
       "      <td>0.058022</td>\n",
       "      <td>0.0</td>\n",
       "      <td>0.047569</td>\n",
       "      <td>0.050901</td>\n",
       "    </tr>\n",
       "    <tr>\n",
       "      <th>1</th>\n",
       "      <td>1555826</td>\n",
       "      <td>0.050844</td>\n",
       "      <td>0.000000</td>\n",
       "      <td>0.196248</td>\n",
       "      <td>0.059287</td>\n",
       "      <td>0.00000</td>\n",
       "      <td>0.230394</td>\n",
       "      <td>0.000000</td>\n",
       "      <td>0.069418</td>\n",
       "      <td>0.0</td>\n",
       "      <td>...</td>\n",
       "      <td>0.000000</td>\n",
       "      <td>0.0</td>\n",
       "      <td>0.043715</td>\n",
       "      <td>0.0</td>\n",
       "      <td>0.061914</td>\n",
       "      <td>0.000000</td>\n",
       "      <td>0.047655</td>\n",
       "      <td>0.0</td>\n",
       "      <td>0.112758</td>\n",
       "      <td>0.042026</td>\n",
       "    </tr>\n",
       "    <tr>\n",
       "      <th>2</th>\n",
       "      <td>18000257</td>\n",
       "      <td>0.050844</td>\n",
       "      <td>0.000000</td>\n",
       "      <td>0.196248</td>\n",
       "      <td>0.059287</td>\n",
       "      <td>0.00000</td>\n",
       "      <td>0.230394</td>\n",
       "      <td>0.000000</td>\n",
       "      <td>0.069418</td>\n",
       "      <td>0.0</td>\n",
       "      <td>...</td>\n",
       "      <td>0.000000</td>\n",
       "      <td>0.0</td>\n",
       "      <td>0.043715</td>\n",
       "      <td>0.0</td>\n",
       "      <td>0.061914</td>\n",
       "      <td>0.000000</td>\n",
       "      <td>0.047655</td>\n",
       "      <td>0.0</td>\n",
       "      <td>0.112758</td>\n",
       "      <td>0.042026</td>\n",
       "    </tr>\n",
       "    <tr>\n",
       "      <th>3</th>\n",
       "      <td>6015185</td>\n",
       "      <td>0.006399</td>\n",
       "      <td>0.835114</td>\n",
       "      <td>0.000000</td>\n",
       "      <td>0.007895</td>\n",
       "      <td>0.01149</td>\n",
       "      <td>0.009323</td>\n",
       "      <td>0.016117</td>\n",
       "      <td>0.008033</td>\n",
       "      <td>0.0</td>\n",
       "      <td>...</td>\n",
       "      <td>0.015979</td>\n",
       "      <td>0.0</td>\n",
       "      <td>0.000000</td>\n",
       "      <td>0.0</td>\n",
       "      <td>0.006330</td>\n",
       "      <td>0.007328</td>\n",
       "      <td>0.000000</td>\n",
       "      <td>0.0</td>\n",
       "      <td>0.010097</td>\n",
       "      <td>0.008394</td>\n",
       "    </tr>\n",
       "    <tr>\n",
       "      <th>4</th>\n",
       "      <td>27421523</td>\n",
       "      <td>0.006399</td>\n",
       "      <td>0.835114</td>\n",
       "      <td>0.000000</td>\n",
       "      <td>0.007895</td>\n",
       "      <td>0.01149</td>\n",
       "      <td>0.009323</td>\n",
       "      <td>0.016117</td>\n",
       "      <td>0.008033</td>\n",
       "      <td>0.0</td>\n",
       "      <td>...</td>\n",
       "      <td>0.015979</td>\n",
       "      <td>0.0</td>\n",
       "      <td>0.000000</td>\n",
       "      <td>0.0</td>\n",
       "      <td>0.006330</td>\n",
       "      <td>0.007328</td>\n",
       "      <td>0.000000</td>\n",
       "      <td>0.0</td>\n",
       "      <td>0.010097</td>\n",
       "      <td>0.008394</td>\n",
       "    </tr>\n",
       "  </tbody>\n",
       "</table>\n",
       "<p>5 rows × 24 columns</p>\n",
       "</div>"
      ],
      "text/plain": [
       "    book_id   fiction   fantasy   romance   classic  mystery    kindle  \\\n",
       "0  16281293  0.034086  0.085290  0.000000  0.039539  0.00000  0.120588   \n",
       "1   1555826  0.050844  0.000000  0.196248  0.059287  0.00000  0.230394   \n",
       "2  18000257  0.050844  0.000000  0.196248  0.059287  0.00000  0.230394   \n",
       "3   6015185  0.006399  0.835114  0.000000  0.007895  0.01149  0.009323   \n",
       "4  27421523  0.006399  0.835114  0.000000  0.007895  0.01149  0.009323   \n",
       "\n",
       "     sci-fi  literature  horror  ...  paranormal  thriller   history  \\\n",
       "0  0.000000    0.065596     0.0  ...    0.000000       0.0  0.165278   \n",
       "1  0.000000    0.069418     0.0  ...    0.000000       0.0  0.043715   \n",
       "2  0.000000    0.069418     0.0  ...    0.000000       0.0  0.043715   \n",
       "3  0.016117    0.008033     0.0  ...    0.015979       0.0  0.000000   \n",
       "4  0.016117    0.008033     0.0  ...    0.015979       0.0  0.000000   \n",
       "\n",
       "   dystopia     audio  children    school  philosophy     novel     young  \n",
       "0       0.0  0.035449  0.000000  0.058022         0.0  0.047569  0.050901  \n",
       "1       0.0  0.061914  0.000000  0.047655         0.0  0.112758  0.042026  \n",
       "2       0.0  0.061914  0.000000  0.047655         0.0  0.112758  0.042026  \n",
       "3       0.0  0.006330  0.007328  0.000000         0.0  0.010097  0.008394  \n",
       "4       0.0  0.006330  0.007328  0.000000         0.0  0.010097  0.008394  \n",
       "\n",
       "[5 rows x 24 columns]"
      ]
     },
     "execution_count": 80,
     "metadata": {},
     "output_type": "execute_result"
    }
   ],
   "source": [
    "features = pd.DataFrame({}, columns=['book_id']+selected_cat)\n",
    "\n",
    "#Let's create a column for each categories\n",
    "#Those columns will contain the percentage of counts\n",
    "for index, row in books.iterrows():\n",
    "    new_row = [0]*len(selected_cat)\n",
    "    for cat in row['popular_shelves']:\n",
    "        for key, value in stem_categories.items():\n",
    "            if value == cat['name']:\n",
    "                new_row[selected_cat.index(value)] = int(cat['count'])\n",
    "            elif key in cat['name']:\n",
    "                new_row[selected_cat.index(value)] = int(cat['count'])\n",
    "            \n",
    "\n",
    "    sum_count = 0\n",
    "    for value in new_row:\n",
    "        sum_count += value\n",
    "    \n",
    "    new_row = [x/sum_count if sum_count != 0 else x for x in new_row]\n",
    "    \n",
    "    new_row.insert(0, row['book_id'])\n",
    "\n",
    "    features.loc[len(features)] = new_row\n",
    "\n",
    "features['book_id'] = features['book_id'].astype(int)\n",
    "\n",
    "features.head()"
   ]
  },
  {
   "cell_type": "markdown",
   "metadata": {},
   "source": [
    "We need to check that the big majority of the books is well categories."
   ]
  },
  {
   "cell_type": "code",
   "execution_count": 81,
   "metadata": {},
   "outputs": [
    {
     "name": "stdout",
     "output_type": "stream",
     "text": [
      "14.81% of the books are not categorised.\n"
     ]
    }
   ],
   "source": [
    "nb_nocat = 0\n",
    "for index, row in features.iterrows():\n",
    "    for col in features.columns.tolist()[1:]:\n",
    "        if row[col] != 0:\n",
    "            break\n",
    "    else:\n",
    "        nb_nocat += 1\n",
    "\n",
    "print(f\"{round(nb_nocat/len(features)*100,2)}% of the books are not categorised.\")"
   ]
  },
  {
   "cell_type": "markdown",
   "metadata": {},
   "source": [
    "So we can see that a big majority of the books are well categorized.\\\n",
    "However, 15% is still a signifcant part and we might be able to improve that later.\n",
    "\n",
    "For the moment, let's keep going with those categories."
   ]
  },
  {
   "cell_type": "code",
   "execution_count": null,
   "metadata": {},
   "outputs": [
    {
     "data": {
      "text/html": [
       "<div>\n",
       "<style scoped>\n",
       "    .dataframe tbody tr th:only-of-type {\n",
       "        vertical-align: middle;\n",
       "    }\n",
       "\n",
       "    .dataframe tbody tr th {\n",
       "        vertical-align: top;\n",
       "    }\n",
       "\n",
       "    .dataframe thead th {\n",
       "        text-align: right;\n",
       "    }\n",
       "</style>\n",
       "<table border=\"1\" class=\"dataframe\">\n",
       "  <thead>\n",
       "    <tr style=\"text-align: right;\">\n",
       "      <th></th>\n",
       "      <th>book_id</th>\n",
       "      <th>fiction</th>\n",
       "      <th>fantasy</th>\n",
       "      <th>romance</th>\n",
       "      <th>classic</th>\n",
       "      <th>mystery</th>\n",
       "      <th>kindle</th>\n",
       "      <th>sci-fi</th>\n",
       "      <th>literature</th>\n",
       "      <th>horror</th>\n",
       "      <th>...</th>\n",
       "      <th>children</th>\n",
       "      <th>school</th>\n",
       "      <th>philosophy</th>\n",
       "      <th>novel</th>\n",
       "      <th>young</th>\n",
       "      <th>author</th>\n",
       "      <th>publisher</th>\n",
       "      <th>year</th>\n",
       "      <th>format</th>\n",
       "      <th>is_series</th>\n",
       "    </tr>\n",
       "  </thead>\n",
       "  <tbody>\n",
       "    <tr>\n",
       "      <th>0</th>\n",
       "      <td>16281293</td>\n",
       "      <td>0.028861</td>\n",
       "      <td>0.0</td>\n",
       "      <td>0.000000</td>\n",
       "      <td>0.033479</td>\n",
       "      <td>0.0</td>\n",
       "      <td>0.102104</td>\n",
       "      <td>0.000000</td>\n",
       "      <td>0.055541</td>\n",
       "      <td>0.0</td>\n",
       "      <td>...</td>\n",
       "      <td>0.000000</td>\n",
       "      <td>0.049128</td>\n",
       "      <td>0.0</td>\n",
       "      <td>0.040277</td>\n",
       "      <td>0.043099</td>\n",
       "      <td>604031</td>\n",
       "      <td>St. Martin's Press</td>\n",
       "      <td>0.406780</td>\n",
       "      <td>Paperback</td>\n",
       "      <td>0</td>\n",
       "    </tr>\n",
       "    <tr>\n",
       "      <th>1</th>\n",
       "      <td>1555826</td>\n",
       "      <td>0.044115</td>\n",
       "      <td>0.0</td>\n",
       "      <td>0.170275</td>\n",
       "      <td>0.051441</td>\n",
       "      <td>0.0</td>\n",
       "      <td>0.199902</td>\n",
       "      <td>0.000000</td>\n",
       "      <td>0.060231</td>\n",
       "      <td>0.0</td>\n",
       "      <td>...</td>\n",
       "      <td>0.000000</td>\n",
       "      <td>0.041348</td>\n",
       "      <td>0.0</td>\n",
       "      <td>0.097835</td>\n",
       "      <td>0.036464</td>\n",
       "      <td>626222</td>\n",
       "      <td>Simon &amp; Schuster Audio</td>\n",
       "      <td>0.694915</td>\n",
       "      <td>Audiobook</td>\n",
       "      <td>0</td>\n",
       "    </tr>\n",
       "    <tr>\n",
       "      <th>2</th>\n",
       "      <td>18000257</td>\n",
       "      <td>0.044115</td>\n",
       "      <td>0.0</td>\n",
       "      <td>0.170275</td>\n",
       "      <td>0.051441</td>\n",
       "      <td>0.0</td>\n",
       "      <td>0.199902</td>\n",
       "      <td>0.000000</td>\n",
       "      <td>0.060231</td>\n",
       "      <td>0.0</td>\n",
       "      <td>...</td>\n",
       "      <td>0.000000</td>\n",
       "      <td>0.041348</td>\n",
       "      <td>0.0</td>\n",
       "      <td>0.097835</td>\n",
       "      <td>0.036464</td>\n",
       "      <td>10333</td>\n",
       "      <td>Nelson Doubleday, Inc.</td>\n",
       "      <td>0.457627</td>\n",
       "      <td>Hardcover</td>\n",
       "      <td>1</td>\n",
       "    </tr>\n",
       "    <tr>\n",
       "      <th>3</th>\n",
       "      <td>6015185</td>\n",
       "      <td>0.043652</td>\n",
       "      <td>0.0</td>\n",
       "      <td>0.000000</td>\n",
       "      <td>0.053861</td>\n",
       "      <td>0.0</td>\n",
       "      <td>0.063600</td>\n",
       "      <td>0.109951</td>\n",
       "      <td>0.054799</td>\n",
       "      <td>0.0</td>\n",
       "      <td>...</td>\n",
       "      <td>0.049988</td>\n",
       "      <td>0.000000</td>\n",
       "      <td>0.0</td>\n",
       "      <td>0.068881</td>\n",
       "      <td>0.057264</td>\n",
       "      <td>9212</td>\n",
       "      <td>Atria Books</td>\n",
       "      <td>0.830508</td>\n",
       "      <td>Hardcover</td>\n",
       "      <td>0</td>\n",
       "    </tr>\n",
       "    <tr>\n",
       "      <th>4</th>\n",
       "      <td>27421523</td>\n",
       "      <td>0.043652</td>\n",
       "      <td>0.0</td>\n",
       "      <td>0.000000</td>\n",
       "      <td>0.053861</td>\n",
       "      <td>0.0</td>\n",
       "      <td>0.063600</td>\n",
       "      <td>0.109951</td>\n",
       "      <td>0.054799</td>\n",
       "      <td>0.0</td>\n",
       "      <td>...</td>\n",
       "      <td>0.049988</td>\n",
       "      <td>0.000000</td>\n",
       "      <td>0.0</td>\n",
       "      <td>0.068881</td>\n",
       "      <td>0.057264</td>\n",
       "      <td>149918</td>\n",
       "      <td>NaN</td>\n",
       "      <td>0.000000</td>\n",
       "      <td>Undefined</td>\n",
       "      <td>0</td>\n",
       "    </tr>\n",
       "  </tbody>\n",
       "</table>\n",
       "<p>5 rows × 29 columns</p>\n",
       "</div>"
      ],
      "text/plain": [
       "    book_id   fiction  fantasy   romance   classic  mystery    kindle  \\\n",
       "0  16281293  0.028861      0.0  0.000000  0.033479      0.0  0.102104   \n",
       "1   1555826  0.044115      0.0  0.170275  0.051441      0.0  0.199902   \n",
       "2  18000257  0.044115      0.0  0.170275  0.051441      0.0  0.199902   \n",
       "3   6015185  0.043652      0.0  0.000000  0.053861      0.0  0.063600   \n",
       "4  27421523  0.043652      0.0  0.000000  0.053861      0.0  0.063600   \n",
       "\n",
       "     sci-fi  literature  horror  ...  children    school  philosophy  \\\n",
       "0  0.000000    0.055541     0.0  ...  0.000000  0.049128         0.0   \n",
       "1  0.000000    0.060231     0.0  ...  0.000000  0.041348         0.0   \n",
       "2  0.000000    0.060231     0.0  ...  0.000000  0.041348         0.0   \n",
       "3  0.109951    0.054799     0.0  ...  0.049988  0.000000         0.0   \n",
       "4  0.109951    0.054799     0.0  ...  0.049988  0.000000         0.0   \n",
       "\n",
       "      novel     young  author               publisher      year     format  \\\n",
       "0  0.040277  0.043099  604031      St. Martin's Press  0.406780  Paperback   \n",
       "1  0.097835  0.036464  626222  Simon & Schuster Audio  0.694915  Audiobook   \n",
       "2  0.097835  0.036464   10333  Nelson Doubleday, Inc.  0.457627  Hardcover   \n",
       "3  0.068881  0.057264    9212             Atria Books  0.830508  Hardcover   \n",
       "4  0.068881  0.057264  149918                     NaN  0.000000  Undefined   \n",
       "\n",
       "   is_series  \n",
       "0          0  \n",
       "1          0  \n",
       "2          1  \n",
       "3          0  \n",
       "4          0  \n",
       "\n",
       "[5 rows x 29 columns]"
      ]
     },
     "execution_count": 39,
     "metadata": {},
     "output_type": "execute_result"
    }
   ],
   "source": [
    "#Add the last features\n",
    "features['author'] = author\n",
    "features['publisher'] = books['publisher']\n",
    "features['year'] = publication_year\n",
    "features['format'] = book_format\n",
    "features['is_series'] = is_series\n",
    "\n",
    "features.head()"
   ]
  },
  {
   "cell_type": "markdown",
   "metadata": {},
   "source": [
    "Now, we have a clean dataset we can start working with for a \"Content Based Filtering\" approach."
   ]
  },
  {
   "cell_type": "code",
   "execution_count": null,
   "metadata": {},
   "outputs": [],
   "source": [
    "#Export in the processed dataset in csv\n",
    "features.to_csv('data/sample/item_item_filter.csv', index=False)"
   ]
  }
 ],
 "metadata": {
  "kernelspec": {
   "display_name": "Python 3",
   "language": "python",
   "name": "python3"
  },
  "language_info": {
   "codemirror_mode": {
    "name": "ipython",
    "version": 3
   },
   "file_extension": ".py",
   "mimetype": "text/x-python",
   "name": "python",
   "nbconvert_exporter": "python",
   "pygments_lexer": "ipython3",
   "version": "3.8.8"
  }
 },
 "nbformat": 4,
 "nbformat_minor": 4
}
