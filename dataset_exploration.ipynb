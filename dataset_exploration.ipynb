{
 "cells": [
  {
   "cell_type": "markdown",
   "metadata": {},
   "source": [
    "# Data Exploration\n",
    "## Goodreads Books Dataset"
   ]
  },
  {
   "cell_type": "code",
   "execution_count": 2,
   "metadata": {},
   "outputs": [],
   "source": [
    "import pandas as pd\n",
    "import numpy as np\n",
    "import gzip\n",
    "import json\n",
    "\n",
    "import seaborn as sns\n",
    "\n",
    "import matplotlib\n",
    "import matplotlib.pyplot as plt\n",
    "\n",
    "sns.set_theme(style=\"darkgrid\")"
   ]
  },
  {
   "cell_type": "code",
   "execution_count": 3,
   "metadata": {},
   "outputs": [],
   "source": [
    "def load_data(file_name, head = 500):\n",
    "    count = 0\n",
    "    data = []\n",
    "    with gzip.open(file_name) as fin:\n",
    "        for l in fin:\n",
    "            d = json.loads(l)\n",
    "            count += 1\n",
    "            data.append(d)\n",
    "            \n",
    "            # break if reaches the 100th line\n",
    "            if (head is not None) and (count > head):\n",
    "                break\n",
    "    return pd.DataFrame(data)"
   ]
  },
  {
   "cell_type": "code",
   "execution_count": 4,
   "metadata": {},
   "outputs": [],
   "source": [
    "# Load samples\n",
    "books = load_data('data/raw/goodreads_books.json.gz', head=10000)\n",
    "reviews = load_data('data/raw/goodreads_reviews_dedup.json.gz', head=50000)"
   ]
  },
  {
   "cell_type": "code",
   "execution_count": 5,
   "metadata": {},
   "outputs": [
    {
     "name": "stdout",
     "output_type": "stream",
     "text": [
      "<class 'pandas.core.frame.DataFrame'>\n",
      "RangeIndex: 10001 entries, 0 to 10000\n",
      "Data columns (total 29 columns):\n",
      " #   Column                Non-Null Count  Dtype \n",
      "---  ------                --------------  ----- \n",
      " 0   isbn                  10001 non-null  object\n",
      " 1   text_reviews_count    10001 non-null  object\n",
      " 2   series                10001 non-null  object\n",
      " 3   country_code          10001 non-null  object\n",
      " 4   language_code         10001 non-null  object\n",
      " 5   popular_shelves       10001 non-null  object\n",
      " 6   asin                  10001 non-null  object\n",
      " 7   is_ebook              10001 non-null  object\n",
      " 8   average_rating        10001 non-null  object\n",
      " 9   kindle_asin           10001 non-null  object\n",
      " 10  similar_books         10001 non-null  object\n",
      " 11  description           10001 non-null  object\n",
      " 12  format                10001 non-null  object\n",
      " 13  link                  10001 non-null  object\n",
      " 14  authors               10001 non-null  object\n",
      " 15  publisher             10001 non-null  object\n",
      " 16  num_pages             10001 non-null  object\n",
      " 17  publication_day       10001 non-null  object\n",
      " 18  isbn13                10001 non-null  object\n",
      " 19  publication_month     10001 non-null  object\n",
      " 20  edition_information   10001 non-null  object\n",
      " 21  publication_year      10001 non-null  object\n",
      " 22  url                   10001 non-null  object\n",
      " 23  image_url             10001 non-null  object\n",
      " 24  book_id               10001 non-null  object\n",
      " 25  ratings_count         10001 non-null  object\n",
      " 26  work_id               10001 non-null  object\n",
      " 27  title                 10001 non-null  object\n",
      " 28  title_without_series  10001 non-null  object\n",
      "dtypes: object(29)\n",
      "memory usage: 2.2+ MB\n"
     ]
    }
   ],
   "source": [
    "books.info()"
   ]
  },
  {
   "cell_type": "markdown",
   "metadata": {},
   "source": [
    "-> Only object type columns so we need to format the dataset.\\\n",
    "-> Missing values are not counted because of object type."
   ]
  },
  {
   "cell_type": "code",
   "execution_count": 6,
   "metadata": {},
   "outputs": [
    {
     "data": {
      "text/html": [
       "<div>\n",
       "<style scoped>\n",
       "    .dataframe tbody tr th:only-of-type {\n",
       "        vertical-align: middle;\n",
       "    }\n",
       "\n",
       "    .dataframe tbody tr th {\n",
       "        vertical-align: top;\n",
       "    }\n",
       "\n",
       "    .dataframe thead th {\n",
       "        text-align: right;\n",
       "    }\n",
       "</style>\n",
       "<table border=\"1\" class=\"dataframe\">\n",
       "  <thead>\n",
       "    <tr style=\"text-align: right;\">\n",
       "      <th></th>\n",
       "      <th>isbn</th>\n",
       "      <th>text_reviews_count</th>\n",
       "      <th>series</th>\n",
       "      <th>country_code</th>\n",
       "      <th>language_code</th>\n",
       "      <th>popular_shelves</th>\n",
       "      <th>asin</th>\n",
       "      <th>is_ebook</th>\n",
       "      <th>average_rating</th>\n",
       "      <th>kindle_asin</th>\n",
       "      <th>...</th>\n",
       "      <th>publication_month</th>\n",
       "      <th>edition_information</th>\n",
       "      <th>publication_year</th>\n",
       "      <th>url</th>\n",
       "      <th>image_url</th>\n",
       "      <th>book_id</th>\n",
       "      <th>ratings_count</th>\n",
       "      <th>work_id</th>\n",
       "      <th>title</th>\n",
       "      <th>title_without_series</th>\n",
       "    </tr>\n",
       "  </thead>\n",
       "  <tbody>\n",
       "    <tr>\n",
       "      <th>0</th>\n",
       "      <td>0312853122</td>\n",
       "      <td>1</td>\n",
       "      <td>[]</td>\n",
       "      <td>US</td>\n",
       "      <td></td>\n",
       "      <td>[{'count': '3', 'name': 'to-read'}, {'count': ...</td>\n",
       "      <td></td>\n",
       "      <td>false</td>\n",
       "      <td>4.00</td>\n",
       "      <td></td>\n",
       "      <td>...</td>\n",
       "      <td>9</td>\n",
       "      <td></td>\n",
       "      <td>1984</td>\n",
       "      <td>https://www.goodreads.com/book/show/5333265-w-...</td>\n",
       "      <td>https://images.gr-assets.com/books/1310220028m...</td>\n",
       "      <td>5333265</td>\n",
       "      <td>3</td>\n",
       "      <td>5400751</td>\n",
       "      <td>W.C. Fields: A Life on Film</td>\n",
       "      <td>W.C. Fields: A Life on Film</td>\n",
       "    </tr>\n",
       "    <tr>\n",
       "      <th>1</th>\n",
       "      <td>0743509986</td>\n",
       "      <td>6</td>\n",
       "      <td>[]</td>\n",
       "      <td>US</td>\n",
       "      <td></td>\n",
       "      <td>[{'count': '2634', 'name': 'to-read'}, {'count...</td>\n",
       "      <td></td>\n",
       "      <td>false</td>\n",
       "      <td>3.23</td>\n",
       "      <td>B000FC0PBC</td>\n",
       "      <td>...</td>\n",
       "      <td>10</td>\n",
       "      <td>Abridged</td>\n",
       "      <td>2001</td>\n",
       "      <td>https://www.goodreads.com/book/show/1333909.Go...</td>\n",
       "      <td>https://s.gr-assets.com/assets/nophoto/book/11...</td>\n",
       "      <td>1333909</td>\n",
       "      <td>10</td>\n",
       "      <td>1323437</td>\n",
       "      <td>Good Harbor</td>\n",
       "      <td>Good Harbor</td>\n",
       "    </tr>\n",
       "    <tr>\n",
       "      <th>2</th>\n",
       "      <td></td>\n",
       "      <td>7</td>\n",
       "      <td>[189911]</td>\n",
       "      <td>US</td>\n",
       "      <td>eng</td>\n",
       "      <td>[{'count': '58', 'name': 'to-read'}, {'count':...</td>\n",
       "      <td>B00071IKUY</td>\n",
       "      <td>false</td>\n",
       "      <td>4.03</td>\n",
       "      <td></td>\n",
       "      <td>...</td>\n",
       "      <td></td>\n",
       "      <td>Book Club Edition</td>\n",
       "      <td>1987</td>\n",
       "      <td>https://www.goodreads.com/book/show/7327624-th...</td>\n",
       "      <td>https://images.gr-assets.com/books/1304100136m...</td>\n",
       "      <td>7327624</td>\n",
       "      <td>140</td>\n",
       "      <td>8948723</td>\n",
       "      <td>The Unschooled Wizard (Sun Wolf and Starhawk, ...</td>\n",
       "      <td>The Unschooled Wizard (Sun Wolf and Starhawk, ...</td>\n",
       "    </tr>\n",
       "    <tr>\n",
       "      <th>3</th>\n",
       "      <td>0743294297</td>\n",
       "      <td>3282</td>\n",
       "      <td>[]</td>\n",
       "      <td>US</td>\n",
       "      <td>eng</td>\n",
       "      <td>[{'count': '7615', 'name': 'to-read'}, {'count...</td>\n",
       "      <td></td>\n",
       "      <td>false</td>\n",
       "      <td>3.49</td>\n",
       "      <td>B002ENBLOK</td>\n",
       "      <td>...</td>\n",
       "      <td>7</td>\n",
       "      <td></td>\n",
       "      <td>2009</td>\n",
       "      <td>https://www.goodreads.com/book/show/6066819-be...</td>\n",
       "      <td>https://s.gr-assets.com/assets/nophoto/book/11...</td>\n",
       "      <td>6066819</td>\n",
       "      <td>51184</td>\n",
       "      <td>6243154</td>\n",
       "      <td>Best Friends Forever</td>\n",
       "      <td>Best Friends Forever</td>\n",
       "    </tr>\n",
       "    <tr>\n",
       "      <th>4</th>\n",
       "      <td>0850308712</td>\n",
       "      <td>5</td>\n",
       "      <td>[]</td>\n",
       "      <td>US</td>\n",
       "      <td></td>\n",
       "      <td>[{'count': '32', 'name': 'to-read'}, {'count':...</td>\n",
       "      <td></td>\n",
       "      <td>false</td>\n",
       "      <td>3.40</td>\n",
       "      <td></td>\n",
       "      <td>...</td>\n",
       "      <td></td>\n",
       "      <td></td>\n",
       "      <td></td>\n",
       "      <td>https://www.goodreads.com/book/show/287140.Run...</td>\n",
       "      <td>https://images.gr-assets.com/books/1413219371m...</td>\n",
       "      <td>287140</td>\n",
       "      <td>15</td>\n",
       "      <td>278577</td>\n",
       "      <td>Runic Astrology: Starcraft and Timekeeping in ...</td>\n",
       "      <td>Runic Astrology: Starcraft and Timekeeping in ...</td>\n",
       "    </tr>\n",
       "  </tbody>\n",
       "</table>\n",
       "<p>5 rows × 29 columns</p>\n",
       "</div>"
      ],
      "text/plain": [
       "         isbn text_reviews_count    series country_code language_code  \\\n",
       "0  0312853122                  1        []           US                 \n",
       "1  0743509986                  6        []           US                 \n",
       "2                              7  [189911]           US           eng   \n",
       "3  0743294297               3282        []           US           eng   \n",
       "4  0850308712                  5        []           US                 \n",
       "\n",
       "                                     popular_shelves        asin is_ebook  \\\n",
       "0  [{'count': '3', 'name': 'to-read'}, {'count': ...                false   \n",
       "1  [{'count': '2634', 'name': 'to-read'}, {'count...                false   \n",
       "2  [{'count': '58', 'name': 'to-read'}, {'count':...  B00071IKUY    false   \n",
       "3  [{'count': '7615', 'name': 'to-read'}, {'count...                false   \n",
       "4  [{'count': '32', 'name': 'to-read'}, {'count':...                false   \n",
       "\n",
       "  average_rating kindle_asin  ... publication_month edition_information  \\\n",
       "0           4.00              ...                 9                       \n",
       "1           3.23  B000FC0PBC  ...                10            Abridged   \n",
       "2           4.03              ...                     Book Club Edition   \n",
       "3           3.49  B002ENBLOK  ...                 7                       \n",
       "4           3.40              ...                                         \n",
       "\n",
       "  publication_year                                                url  \\\n",
       "0             1984  https://www.goodreads.com/book/show/5333265-w-...   \n",
       "1             2001  https://www.goodreads.com/book/show/1333909.Go...   \n",
       "2             1987  https://www.goodreads.com/book/show/7327624-th...   \n",
       "3             2009  https://www.goodreads.com/book/show/6066819-be...   \n",
       "4                   https://www.goodreads.com/book/show/287140.Run...   \n",
       "\n",
       "                                           image_url  book_id ratings_count  \\\n",
       "0  https://images.gr-assets.com/books/1310220028m...  5333265             3   \n",
       "1  https://s.gr-assets.com/assets/nophoto/book/11...  1333909            10   \n",
       "2  https://images.gr-assets.com/books/1304100136m...  7327624           140   \n",
       "3  https://s.gr-assets.com/assets/nophoto/book/11...  6066819         51184   \n",
       "4  https://images.gr-assets.com/books/1413219371m...   287140            15   \n",
       "\n",
       "   work_id                                              title  \\\n",
       "0  5400751                        W.C. Fields: A Life on Film   \n",
       "1  1323437                                        Good Harbor   \n",
       "2  8948723  The Unschooled Wizard (Sun Wolf and Starhawk, ...   \n",
       "3  6243154                               Best Friends Forever   \n",
       "4   278577  Runic Astrology: Starcraft and Timekeeping in ...   \n",
       "\n",
       "                                title_without_series  \n",
       "0                        W.C. Fields: A Life on Film  \n",
       "1                                        Good Harbor  \n",
       "2  The Unschooled Wizard (Sun Wolf and Starhawk, ...  \n",
       "3                               Best Friends Forever  \n",
       "4  Runic Astrology: Starcraft and Timekeeping in ...  \n",
       "\n",
       "[5 rows x 29 columns]"
      ]
     },
     "execution_count": 6,
     "metadata": {},
     "output_type": "execute_result"
    }
   ],
   "source": [
    "books.head()"
   ]
  },
  {
   "cell_type": "markdown",
   "metadata": {},
   "source": [
    "Let's add one columne \"popularity rate\" to sort our dataset."
   ]
  },
  {
   "cell_type": "code",
   "execution_count": 7,
   "metadata": {},
   "outputs": [
    {
     "data": {
      "text/html": [
       "<div>\n",
       "<style scoped>\n",
       "    .dataframe tbody tr th:only-of-type {\n",
       "        vertical-align: middle;\n",
       "    }\n",
       "\n",
       "    .dataframe tbody tr th {\n",
       "        vertical-align: top;\n",
       "    }\n",
       "\n",
       "    .dataframe thead th {\n",
       "        text-align: right;\n",
       "    }\n",
       "</style>\n",
       "<table border=\"1\" class=\"dataframe\">\n",
       "  <thead>\n",
       "    <tr style=\"text-align: right;\">\n",
       "      <th></th>\n",
       "      <th>isbn</th>\n",
       "      <th>text_reviews_count</th>\n",
       "      <th>series</th>\n",
       "      <th>country_code</th>\n",
       "      <th>language_code</th>\n",
       "      <th>popular_shelves</th>\n",
       "      <th>asin</th>\n",
       "      <th>is_ebook</th>\n",
       "      <th>average_rating</th>\n",
       "      <th>kindle_asin</th>\n",
       "      <th>...</th>\n",
       "      <th>edition_information</th>\n",
       "      <th>publication_year</th>\n",
       "      <th>url</th>\n",
       "      <th>image_url</th>\n",
       "      <th>book_id</th>\n",
       "      <th>ratings_count</th>\n",
       "      <th>work_id</th>\n",
       "      <th>title</th>\n",
       "      <th>title_without_series</th>\n",
       "      <th>popularity_rate</th>\n",
       "    </tr>\n",
       "  </thead>\n",
       "  <tbody>\n",
       "    <tr>\n",
       "      <th>3373</th>\n",
       "      <td>9604533940</td>\n",
       "      <td>21</td>\n",
       "      <td>[]</td>\n",
       "      <td>US</td>\n",
       "      <td>gre</td>\n",
       "      <td>[{'count': '834959', 'name': 'to-read'}, {'cou...</td>\n",
       "      <td></td>\n",
       "      <td>false</td>\n",
       "      <td>4.36</td>\n",
       "      <td></td>\n",
       "      <td>...</td>\n",
       "      <td></td>\n",
       "      <td>2008</td>\n",
       "      <td>https://www.goodreads.com/book/show/16281293</td>\n",
       "      <td>https://images.gr-assets.com/books/1354871653m...</td>\n",
       "      <td>16281293</td>\n",
       "      <td>142</td>\n",
       "      <td>878368</td>\n",
       "      <td>Η κλέφτρα των βιβλίων</td>\n",
       "      <td>Η κλέφτρα των βιβλίων</td>\n",
       "      <td>1006161</td>\n",
       "    </tr>\n",
       "    <tr>\n",
       "      <th>8096</th>\n",
       "      <td>8917161375</td>\n",
       "      <td>107</td>\n",
       "      <td>[]</td>\n",
       "      <td>US</td>\n",
       "      <td>eng</td>\n",
       "      <td>[{'count': '742446', 'name': 'to-read'}, {'cou...</td>\n",
       "      <td></td>\n",
       "      <td>false</td>\n",
       "      <td>4.25</td>\n",
       "      <td>B01B173GA6</td>\n",
       "      <td>...</td>\n",
       "      <td></td>\n",
       "      <td>2006</td>\n",
       "      <td>https://www.goodreads.com/book/show/1555826.Pr...</td>\n",
       "      <td>https://s.gr-assets.com/assets/nophoto/book/11...</td>\n",
       "      <td>1555826</td>\n",
       "      <td>710</td>\n",
       "      <td>3060926</td>\n",
       "      <td>Pride and Prejudice</td>\n",
       "      <td>Pride and Prejudice</td>\n",
       "      <td>997017</td>\n",
       "    </tr>\n",
       "    <tr>\n",
       "      <th>2693</th>\n",
       "      <td>3954180154</td>\n",
       "      <td>1</td>\n",
       "      <td>[]</td>\n",
       "      <td>US</td>\n",
       "      <td>ger</td>\n",
       "      <td>[{'count': '742446', 'name': 'to-read'}, {'cou...</td>\n",
       "      <td></td>\n",
       "      <td>true</td>\n",
       "      <td>4.25</td>\n",
       "      <td></td>\n",
       "      <td>...</td>\n",
       "      <td>1. Auflage</td>\n",
       "      <td>2012</td>\n",
       "      <td>https://www.goodreads.com/book/show/18000257-s...</td>\n",
       "      <td>https://images.gr-assets.com/books/1369944679m...</td>\n",
       "      <td>18000257</td>\n",
       "      <td>1</td>\n",
       "      <td>3060926</td>\n",
       "      <td>Stolz und Vorurteil</td>\n",
       "      <td>Stolz und Vorurteil</td>\n",
       "      <td>997017</td>\n",
       "    </tr>\n",
       "    <tr>\n",
       "      <th>9991</th>\n",
       "      <td>9188877663</td>\n",
       "      <td>5</td>\n",
       "      <td>[167817]</td>\n",
       "      <td>US</td>\n",
       "      <td>swe</td>\n",
       "      <td>[{'count': '525550', 'name': 'to-read'}, {'cou...</td>\n",
       "      <td></td>\n",
       "      <td>false</td>\n",
       "      <td>4.45</td>\n",
       "      <td></td>\n",
       "      <td>...</td>\n",
       "      <td>2</td>\n",
       "      <td>2001</td>\n",
       "      <td>https://www.goodreads.com/book/show/6015185-ha...</td>\n",
       "      <td>https://images.gr-assets.com/books/1465566233m...</td>\n",
       "      <td>6015185</td>\n",
       "      <td>96</td>\n",
       "      <td>4640799</td>\n",
       "      <td>Harry Potter och de vises sten (Harry Potter, #1)</td>\n",
       "      <td>Harry Potter och de vises sten (Harry Potter, #1)</td>\n",
       "      <td>771435</td>\n",
       "    </tr>\n",
       "    <tr>\n",
       "      <th>3221</th>\n",
       "      <td></td>\n",
       "      <td>12</td>\n",
       "      <td>[167817]</td>\n",
       "      <td>US</td>\n",
       "      <td>eng</td>\n",
       "      <td>[{'count': '525550', 'name': 'to-read'}, {'cou...</td>\n",
       "      <td></td>\n",
       "      <td>true</td>\n",
       "      <td>4.45</td>\n",
       "      <td></td>\n",
       "      <td>...</td>\n",
       "      <td>US Enhanced Edition</td>\n",
       "      <td>2015</td>\n",
       "      <td>https://www.goodreads.com/book/show/27421523-h...</td>\n",
       "      <td>https://images.gr-assets.com/books/1446575623m...</td>\n",
       "      <td>27421523</td>\n",
       "      <td>80</td>\n",
       "      <td>4640799</td>\n",
       "      <td>Harry Potter and the Sorcerer's Stone (Harry P...</td>\n",
       "      <td>Harry Potter and the Sorcerer's Stone (Harry P...</td>\n",
       "      <td>771435</td>\n",
       "    </tr>\n",
       "  </tbody>\n",
       "</table>\n",
       "<p>5 rows × 30 columns</p>\n",
       "</div>"
      ],
      "text/plain": [
       "            isbn text_reviews_count    series country_code language_code  \\\n",
       "3373  9604533940                 21        []           US           gre   \n",
       "8096  8917161375                107        []           US           eng   \n",
       "2693  3954180154                  1        []           US           ger   \n",
       "9991  9188877663                  5  [167817]           US           swe   \n",
       "3221                             12  [167817]           US           eng   \n",
       "\n",
       "                                        popular_shelves asin is_ebook  \\\n",
       "3373  [{'count': '834959', 'name': 'to-read'}, {'cou...         false   \n",
       "8096  [{'count': '742446', 'name': 'to-read'}, {'cou...         false   \n",
       "2693  [{'count': '742446', 'name': 'to-read'}, {'cou...          true   \n",
       "9991  [{'count': '525550', 'name': 'to-read'}, {'cou...         false   \n",
       "3221  [{'count': '525550', 'name': 'to-read'}, {'cou...          true   \n",
       "\n",
       "     average_rating kindle_asin  ...  edition_information publication_year  \\\n",
       "3373           4.36              ...                                  2008   \n",
       "8096           4.25  B01B173GA6  ...                                  2006   \n",
       "2693           4.25              ...           1. Auflage             2012   \n",
       "9991           4.45              ...                    2             2001   \n",
       "3221           4.45              ...  US Enhanced Edition             2015   \n",
       "\n",
       "                                                    url  \\\n",
       "3373       https://www.goodreads.com/book/show/16281293   \n",
       "8096  https://www.goodreads.com/book/show/1555826.Pr...   \n",
       "2693  https://www.goodreads.com/book/show/18000257-s...   \n",
       "9991  https://www.goodreads.com/book/show/6015185-ha...   \n",
       "3221  https://www.goodreads.com/book/show/27421523-h...   \n",
       "\n",
       "                                              image_url   book_id  \\\n",
       "3373  https://images.gr-assets.com/books/1354871653m...  16281293   \n",
       "8096  https://s.gr-assets.com/assets/nophoto/book/11...   1555826   \n",
       "2693  https://images.gr-assets.com/books/1369944679m...  18000257   \n",
       "9991  https://images.gr-assets.com/books/1465566233m...   6015185   \n",
       "3221  https://images.gr-assets.com/books/1446575623m...  27421523   \n",
       "\n",
       "     ratings_count  work_id  \\\n",
       "3373           142   878368   \n",
       "8096           710  3060926   \n",
       "2693             1  3060926   \n",
       "9991            96  4640799   \n",
       "3221            80  4640799   \n",
       "\n",
       "                                                  title  \\\n",
       "3373                              Η κλέφτρα των βιβλίων   \n",
       "8096                                Pride and Prejudice   \n",
       "2693                                Stolz und Vorurteil   \n",
       "9991  Harry Potter och de vises sten (Harry Potter, #1)   \n",
       "3221  Harry Potter and the Sorcerer's Stone (Harry P...   \n",
       "\n",
       "                                   title_without_series popularity_rate  \n",
       "3373                              Η κλέφτρα των βιβλίων         1006161  \n",
       "8096                                Pride and Prejudice          997017  \n",
       "2693                                Stolz und Vorurteil          997017  \n",
       "9991  Harry Potter och de vises sten (Harry Potter, #1)          771435  \n",
       "3221  Harry Potter and the Sorcerer's Stone (Harry P...          771435  \n",
       "\n",
       "[5 rows x 30 columns]"
      ]
     },
     "execution_count": 7,
     "metadata": {},
     "output_type": "execute_result"
    }
   ],
   "source": [
    "popularity_rate = []\n",
    "for index, row in books.iterrows():\n",
    "    count = 0\n",
    "    for cat in row['popular_shelves']:\n",
    "        count += int(cat['count'])\n",
    "    popularity_rate.append(count)\n",
    "\n",
    "books['popularity_rate'] = popularity_rate\n",
    "\n",
    "books.sort_values(by=['popularity_rate'], ascending=False, inplace=True)\n",
    "\n",
    "books.head()"
   ]
  },
  {
   "cell_type": "code",
   "execution_count": 12,
   "metadata": {},
   "outputs": [],
   "source": [
    "#books.to_excel('data/excel/books10k.xlsx', sheet_name='head10k')\n",
    "#reviews.to_excel('data/excel/reviews50k.xlsx', sheet_name='head50k')"
   ]
  },
  {
   "cell_type": "markdown",
   "metadata": {},
   "source": [
    "### Data Cleaning And Format"
   ]
  },
  {
   "cell_type": "code",
   "execution_count": null,
   "metadata": {},
   "outputs": [],
   "source": [
    "#Set missing values as NULL\n",
    "books.replace('', np.NaN, inplace=True)\n",
    "\n",
    "integers = ['text_reviews_count','ratings_count','publication_day','publication_month', 'publication_year','book_id','num_pages']\n",
    "floats = ['average_rating']\n",
    "\n",
    "#Change column types\n",
    "for col in integers:\n",
    "    books[col] = books[col].fillna(0)\n",
    "    books[col] = books[col].astype(int)\n",
    "for col in floats:\n",
    "    books[col] = books[col].astype(float)"
   ]
  },
  {
   "cell_type": "code",
   "execution_count": null,
   "metadata": {},
   "outputs": [],
   "source": [
    "sns.heatmap(books.isnull(), cbar=False)"
   ]
  },
  {
   "cell_type": "markdown",
   "metadata": {},
   "source": [
    "### Item Dataset Exploration"
   ]
  },
  {
   "cell_type": "code",
   "execution_count": null,
   "metadata": {},
   "outputs": [],
   "source": [
    "books.describe()"
   ]
  },
  {
   "cell_type": "markdown",
   "metadata": {},
   "source": [
    "#### 1. Ratings and reviews"
   ]
  },
  {
   "cell_type": "code",
   "execution_count": null,
   "metadata": {},
   "outputs": [],
   "source": [
    "ax = sns.boxplot(data=books[[\"ratings_count\",\"text_reviews_count\"]])\n",
    "ax.set_ylim(0,200)"
   ]
  },
  {
   "cell_type": "markdown",
   "metadata": {},
   "source": [
    "### 2. Categories\n",
    "\n",
    "-> Language"
   ]
  },
  {
   "cell_type": "code",
   "execution_count": null,
   "metadata": {},
   "outputs": [],
   "source": [
    "lang = books[\"language_code\"].value_counts().sort_values(ascending=False)\n",
    "#Display top 20 languages represented\n",
    "lang.head(10)"
   ]
  },
  {
   "cell_type": "markdown",
   "metadata": {},
   "source": [
    "#### a. Books categories"
   ]
  },
  {
   "cell_type": "code",
   "execution_count": null,
   "metadata": {},
   "outputs": [],
   "source": [
    "all_categories = {}\n",
    "for row in books['popular_shelves'].tolist():\n",
    "    if row:\n",
    "        for cat in row:\n",
    "            if cat['name'] not in all_categories.keys():\n",
    "                all_categories[cat['name']] = int(cat['count'])\n",
    "            else:\n",
    "                all_categories[cat['name']] += int(cat['count'])\n",
    "print(len(all_categories))"
   ]
  },
  {
   "cell_type": "markdown",
   "metadata": {},
   "source": [
    "About 120000 categories are represented.\\\n",
    "Some of them might be underepresented, overrepresented or just unrelevent.\\\n",
    "-> We need to choose which one we will consider as features."
   ]
  },
  {
   "cell_type": "code",
   "execution_count": null,
   "metadata": {},
   "outputs": [],
   "source": [
    "categories = pd.DataFrame({}, columns=['name', 'counts'])\n",
    "\n",
    "categories['name'] = all_categories.keys()\n",
    "categories['counts'] = all_categories.values()\n",
    "categories.sort_values(by=['counts'], inplace=True, ascending=False)"
   ]
  },
  {
   "cell_type": "code",
   "execution_count": null,
   "metadata": {},
   "outputs": [],
   "source": [
    "#Print the top 10 categories\n",
    "categories.head(10)"
   ]
  },
  {
   "cell_type": "markdown",
   "metadata": {},
   "source": [
    "One can see that some categories like \"currently-reading\", \"owned\", \"books-i-own\" aren't really describing the books.\\\n",
    "But let's keep it for the moment.\n"
   ]
  },
  {
   "cell_type": "code",
   "execution_count": null,
   "metadata": {},
   "outputs": [],
   "source": [
    "#Print the bottom 10 categories\n",
    "categories.tail(10)"
   ]
  },
  {
   "cell_type": "markdown",
   "metadata": {},
   "source": [
    "One can see that there are lots of noises among the categories.\\\n",
    "Those ones are unrelevent, too specifics or just mistakes.\\\n",
    "-> We need to remove them from the dataset since it can't be a source of informations."
   ]
  },
  {
   "cell_type": "code",
   "execution_count": null,
   "metadata": {},
   "outputs": [],
   "source": [
    "categories['counts'].describe()"
   ]
  },
  {
   "cell_type": "markdown",
   "metadata": {},
   "source": [
    "One can see that at least 75% of those categories are represented less than twice.\\\n",
    "It means that we can already eliminate those one."
   ]
  },
  {
   "cell_type": "code",
   "execution_count": null,
   "metadata": {},
   "outputs": [],
   "source": [
    "#Let's continue with the top 25%\n",
    "categories = categories.head(int(round(len(categories)*25/1000, 0)))\n",
    "\n",
    "\n",
    "print(len(categories))\n",
    "categories.describe()"
   ]
  },
  {
   "cell_type": "code",
   "execution_count": null,
   "metadata": {},
   "outputs": [],
   "source": [
    "#Print the bottom 10 categories\n",
    "categories.tail(10)"
   ]
  },
  {
   "cell_type": "code",
   "execution_count": null,
   "metadata": {},
   "outputs": [],
   "source": [
    "linked = []\n",
    "for cat in categories['name']:\n",
    "    if 'romance' in cat.lower():\n",
    "        linked.append(cat)\n",
    "print(len(linked))\n",
    "print(linked)"
   ]
  },
  {
   "cell_type": "markdown",
   "metadata": {},
   "source": [
    "One can see that many categories are too specific and contains sub-categories that a more represented. (exemple: Romance)\\\n",
    "We need to separate those categories."
   ]
  },
  {
   "cell_type": "markdown",
   "metadata": {},
   "source": [
    "Let's try to:\\\n",
    "-> remove duplicates (like \"sci-fi\" and \"science-fiction\")\\\n",
    "-> remove plurales (like \"childrenS\")\\\n",
    "-> remove categories that give informations we already have in the dataset. (like \"series\" or \"ebook\")\\\n",
    "-> remove non categorical labels (like \"favorite\", \"books-iown\" etc.)"
   ]
  },
  {
   "cell_type": "code",
   "execution_count": null,
   "metadata": {},
   "outputs": [],
   "source": [
    "selected_cat = categories['name'].tolist()[:50]\n",
    "\n",
    "print(selected_cat)"
   ]
  },
  {
   "cell_type": "code",
   "execution_count": null,
   "metadata": {},
   "outputs": [],
   "source": [
    "to_remove = ['to-read', 'currently-reading', 'favorites', 'books-i-own', 'owned', 'favourites', 'series',\n",
    "            'non-fiction', 'library', 'default','to-buy', 'childrens', 'ya', 'ebooks', 'dystopian', 'audiobooks',\n",
    "            'ebook','my-books','nonfiction' ,'audiobook','i-own', 'my-library','owned-books','owned-books',\n",
    "            'science-fiction', 'historical-fiction','novels','classics','young-adult','book-club']\n",
    "\n",
    "for cat in to_remove:\n",
    "    try:\n",
    "        selected_cat.remove(cat)\n",
    "    except ValueError:\n",
    "        pass\n",
    "\n",
    "selected_cat.append('novel')\n",
    "selected_cat.append('young')\n",
    "\n",
    "print(selected_cat)"
   ]
  },
  {
   "cell_type": "markdown",
   "metadata": {},
   "source": [
    "Now not to loose information because of noise, we need to associate a lexical field to those categories.\\\n",
    "We will then look for similarities among the rest of the dataset to classify better the books. "
   ]
  },
  {
   "cell_type": "code",
   "execution_count": null,
   "metadata": {},
   "outputs": [],
   "source": [
    "from nltk.stem import PorterStemmer\n",
    "\n",
    "ps = PorterStemmer()\n",
    "\n",
    "stem_categories = {}\n",
    "\n",
    "for cat in selected_cat:\n",
    "    stem_categories[ps.stem(cat)] = cat\n",
    "\n",
    "print(stem_categories)"
   ]
  },
  {
   "cell_type": "markdown",
   "metadata": {},
   "source": [
    "#### b. Publisher"
   ]
  },
  {
   "cell_type": "code",
   "execution_count": null,
   "metadata": {},
   "outputs": [],
   "source": [
    "publisher_count = books['publisher'].value_counts().sort_values(ascending=False)\n",
    "print(len(publisher_count))\n",
    "publisher_count.head(15)"
   ]
  },
  {
   "cell_type": "markdown",
   "metadata": {},
   "source": [
    "There are too many different publishers to create features like we did for books categories.\n",
    "Furthemore, publisher frequencies aren't that high.\n",
    "\n",
    "-> Let's keep the column like that. We will then create a feature telling if it is the same publisher depending on the book we are comparing.\n",
    "\n",
    "-> We'll do the same for \"Author\"."
   ]
  },
  {
   "cell_type": "code",
   "execution_count": null,
   "metadata": {},
   "outputs": [],
   "source": [
    "author = books['authors'].apply(lambda x : 0 if not x else x[0]['author_id'])\n",
    "author.head()"
   ]
  },
  {
   "cell_type": "markdown",
   "metadata": {},
   "source": [
    "#### c. Date\n",
    "\n",
    "We will use only the column \"Year\" to compare books between them."
   ]
  },
  {
   "cell_type": "code",
   "execution_count": null,
   "metadata": {},
   "outputs": [],
   "source": [
    "publication_year = books['publication_year'].replace(0, np.nan)"
   ]
  },
  {
   "cell_type": "code",
   "execution_count": null,
   "metadata": {},
   "outputs": [],
   "source": [
    "missing_year = round(publication_year.isna().sum()/len(publication_year)*100, 2)\n",
    "print( f\"{missing_year}% of the values are missing.\")"
   ]
  },
  {
   "cell_type": "code",
   "execution_count": null,
   "metadata": {},
   "outputs": [],
   "source": [
    "publication_year.describe()"
   ]
  },
  {
   "cell_type": "code",
   "execution_count": null,
   "metadata": {},
   "outputs": [],
   "source": [
    "publication_year.where(publication_year != np.NaN).sort_values().head(10)"
   ]
  },
  {
   "cell_type": "markdown",
   "metadata": {},
   "source": [
    "Since that at least 75% of the books as been published after 2004, we can consider those values as outliers.\n",
    "\n",
    "-> Let's set the minimum publication year as 1960.\\\n",
    "-> We will bring together all the values bellow this date to 1960.\n",
    "\n",
    "Concerning the missing values, we could :\n",
    "1. Assign them the average publication year value.\n",
    "2. Set them as the minimum (1960).\n",
    "\n",
    "-> At first, we'll choose the second option to avoid giving to this feature to much importance."
   ]
  },
  {
   "cell_type": "code",
   "execution_count": null,
   "metadata": {},
   "outputs": [],
   "source": [
    "publication_year.fillna(0, inplace=True)\n",
    "publication_year[publication_year < 1960] = 1960\n",
    "publication_year.head()"
   ]
  },
  {
   "cell_type": "code",
   "execution_count": null,
   "metadata": {},
   "outputs": [],
   "source": [
    "# MinMax Normalization\n",
    "publication_year = (publication_year - publication_year.min())/(publication_year.max()-publication_year.min())\n",
    "publication_year.head()"
   ]
  },
  {
   "cell_type": "markdown",
   "metadata": {},
   "source": [
    "#### d. Format"
   ]
  },
  {
   "cell_type": "code",
   "execution_count": null,
   "metadata": {},
   "outputs": [],
   "source": [
    "format_count = books['format'].value_counts().sort_values(ascending=False)\n",
    "print(len(format_count))\n",
    "format_count.head(10)"
   ]
  },
  {
   "cell_type": "code",
   "execution_count": null,
   "metadata": {},
   "outputs": [],
   "source": [
    "top_format = ['Paperback', 'Hardcover', 'ebook', 'Kindle Edition', 'Mass Market Paperback', 'Audiobook']\n",
    "book_format = books['format']\n",
    "book_format.fillna('Undefined', inplace=True)\n",
    "book_format.replace('ebook','Ebook', inplace=True)\n",
    "book_format = book_format.apply(lambda x : 'Audiobook' if 'Aud' in x else x)\n",
    "book_format = book_format.apply(lambda x : 'Other' if x not in top_format and x != 'Undefined' else x)\n",
    "\n",
    "book_format.head(5)"
   ]
  },
  {
   "cell_type": "code",
   "execution_count": null,
   "metadata": {},
   "outputs": [],
   "source": [
    "book_format.value_counts().sort_values(ascending=False)"
   ]
  },
  {
   "cell_type": "markdown",
   "metadata": {},
   "source": [
    "#### e. Series"
   ]
  },
  {
   "cell_type": "code",
   "execution_count": null,
   "metadata": {},
   "outputs": [],
   "source": [
    "books['series'].head()"
   ]
  },
  {
   "cell_type": "code",
   "execution_count": null,
   "metadata": {},
   "outputs": [],
   "source": [
    "is_series = books['series'].apply(lambda x: int(bool((x))))\n",
    "is_series.head()"
   ]
  },
  {
   "cell_type": "markdown",
   "metadata": {},
   "source": [
    "## 3. Sampling for Content Base Filtering\n",
    "\n",
    "Now let's create a new dataset containing the most important columns to compare books.\n",
    "\n",
    "It may include:\\\n",
    "-> Categories (most important one)\\\n",
    "-> Author\\\n",
    "-> Publisher\\\n",
    "-> Date\\\n",
    "-> Format\\\n",
    "-> Is it a serie of books ?\\\n",
    "-> ... ?"
   ]
  },
  {
   "cell_type": "code",
   "execution_count": null,
   "metadata": {},
   "outputs": [],
   "source": [
    "features = pd.DataFrame({}, columns=['book_id']+selected_cat)\n",
    "\n",
    "#Let's create a column for each categories\n",
    "#Those columns will contain the percentage of counts\n",
    "for index, row in books.iterrows():\n",
    "    new_row = [0]*len(selected_cat)\n",
    "    for cat in row['popular_shelves']:\n",
    "        for stem in stem_categories.keys():\n",
    "            if stem in cat['name']:\n",
    "                new_row[selected_cat.index(stem_categories[stem])] = int(cat['count'])\n",
    "\n",
    "    sum_count = 0\n",
    "    for value in new_row:\n",
    "        sum_count += value\n",
    "    \n",
    "    new_row = [x/sum_count if sum_count != 0 else x for x in new_row]\n",
    "    \n",
    "    new_row.insert(0, row['book_id'])\n",
    "\n",
    "    features.loc[len(features)] = new_row\n",
    "\n",
    "features['book_id'] = features['book_id'].astype(int)\n",
    "\n",
    "features.head()"
   ]
  },
  {
   "cell_type": "markdown",
   "metadata": {},
   "source": [
    "We need to check that the big majority of the books is well categories."
   ]
  },
  {
   "cell_type": "code",
   "execution_count": null,
   "metadata": {},
   "outputs": [],
   "source": [
    "nb_nocat = 0\n",
    "for index, row in features.iterrows():\n",
    "    for col in features.columns.tolist()[1:]:\n",
    "        if row[col] != 0:\n",
    "            break\n",
    "    else:\n",
    "        nb_nocat += 1\n",
    "\n",
    "print(f\"{round(nb_nocat/len(features)*100,2)}% of the books are not categorised.\")"
   ]
  },
  {
   "cell_type": "markdown",
   "metadata": {},
   "source": [
    "So we can see that a big majority of the books are well categorized.\\\n",
    "However, 15% is still a signifcant part and we might be able to improve that later.\n",
    "\n",
    "For the moment, let's keep going with those categories."
   ]
  },
  {
   "cell_type": "code",
   "execution_count": null,
   "metadata": {},
   "outputs": [],
   "source": [
    "#Add the last features\n",
    "features['author'] = author\n",
    "features['publisher'] = books['publisher']\n",
    "features['year'] = publication_year\n",
    "features['format'] = book_format\n",
    "features['is_series'] = is_series\n",
    "\n",
    "features.head()"
   ]
  },
  {
   "cell_type": "markdown",
   "metadata": {},
   "source": [
    "Now, we have a clean dataset we can start working with for a \"Content Based Filtering\" approach."
   ]
  },
  {
   "cell_type": "code",
   "execution_count": null,
   "metadata": {},
   "outputs": [],
   "source": [
    "#Export in the processed dataset in csv\n",
    "features.to_csv('data/sample/item_item_filter.csv', index=False)"
   ]
  }
 ],
 "metadata": {
  "kernelspec": {
   "display_name": "Python 3",
   "language": "python",
   "name": "python3"
  },
  "language_info": {
   "codemirror_mode": {
    "name": "ipython",
    "version": 3
   },
   "file_extension": ".py",
   "mimetype": "text/x-python",
   "name": "python",
   "nbconvert_exporter": "python",
   "pygments_lexer": "ipython3",
   "version": "3.8.8"
  }
 },
 "nbformat": 4,
 "nbformat_minor": 4
}
